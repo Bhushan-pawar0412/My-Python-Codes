{
 "cells": [
  {
   "cell_type": "markdown",
   "id": "5c057073",
   "metadata": {},
   "source": [
    "### Bubble Sort"
   ]
  },
  {
   "cell_type": "code",
   "execution_count": 21,
   "id": "fd84d3de",
   "metadata": {},
   "outputs": [
    {
     "name": "stdout",
     "output_type": "stream",
     "text": [
      "[4, 3, 6, 7, 3, 0, 4, 2, 9, 1]\n",
      "[3, 4, 6, 3, 0, 4, 2, 7, 1, 9]\n",
      "[3, 4, 3, 0, 4, 2, 6, 1, 7, 9]\n",
      "[3, 3, 0, 4, 2, 4, 1, 6, 7, 9]\n",
      "[3, 0, 3, 2, 4, 1, 4, 6, 7, 9]\n",
      "[0, 3, 2, 3, 1, 4, 4, 6, 7, 9]\n",
      "[0, 2, 3, 1, 3, 4, 4, 6, 7, 9]\n",
      "[0, 2, 1, 3, 3, 4, 4, 6, 7, 9]\n",
      "[0, 1, 2, 3, 3, 4, 4, 6, 7, 9]\n",
      "[0, 1, 2, 3, 3, 4, 4, 6, 7, 9]\n",
      "[0, 1, 2, 3, 3, 4, 4, 6, 7, 9]\n",
      "90 10\n"
     ]
    }
   ],
   "source": [
    "a=[4,3,6,7,3,0,4,2,9,1]\n",
    "n=len(a)\n",
    "inner_count,outer_count=0,0\n",
    "print(a)\n",
    "for i in range(n):\n",
    "    for j in range(n-1):            #Once the largest element goes to the end, next loop also running till end i.e. on sorted part as well.\n",
    "        if a[j] > a[j+1]:\n",
    "            a[j],a[j+1]=a[j+1],a[j]\n",
    "        inner_count+=1\n",
    "    outer_count+=1\n",
    "    print(a)\n",
    "print(inner_count,outer_count)"
   ]
  },
  {
   "cell_type": "code",
   "execution_count": 24,
   "id": "50ce587e",
   "metadata": {},
   "outputs": [
    {
     "name": "stdout",
     "output_type": "stream",
     "text": [
      "[4, 3, 6, 7, 3, 0, 4, 2, 9, 1]\n",
      "[3, 4, 6, 3, 0, 4, 2, 7, 1, 9]\n",
      "[3, 4, 3, 0, 4, 2, 6, 1, 7, 9]\n",
      "[3, 3, 0, 4, 2, 4, 1, 6, 7, 9]\n",
      "[3, 0, 3, 2, 4, 1, 4, 6, 7, 9]\n",
      "[0, 3, 2, 3, 1, 4, 4, 6, 7, 9]\n",
      "[0, 2, 3, 1, 3, 4, 4, 6, 7, 9]\n",
      "[0, 2, 1, 3, 3, 4, 4, 6, 7, 9]\n",
      "[0, 1, 2, 3, 3, 4, 4, 6, 7, 9]\n",
      "[0, 1, 2, 3, 3, 4, 4, 6, 7, 9]\n",
      "[0, 1, 2, 3, 3, 4, 4, 6, 7, 9]\n",
      "45 10\n"
     ]
    }
   ],
   "source": [
    "a=[4,3,6,7,3,0,4,2,9,1]\n",
    "n=len(a)\n",
    "inner_count,outer_count=0,0\n",
    "print(a)\n",
    "for i in range(n):\n",
    "    for j in range(n-1-i):          #Once the largest element goes to the end, sorted part is excluded in next loop.\n",
    "        if a[j] > a[j+1]:\n",
    "            a[j],a[j+1]=a[j+1],a[j]\n",
    "        inner_count+=1\n",
    "    outer_count+=1\n",
    "    print(a)\n",
    "print(inner_count,outer_count)"
   ]
  },
  {
   "cell_type": "code",
   "execution_count": 25,
   "id": "7d0b62c4",
   "metadata": {},
   "outputs": [
    {
     "name": "stdout",
     "output_type": "stream",
     "text": [
      "[4, 3, 6, 7, 3, 0, 4, 2, 9, 1]\n",
      "[4, 6, 7, 3, 3, 4, 2, 9, 1, 0]\n",
      "[6, 7, 4, 3, 4, 3, 9, 2, 1, 0]\n",
      "[7, 6, 4, 4, 3, 9, 3, 2, 1, 0]\n",
      "[7, 6, 4, 4, 9, 3, 3, 2, 1, 0]\n",
      "[7, 6, 4, 9, 4, 3, 3, 2, 1, 0]\n",
      "[7, 6, 9, 4, 4, 3, 3, 2, 1, 0]\n",
      "[7, 9, 6, 4, 4, 3, 3, 2, 1, 0]\n",
      "[9, 7, 6, 4, 4, 3, 3, 2, 1, 0]\n",
      "[9, 7, 6, 4, 4, 3, 3, 2, 1, 0]\n",
      "[9, 7, 6, 4, 4, 3, 3, 2, 1, 0]\n",
      "45 10\n"
     ]
    }
   ],
   "source": [
    "#Reverse Bubble Sort\n",
    "a=[4,3,6,7,3,0,4,2,9,1]\n",
    "n=len(a)\n",
    "inner_count,outer_count=0,0\n",
    "print(a)\n",
    "for i in range(n):\n",
    "    for j in range(n-1-i):\n",
    "        if a[j] < a[j+1]:\n",
    "            a[j],a[j+1]=a[j+1],a[j]\n",
    "        inner_count+=1\n",
    "    outer_count+=1\n",
    "    print(a)\n",
    "print(inner_count,outer_count)"
   ]
  },
  {
   "cell_type": "code",
   "execution_count": 38,
   "id": "33e984d5",
   "metadata": {},
   "outputs": [],
   "source": [
    "a=[4,3,6,7,3,4,2,9,1]\n",
    "n=len(a)\n",
    "minimum,inner_count,outer_count=0,0,0\n",
    "for i in range(n):\n",
    "    minimum=a[i]\n",
    "    for j in range(i+1,n):\n",
    "        if a[j] < minimum:\n",
    "            minimum = a[j]\n",
    "    a[i],a[j]=minimum,a[i]"
   ]
  },
  {
   "cell_type": "code",
   "execution_count": 39,
   "id": "7136a01b",
   "metadata": {},
   "outputs": [
    {
     "data": {
      "text/plain": [
       "[1, 2, 2, 2, 2, 2, 2, 2, 9]"
      ]
     },
     "execution_count": 39,
     "metadata": {},
     "output_type": "execute_result"
    }
   ],
   "source": [
    "a"
   ]
  },
  {
   "cell_type": "code",
   "execution_count": null,
   "id": "91eeb92f",
   "metadata": {},
   "outputs": [],
   "source": []
  }
 ],
 "metadata": {
  "kernelspec": {
   "display_name": "Python 3 (ipykernel)",
   "language": "python",
   "name": "python3"
  },
  "language_info": {
   "codemirror_mode": {
    "name": "ipython",
    "version": 3
   },
   "file_extension": ".py",
   "mimetype": "text/x-python",
   "name": "python",
   "nbconvert_exporter": "python",
   "pygments_lexer": "ipython3",
   "version": "3.11.5"
  }
 },
 "nbformat": 4,
 "nbformat_minor": 5
}
