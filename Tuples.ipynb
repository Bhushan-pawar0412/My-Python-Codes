{
 "cells": [
  {
   "cell_type": "markdown",
   "id": "521e031c",
   "metadata": {},
   "source": [
    "# Tuples - Immutable and Heterogeneous DST"
   ]
  },
  {
   "cell_type": "code",
   "execution_count": 1,
   "id": "7b8d1ced",
   "metadata": {},
   "outputs": [],
   "source": [
    "list_a=[1,2,3,4,5,6]\n",
    "tuple_a=(1,2,3,4,5,6)"
   ]
  },
  {
   "cell_type": "code",
   "execution_count": 2,
   "id": "904031d6",
   "metadata": {},
   "outputs": [
    {
     "name": "stdout",
     "output_type": "stream",
     "text": [
      "<class 'list'>\n"
     ]
    }
   ],
   "source": [
    "print(type(list_a))"
   ]
  },
  {
   "cell_type": "code",
   "execution_count": 3,
   "id": "2819ecf5",
   "metadata": {},
   "outputs": [
    {
     "name": "stdout",
     "output_type": "stream",
     "text": [
      "<class 'tuple'>\n"
     ]
    }
   ],
   "source": [
    "print(type(tuple_a))"
   ]
  },
  {
   "cell_type": "code",
   "execution_count": 5,
   "id": "b7ff8a73",
   "metadata": {},
   "outputs": [],
   "source": [
    "tuple_b=()                         #Blank Tuple"
   ]
  },
  {
   "cell_type": "code",
   "execution_count": 8,
   "id": "3b7dbf71",
   "metadata": {},
   "outputs": [
    {
     "name": "stdout",
     "output_type": "stream",
     "text": [
      "<class 'tuple'>\n"
     ]
    }
   ],
   "source": [
    "print(type(tuple_b))"
   ]
  },
  {
   "cell_type": "code",
   "execution_count": 18,
   "id": "480df9a2",
   "metadata": {},
   "outputs": [
    {
     "data": {
      "text/plain": [
       "int"
      ]
     },
     "execution_count": 18,
     "metadata": {},
     "output_type": "execute_result"
    }
   ],
   "source": [
    "tuple_b=(2)\n",
    "type(tuple_b)              #tuple with one element should not be declared as this."
   ]
  },
  {
   "cell_type": "code",
   "execution_count": 19,
   "id": "c67b7598",
   "metadata": {},
   "outputs": [
    {
     "data": {
      "text/plain": [
       "tuple"
      ]
     },
     "execution_count": 19,
     "metadata": {},
     "output_type": "execute_result"
    }
   ],
   "source": [
    "tuple_b=(2,)\n",
    "type(tuple_b)              #Tuple with only one element should be declared with successing commna."
   ]
  },
  {
   "cell_type": "markdown",
   "id": "36924774",
   "metadata": {},
   "source": [
    "### Tuple Slicing"
   ]
  },
  {
   "cell_type": "code",
   "execution_count": 10,
   "id": "3dad75fb",
   "metadata": {},
   "outputs": [
    {
     "data": {
      "text/plain": [
       "(2, 3)"
      ]
     },
     "execution_count": 10,
     "metadata": {},
     "output_type": "execute_result"
    }
   ],
   "source": [
    "tuple_a=(1,2,3,4,5,6)\n",
    "tuple_a[1:3]"
   ]
  },
  {
   "cell_type": "code",
   "execution_count": 11,
   "id": "aae24395",
   "metadata": {},
   "outputs": [
    {
     "data": {
      "text/plain": [
       "(2, 4, 6)"
      ]
     },
     "execution_count": 11,
     "metadata": {},
     "output_type": "execute_result"
    }
   ],
   "source": [
    "tuple_a[1::2]"
   ]
  },
  {
   "cell_type": "code",
   "execution_count": 12,
   "id": "1381eeef",
   "metadata": {},
   "outputs": [
    {
     "data": {
      "text/plain": [
       "(6,)"
      ]
     },
     "execution_count": 12,
     "metadata": {},
     "output_type": "execute_result"
    }
   ],
   "source": [
    "tuple_a[-1:]"
   ]
  },
  {
   "cell_type": "code",
   "execution_count": 13,
   "id": "dfe0657c",
   "metadata": {},
   "outputs": [
    {
     "data": {
      "text/plain": [
       "(6, 5, 4, 3, 2, 1)"
      ]
     },
     "execution_count": 13,
     "metadata": {},
     "output_type": "execute_result"
    }
   ],
   "source": [
    "tuple_a[-1::-1]"
   ]
  },
  {
   "cell_type": "code",
   "execution_count": 14,
   "id": "50b556c3",
   "metadata": {},
   "outputs": [
    {
     "data": {
      "text/plain": [
       "(6, 3)"
      ]
     },
     "execution_count": 14,
     "metadata": {},
     "output_type": "execute_result"
    }
   ],
   "source": [
    "tuple_a[-1::-3]"
   ]
  },
  {
   "cell_type": "code",
   "execution_count": 16,
   "id": "a8d0f117",
   "metadata": {},
   "outputs": [
    {
     "name": "stdout",
     "output_type": "stream",
     "text": [
      "20 40 60 80 100 "
     ]
    }
   ],
   "source": [
    "tuple_b=(10,20,30,40,50,60,70,80,90,100)\n",
    "for i in tuple_b:\n",
    "    if i % 20 == 0:\n",
    "        print(i,end = \" \")\n",
    "    else:\n",
    "        continue"
   ]
  },
  {
   "cell_type": "code",
   "execution_count": 23,
   "id": "cc388de7",
   "metadata": {},
   "outputs": [
    {
     "ename": "TypeError",
     "evalue": "'tuple' object is not callable",
     "output_type": "error",
     "traceback": [
      "\u001b[1;31m---------------------------------------------------------------------------\u001b[0m",
      "\u001b[1;31mTypeError\u001b[0m                                 Traceback (most recent call last)",
      "Cell \u001b[1;32mIn[23], line 2\u001b[0m\n\u001b[0;32m      1\u001b[0m list_b\u001b[38;5;241m=\u001b[39m[\u001b[38;5;241m1\u001b[39m,\u001b[38;5;241m2\u001b[39m,\u001b[38;5;241m3\u001b[39m,\u001b[38;5;241m4\u001b[39m,\u001b[38;5;241m5\u001b[39m]\n\u001b[1;32m----> 2\u001b[0m t1\u001b[38;5;241m=\u001b[39m\u001b[38;5;28mtuple\u001b[39m(list_b)\n\u001b[0;32m      3\u001b[0m \u001b[38;5;28mprint\u001b[39m(t1)\n",
      "\u001b[1;31mTypeError\u001b[0m: 'tuple' object is not callable"
     ]
    }
   ],
   "source": [
    "list_b=[1,2,3,4,5]\n",
    "t1=tuple(list_b)\n",
    "print(t1)"
   ]
  },
  {
   "cell_type": "code",
   "execution_count": 31,
   "id": "0a0c07fc",
   "metadata": {},
   "outputs": [],
   "source": [
    "string=\"this is amazing\""
   ]
  },
  {
   "cell_type": "code",
   "execution_count": 32,
   "id": "05fb3f9e",
   "metadata": {},
   "outputs": [
    {
     "ename": "TypeError",
     "evalue": "'tuple' object is not callable",
     "output_type": "error",
     "traceback": [
      "\u001b[1;31m---------------------------------------------------------------------------\u001b[0m",
      "\u001b[1;31mTypeError\u001b[0m                                 Traceback (most recent call last)",
      "Cell \u001b[1;32mIn[32], line 1\u001b[0m\n\u001b[1;32m----> 1\u001b[0m \u001b[38;5;28mtuple\u001b[39m(string)\n",
      "\u001b[1;31mTypeError\u001b[0m: 'tuple' object is not callable"
     ]
    }
   ],
   "source": [
    "tuple(string)"
   ]
  },
  {
   "cell_type": "markdown",
   "id": "8450b590",
   "metadata": {},
   "source": [
    "### Packing and Unpacking\n",
    "1. Packing: The process of assigning values to a tuple \n",
    "2. Unpacking: The process of extracting values from a tuple and assigning them to variables"
   ]
  },
  {
   "cell_type": "code",
   "execution_count": 33,
   "id": "626038f1",
   "metadata": {},
   "outputs": [],
   "source": [
    "a=(1,2,3)             #Packing\n",
    "x,y,z=a               #Unpacking"
   ]
  },
  {
   "cell_type": "code",
   "execution_count": 34,
   "id": "23046b0e",
   "metadata": {},
   "outputs": [
    {
     "name": "stdout",
     "output_type": "stream",
     "text": [
      "(1, 2, 3)\n",
      "1 2 3\n"
     ]
    }
   ],
   "source": [
    "print(a)\n",
    "print(x,y,z)"
   ]
  },
  {
   "cell_type": "code",
   "execution_count": 35,
   "id": "31c58c62",
   "metadata": {},
   "outputs": [
    {
     "ename": "ValueError",
     "evalue": "too many values to unpack (expected 2)",
     "output_type": "error",
     "traceback": [
      "\u001b[1;31m---------------------------------------------------------------------------\u001b[0m",
      "\u001b[1;31mValueError\u001b[0m                                Traceback (most recent call last)",
      "Cell \u001b[1;32mIn[35], line 2\u001b[0m\n\u001b[0;32m      1\u001b[0m a\u001b[38;5;241m=\u001b[39m(\u001b[38;5;241m1\u001b[39m,\u001b[38;5;241m2\u001b[39m,\u001b[38;5;241m3\u001b[39m)\n\u001b[1;32m----> 2\u001b[0m x,y\u001b[38;5;241m=\u001b[39ma\n",
      "\u001b[1;31mValueError\u001b[0m: too many values to unpack (expected 2)"
     ]
    }
   ],
   "source": [
    "a=(1,2,3)\n",
    "x,y=a"
   ]
  },
  {
   "cell_type": "code",
   "execution_count": 36,
   "id": "28643846",
   "metadata": {},
   "outputs": [
    {
     "ename": "ValueError",
     "evalue": "not enough values to unpack (expected 5, got 4)",
     "output_type": "error",
     "traceback": [
      "\u001b[1;31m---------------------------------------------------------------------------\u001b[0m",
      "\u001b[1;31mValueError\u001b[0m                                Traceback (most recent call last)",
      "Cell \u001b[1;32mIn[36], line 2\u001b[0m\n\u001b[0;32m      1\u001b[0m a\u001b[38;5;241m=\u001b[39m(\u001b[38;5;241m1\u001b[39m,\u001b[38;5;241m2\u001b[39m,\u001b[38;5;241m3\u001b[39m,\u001b[38;5;241m4\u001b[39m)\n\u001b[1;32m----> 2\u001b[0m p,q,r,s,t\u001b[38;5;241m=\u001b[39ma\n",
      "\u001b[1;31mValueError\u001b[0m: not enough values to unpack (expected 5, got 4)"
     ]
    }
   ],
   "source": [
    "a=(1,2,3,4)\n",
    "p,q,r,s,t=a"
   ]
  },
  {
   "cell_type": "code",
   "execution_count": 37,
   "id": "537c6325",
   "metadata": {},
   "outputs": [
    {
     "name": "stdout",
     "output_type": "stream",
     "text": [
      "Roll No 1's Name is 'Bhushan'\n",
      "Roll No 2's Name is 'Nikita'\n",
      "Roll No 3's Name is 'Shiva'\n"
     ]
    }
   ],
   "source": [
    "stud=[(1,\"Bhushan\"),(2,\"Nikita\"),(3,\"Shiva\")]\n",
    "for roll_no,name in stud:\n",
    "    print(f\"Roll No {roll_no}'s Name is '{name}'\")"
   ]
  },
  {
   "cell_type": "code",
   "execution_count": 38,
   "id": "ada75ba3",
   "metadata": {},
   "outputs": [
    {
     "name": "stdout",
     "output_type": "stream",
     "text": [
      "Roll No 1's Name is 'Bhushan'\n",
      "Roll No 2's Name is 'Nikita'\n",
      "Roll No 3's Name is 'Shiva'\n"
     ]
    }
   ],
   "source": [
    "stud=[(1,\"Bhushan\"),(2,\"Nikita\"),(3,\"Shiva\")]\n",
    "for student in stud:\n",
    "    print(f\"Roll No {student[0]}'s Name is '{student[1]}'\")"
   ]
  }
 ],
 "metadata": {
  "kernelspec": {
   "display_name": "Python 3 (ipykernel)",
   "language": "python",
   "name": "python3"
  },
  "language_info": {
   "codemirror_mode": {
    "name": "ipython",
    "version": 3
   },
   "file_extension": ".py",
   "mimetype": "text/x-python",
   "name": "python",
   "nbconvert_exporter": "python",
   "pygments_lexer": "ipython3",
   "version": "3.11.5"
  }
 },
 "nbformat": 4,
 "nbformat_minor": 5
}
