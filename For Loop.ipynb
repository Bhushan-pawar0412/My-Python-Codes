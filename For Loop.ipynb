{
 "cells": [
  {
   "cell_type": "markdown",
   "id": "6ca48549",
   "metadata": {},
   "source": [
    "### Q. 1) Print all numbers from 1 to N where N is user-defined."
   ]
  },
  {
   "cell_type": "code",
   "execution_count": 4,
   "id": "fd6c7c5f",
   "metadata": {},
   "outputs": [
    {
     "name": "stdout",
     "output_type": "stream",
     "text": [
      "Enter a number: 5\n",
      "1 2 3 4 5 "
     ]
    }
   ],
   "source": [
    "N=int(input(\"Enter a number: \"))\n",
    "for iterator in range(1,N+1):\n",
    "    print(iterator, end = \" \")"
   ]
  },
  {
   "cell_type": "markdown",
   "id": "79e0dc69",
   "metadata": {},
   "source": [
    "### Q. 2) Calculate and print sum of numbers from 1 to N, where N is user-defined"
   ]
  },
  {
   "cell_type": "code",
   "execution_count": 7,
   "id": "fb46705c",
   "metadata": {},
   "outputs": [
    {
     "name": "stdout",
     "output_type": "stream",
     "text": [
      "Enter a number: 10\n",
      "Total sum of numbers from 1 to 10 is 55\n"
     ]
    }
   ],
   "source": [
    "N=int(input(\"Enter a number: \"))\n",
    "total=0\n",
    "for iterator in range(1,N+1):\n",
    "    total += iterator\n",
    "print(f\"Total sum of numbers from 1 to {N} is\",total)"
   ]
  },
  {
   "cell_type": "markdown",
   "id": "46fbf32c",
   "metadata": {},
   "source": [
    "### Q. 3) Print all numbers from N to 1, where N is user-defined."
   ]
  },
  {
   "cell_type": "code",
   "execution_count": 8,
   "id": "c42a4ab1",
   "metadata": {},
   "outputs": [
    {
     "name": "stdout",
     "output_type": "stream",
     "text": [
      "Enter a number: 5\n",
      "5 4 3 2 1 "
     ]
    }
   ],
   "source": [
    "N=int(input(\"Enter a number: \"))\n",
    "for iterator in range(N,0,-1):\n",
    "    print(iterator, end = \" \")"
   ]
  },
  {
   "cell_type": "markdown",
   "id": "24998b16",
   "metadata": {},
   "source": [
    "### Q. 4) Print Multiplication Table of given number. "
   ]
  },
  {
   "cell_type": "code",
   "execution_count": 11,
   "id": "4923c1d8",
   "metadata": {},
   "outputs": [
    {
     "name": "stdout",
     "output_type": "stream",
     "text": [
      "Enter a number: 10\n",
      "1 * 10 is 10\n",
      "2 * 10 is 20\n",
      "3 * 10 is 30\n",
      "4 * 10 is 40\n",
      "5 * 10 is 50\n",
      "6 * 10 is 60\n",
      "7 * 10 is 70\n",
      "8 * 10 is 80\n",
      "9 * 10 is 90\n",
      "10 * 10 is 100\n"
     ]
    }
   ],
   "source": [
    "n=int(input(\"Enter a number: \"))\n",
    "for i in range(1,11):\n",
    "    print(f\"{i} * {n} is\",i*n)"
   ]
  },
  {
   "cell_type": "markdown",
   "id": "3bf10154",
   "metadata": {},
   "source": [
    "### Q. 5) Take 2 numbers as input and find GCD of them."
   ]
  },
  {
   "cell_type": "code",
   "execution_count": 25,
   "id": "02f52d6d",
   "metadata": {},
   "outputs": [
    {
     "name": "stdout",
     "output_type": "stream",
     "text": [
      "Enter the First Number: 24\n",
      "Enter the Second Number: 16\n",
      "GCD of 24 and 16 is 8\n"
     ]
    }
   ],
   "source": [
    "num1 = int(input(\"Enter the First Number: \"))\n",
    "num2 = int(input(\"Enter the Second Number: \"))\n",
    "if num1 > num2:\n",
    "    minimum = num2\n",
    "else:\n",
    "    minimum = num1\n",
    "for i in range (minimum,0,-1):\n",
    "    if num1 % i == 0 and num2 % i == 0:\n",
    "            break\n",
    "print(f\"GCD of {num1} and {num2} is\",i)\n"
   ]
  }
 ],
 "metadata": {
  "kernelspec": {
   "display_name": "Python 3 (ipykernel)",
   "language": "python",
   "name": "python3"
  },
  "language_info": {
   "codemirror_mode": {
    "name": "ipython",
    "version": 3
   },
   "file_extension": ".py",
   "mimetype": "text/x-python",
   "name": "python",
   "nbconvert_exporter": "python",
   "pygments_lexer": "ipython3",
   "version": "3.11.5"
  }
 },
 "nbformat": 4,
 "nbformat_minor": 5
}
