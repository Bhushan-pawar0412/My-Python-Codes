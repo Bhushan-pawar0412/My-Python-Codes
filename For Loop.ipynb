{
 "cells": [
  {
   "cell_type": "markdown",
   "id": "43ea5225",
   "metadata": {},
   "source": [
    "### Q. 1) Print all numbers from 1 to N where N is user-defined."
   ]
  },
  {
   "cell_type": "code",
   "execution_count": 4,
   "id": "07e0eab7",
   "metadata": {},
   "outputs": [
    {
     "name": "stdout",
     "output_type": "stream",
     "text": [
      "Enter a number: 5\n",
      "1 2 3 4 5 "
     ]
    }
   ],
   "source": [
    "N=int(input(\"Enter a number: \"))\n",
    "for iterator in range(1,N+1):\n",
    "    print(iterator, end = \" \")"
   ]
  },
  {
   "cell_type": "markdown",
   "id": "2a233efc",
   "metadata": {},
   "source": [
    "### Q. 2) Calculate and print sum of numbers from 1 to N, where N is user-defined"
   ]
  },
  {
   "cell_type": "code",
   "execution_count": 7,
   "id": "c19376d2",
   "metadata": {},
   "outputs": [
    {
     "name": "stdout",
     "output_type": "stream",
     "text": [
      "Enter a number: 10\n",
      "Total sum of numbers from 1 to 10 is 55\n"
     ]
    }
   ],
   "source": [
    "N=int(input(\"Enter a number: \"))\n",
    "total=0\n",
    "for iterator in range(1,N+1):\n",
    "    total += iterator\n",
    "print(f\"Total sum of numbers from 1 to {N} is\",total)"
   ]
  },
  {
   "cell_type": "markdown",
   "id": "349632ba",
   "metadata": {},
   "source": [
    "### Q. 3) Print all numbers from N to 1, where N is user-defined."
   ]
  },
  {
   "cell_type": "code",
   "execution_count": 8,
   "id": "18290d40",
   "metadata": {},
   "outputs": [
    {
     "name": "stdout",
     "output_type": "stream",
     "text": [
      "Enter a number: 5\n",
      "5 4 3 2 1 "
     ]
    }
   ],
   "source": [
    "N=int(input(\"Enter a number: \"))\n",
    "for iterator in range(N,0,-1):\n",
    "    print(iterator, end = \" \")"
   ]
  },
  {
   "cell_type": "code",
   "execution_count": null,
   "id": "4b28e629",
   "metadata": {},
   "outputs": [],
   "source": []
  }
 ],
 "metadata": {
  "kernelspec": {
   "display_name": "Python 3 (ipykernel)",
   "language": "python",
   "name": "python3"
  },
  "language_info": {
   "codemirror_mode": {
    "name": "ipython",
    "version": 3
   },
   "file_extension": ".py",
   "mimetype": "text/x-python",
   "name": "python",
   "nbconvert_exporter": "python",
   "pygments_lexer": "ipython3",
   "version": "3.11.5"
  }
 },
 "nbformat": 4,
 "nbformat_minor": 5
}
