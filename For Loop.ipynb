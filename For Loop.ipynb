{
 "cells": [
  {
   "cell_type": "markdown",
   "id": "26bb6ef7",
   "metadata": {},
   "source": [
    "### Q. 1) Print all numbers from 1 to N where N is user-defined."
   ]
  },
  {
   "cell_type": "code",
   "execution_count": 4,
   "id": "26680e08",
   "metadata": {},
   "outputs": [
    {
     "name": "stdout",
     "output_type": "stream",
     "text": [
      "Enter a number: 5\n",
      "1 2 3 4 5 "
     ]
    }
   ],
   "source": [
    "N=int(input(\"Enter a number: \"))\n",
    "for iterator in range(1,N+1):\n",
    "    print(iterator, end = \" \")"
   ]
  },
  {
   "cell_type": "markdown",
   "id": "8c8bac18",
   "metadata": {},
   "source": [
    "### Q. 2) Calculate and print sum of numbers from 1 to N, where N is user-defined"
   ]
  },
  {
   "cell_type": "code",
   "execution_count": 7,
   "id": "a1695bba",
   "metadata": {},
   "outputs": [
    {
     "name": "stdout",
     "output_type": "stream",
     "text": [
      "Enter a number: 10\n",
      "Total sum of numbers from 1 to 10 is 55\n"
     ]
    }
   ],
   "source": [
    "N=int(input(\"Enter a number: \"))\n",
    "total=0\n",
    "for iterator in range(1,N+1):\n",
    "    total += iterator\n",
    "print(f\"Total sum of numbers from 1 to {N} is\",total)"
   ]
  },
  {
   "cell_type": "markdown",
   "id": "8ea17ac2",
   "metadata": {},
   "source": [
    "### Q. 3) Print all numbers from N to 1, where N is user-defined."
   ]
  },
  {
   "cell_type": "code",
   "execution_count": 8,
   "id": "dcec5d4b",
   "metadata": {},
   "outputs": [
    {
     "name": "stdout",
     "output_type": "stream",
     "text": [
      "Enter a number: 5\n",
      "5 4 3 2 1 "
     ]
    }
   ],
   "source": [
    "N=int(input(\"Enter a number: \"))\n",
    "for iterator in range(N,0,-1):\n",
    "    print(iterator, end = \" \")"
   ]
  },
  {
   "cell_type": "markdown",
   "id": "3dc0223f",
   "metadata": {},
   "source": [
    "### Q. 4) Print Multiplication Table of given number. "
   ]
  },
  {
   "cell_type": "code",
   "execution_count": 11,
   "id": "7521ef1c",
   "metadata": {},
   "outputs": [
    {
     "name": "stdout",
     "output_type": "stream",
     "text": [
      "Enter a number: 10\n",
      "1 * 10 is 10\n",
      "2 * 10 is 20\n",
      "3 * 10 is 30\n",
      "4 * 10 is 40\n",
      "5 * 10 is 50\n",
      "6 * 10 is 60\n",
      "7 * 10 is 70\n",
      "8 * 10 is 80\n",
      "9 * 10 is 90\n",
      "10 * 10 is 100\n"
     ]
    }
   ],
   "source": [
    "n=int(input(\"Enter a number: \"))\n",
    "for i in range(1,11):\n",
    "    print(f\"{i} * {n} is\",i*n)"
   ]
  },
  {
   "cell_type": "code",
   "execution_count": null,
   "id": "943b4225",
   "metadata": {},
   "outputs": [],
   "source": []
  }
 ],
 "metadata": {
  "kernelspec": {
   "display_name": "Python 3 (ipykernel)",
   "language": "python",
   "name": "python3"
  },
  "language_info": {
   "codemirror_mode": {
    "name": "ipython",
    "version": 3
   },
   "file_extension": ".py",
   "mimetype": "text/x-python",
   "name": "python",
   "nbconvert_exporter": "python",
   "pygments_lexer": "ipython3",
   "version": "3.11.5"
  }
 },
 "nbformat": 4,
 "nbformat_minor": 5
}
