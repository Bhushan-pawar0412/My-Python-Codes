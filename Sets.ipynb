{
 "cells": [
  {
   "cell_type": "markdown",
   "id": "db46a9ae",
   "metadata": {},
   "source": [
    "# Sets - Unordered DST\n",
    "1. Store Unique values\n",
    "2. Can't have lists,tuples,dictionaries inside it\n",
    "3. Can't access elements of set."
   ]
  },
  {
   "cell_type": "code",
   "execution_count": 2,
   "id": "4391942d",
   "metadata": {},
   "outputs": [
    {
     "name": "stdout",
     "output_type": "stream",
     "text": [
      "{1, 2, 3, 4, 5}\n"
     ]
    },
    {
     "data": {
      "text/plain": [
       "set"
      ]
     },
     "execution_count": 2,
     "metadata": {},
     "output_type": "execute_result"
    }
   ],
   "source": [
    "s={1,2,3,4,5,1}\n",
    "print(s)\n",
    "type(s)"
   ]
  },
  {
   "cell_type": "code",
   "execution_count": 8,
   "id": "e45e7309",
   "metadata": {},
   "outputs": [
    {
     "name": "stdout",
     "output_type": "stream",
     "text": [
      "<class 'dict'>\n",
      "<class 'tuple'>\n",
      "<class 'set'>\n"
     ]
    }
   ],
   "source": [
    "#Black Set declaration\n",
    "blank_set={}                   #Wrong\n",
    "print(type(blank_set))\n",
    "\n",
    "blank_set1=()                  #Wrong\n",
    "print(type(blank_set1))\n",
    "\n",
    "blank_set2=set()               #Correct\n",
    "print(type(blank_set2))"
   ]
  },
  {
   "cell_type": "code",
   "execution_count": 9,
   "id": "1dadde06",
   "metadata": {},
   "outputs": [
    {
     "ename": "TypeError",
     "evalue": "'set' object is not subscriptable",
     "output_type": "error",
     "traceback": [
      "\u001b[1;31m---------------------------------------------------------------------------\u001b[0m",
      "\u001b[1;31mTypeError\u001b[0m                                 Traceback (most recent call last)",
      "Cell \u001b[1;32mIn[9], line 1\u001b[0m\n\u001b[1;32m----> 1\u001b[0m s[\u001b[38;5;241m0\u001b[39m]\n",
      "\u001b[1;31mTypeError\u001b[0m: 'set' object is not subscriptable"
     ]
    }
   ],
   "source": [
    "s[0]"
   ]
  },
  {
   "cell_type": "markdown",
   "id": "6e1c7145",
   "metadata": {},
   "source": [
    "### Set Operations"
   ]
  },
  {
   "cell_type": "code",
   "execution_count": 16,
   "id": "0daaae77",
   "metadata": {},
   "outputs": [
    {
     "name": "stdout",
     "output_type": "stream",
     "text": [
      "{1, 2, 3, 4, 5, 6}\n"
     ]
    }
   ],
   "source": [
    "s={1,2,3,3,4,5,6,5,4,3}\n",
    "print(s)"
   ]
  },
  {
   "cell_type": "code",
   "execution_count": 17,
   "id": "cb7787ee",
   "metadata": {},
   "outputs": [
    {
     "name": "stdout",
     "output_type": "stream",
     "text": [
      "{2, 3, 4, 5, 6}\n"
     ]
    }
   ],
   "source": [
    "s.pop()                           #Removes first element\n",
    "print(s)"
   ]
  },
  {
   "cell_type": "code",
   "execution_count": 18,
   "id": "a758083d",
   "metadata": {},
   "outputs": [
    {
     "name": "stdout",
     "output_type": "stream",
     "text": [
      "{2, 3, 4, 5, 6, 7}\n"
     ]
    }
   ],
   "source": [
    "s.add(7)\n",
    "print(s)"
   ]
  },
  {
   "cell_type": "code",
   "execution_count": 21,
   "id": "2b2776d9",
   "metadata": {},
   "outputs": [
    {
     "name": "stdout",
     "output_type": "stream",
     "text": [
      "{1, 2, 3, 4, 5, 6, 7, 8, 9}\n"
     ]
    }
   ],
   "source": [
    "s.update((1,2,9,8))\n",
    "print(s)"
   ]
  },
  {
   "cell_type": "code",
   "execution_count": 22,
   "id": "6e731cac",
   "metadata": {},
   "outputs": [
    {
     "name": "stdout",
     "output_type": "stream",
     "text": [
      "{1, 2, 4, 5, 6, 7, 8, 9}\n"
     ]
    }
   ],
   "source": [
    "s.remove(3)\n",
    "print(s)"
   ]
  },
  {
   "cell_type": "markdown",
   "id": "21c7fb6b",
   "metadata": {},
   "source": [
    "### Given a string, print no of unique characters in it."
   ]
  },
  {
   "cell_type": "code",
   "execution_count": 27,
   "id": "068d3937",
   "metadata": {},
   "outputs": [],
   "source": [
    "string=\"My name is bhushan\"\n",
    "s=set(string)"
   ]
  },
  {
   "cell_type": "code",
   "execution_count": 31,
   "id": "fa3aa13f",
   "metadata": {},
   "outputs": [
    {
     "name": "stdout",
     "output_type": "stream",
     "text": [
      "Set of unique characters in string is {'e', ' ', 'M', 'h', 'a', 's', 'b', 'i', 'n', 'm', 'u', 'y'}\n",
      "Number of Unique characters are 12\n"
     ]
    }
   ],
   "source": [
    "print(f\"Set of unique characters in string is {s}\\nNumber of Unique characters are {len(s)}\")"
   ]
  },
  {
   "cell_type": "markdown",
   "id": "ce6084f7",
   "metadata": {},
   "source": [
    "### Set Operations\n",
    "1. Union (A | B) -> All elements from A and B.\n",
    "2. Intersection (A and B) / (A & B) -> All common elements from A and B.\n",
    "3. Set Difference (A - B) / (A or B)-(A and B) -> All elements that are in A but not in B.\n",
    "4. Symmetric Difference (A ^ B) -> All un-common elements from A and B."
   ]
  },
  {
   "cell_type": "code",
   "execution_count": 43,
   "id": "781de24f",
   "metadata": {},
   "outputs": [
    {
     "name": "stdout",
     "output_type": "stream",
     "text": [
      "Set A: {1, 2, 3, 4, 5, 6, 7}\n",
      "Set B: {0, 4, 5, 6, 7, 8, 9}\n"
     ]
    }
   ],
   "source": [
    "A={1,2,3,4,5,6,7}\n",
    "B={4,5,6,7,8,9,0}\n",
    "\n",
    "print(f\"Set A: {A}\\nSet B: {B}\")"
   ]
  },
  {
   "cell_type": "code",
   "execution_count": 61,
   "id": "f9245e21",
   "metadata": {},
   "outputs": [
    {
     "name": "stdout",
     "output_type": "stream",
     "text": [
      "{0, 1, 2, 3, 4, 5, 6, 7, 8, 9}\n"
     ]
    }
   ],
   "source": [
    "#Union -> All elements\n",
    "print(A | B)"
   ]
  },
  {
   "cell_type": "code",
   "execution_count": 65,
   "id": "a141158f",
   "metadata": {},
   "outputs": [
    {
     "name": "stdout",
     "output_type": "stream",
     "text": [
      "{0, 1, 2, 3, 8, 9}\n"
     ]
    },
    {
     "data": {
      "text/plain": [
       "{1, 2, 3}"
      ]
     },
     "execution_count": 65,
     "metadata": {},
     "output_type": "execute_result"
    }
   ],
   "source": [
    "#Symmetric Difference -> Un-common elements\n",
    "print(A ^ B)\n"
   ]
  },
  {
   "cell_type": "code",
   "execution_count": 63,
   "id": "ac16b581",
   "metadata": {},
   "outputs": [
    {
     "name": "stdout",
     "output_type": "stream",
     "text": [
      "{4, 5, 6, 7}\n"
     ]
    }
   ],
   "source": [
    "#Intersection -> Common elements\n",
    "print(A & B)"
   ]
  },
  {
   "cell_type": "code",
   "execution_count": 67,
   "id": "dc0fb976",
   "metadata": {},
   "outputs": [
    {
     "name": "stdout",
     "output_type": "stream",
     "text": [
      "{1, 2, 3}\n",
      "{1, 2, 3}\n",
      "{1, 2, 3}\n",
      "{0, 8, 9}\n",
      "{0, 8, 9}\n",
      "{0, 8, 9}\n"
     ]
    }
   ],
   "source": [
    "#Set Difference\n",
    "print(A.difference(B))\n",
    "print(A - B)\n",
    "print((A or B)-(A and B))\n",
    "\n",
    "print(B.difference(A))\n",
    "print(B - A)\n",
    "print((B or A)-(B and A))"
   ]
  }
 ],
 "metadata": {
  "kernelspec": {
   "display_name": "Python 3 (ipykernel)",
   "language": "python",
   "name": "python3"
  },
  "language_info": {
   "codemirror_mode": {
    "name": "ipython",
    "version": 3
   },
   "file_extension": ".py",
   "mimetype": "text/x-python",
   "name": "python",
   "nbconvert_exporter": "python",
   "pygments_lexer": "ipython3",
   "version": "3.11.5"
  }
 },
 "nbformat": 4,
 "nbformat_minor": 5
}
