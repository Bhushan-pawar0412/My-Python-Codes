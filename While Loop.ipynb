{
 "cells": [
  {
   "cell_type": "markdown",
   "id": "be55d858",
   "metadata": {},
   "source": [
    "### Q. 1) Take a Positive Integer N as input and print all number from 1 to N."
   ]
  },
  {
   "cell_type": "code",
   "execution_count": 5,
   "id": "0928ffc1",
   "metadata": {},
   "outputs": [
    {
     "name": "stdout",
     "output_type": "stream",
     "text": [
      "Enter a number: 10\n",
      "1,2,3,4,5,6,7,8,9,10"
     ]
    }
   ],
   "source": [
    "N=int(input(\"Enter a number: \"))\n",
    "iterator=1\n",
    "while iterator <= N:\n",
    "    if iterator == N:\n",
    "        print(iterator, end = \"\")\n",
    "    else:\n",
    "        print(iterator, end = \",\")\n",
    "    iterator += 1"
   ]
  },
  {
   "cell_type": "markdown",
   "id": "3ad9d18d",
   "metadata": {},
   "source": [
    "### Q. 2)  Take a number N as input and print Every alternate number from 1 as well as Iterations."
   ]
  },
  {
   "cell_type": "code",
   "execution_count": 10,
   "id": "37b368f7",
   "metadata": {},
   "outputs": [
    {
     "name": "stdout",
     "output_type": "stream",
     "text": [
      "Enter a number: 15\n",
      "1,3,5,7,9,11,13,15\n",
      "Number of Iterations are 8\n"
     ]
    }
   ],
   "source": [
    "N=int(input(\"Enter a number: \"))\n",
    "iterator=1\n",
    "iterations=0\n",
    "while iterator <= N:\n",
    "    if iterator == N:\n",
    "        print(iterator, end = \"\")\n",
    "    else:\n",
    "        print(iterator, end = \",\")\n",
    "    iterator += 2\n",
    "    iterations += 1\n",
    "print(\"\\nNumber of Iterations are\",iterations)"
   ]
  },
  {
   "cell_type": "markdown",
   "id": "94038ed7",
   "metadata": {},
   "source": [
    "### Q. 3) Take 2 inputs from user .i.e. Start and End. Print every 3rd number between start and end."
   ]
  },
  {
   "cell_type": "code",
   "execution_count": 21,
   "id": "00c8e693",
   "metadata": {},
   "outputs": [
    {
     "name": "stdout",
     "output_type": "stream",
     "text": [
      "Enter Starting point: 10\n",
      "Enter Ending point: 30\n",
      "10 13 16 19 22 25 28 \n",
      "Number of Iterations are 7\n"
     ]
    }
   ],
   "source": [
    "start = int(input(\"Enter Starting point: \"))\n",
    "stop = int(input(\"Enter Ending point: \"))\n",
    "iterations =0\n",
    "while start <= stop:\n",
    "    print(start, end = \"\")\n",
    "    start += 3\n",
    "    iterations += 1\n",
    "print(\"\\nNumber of Iterations are\",iterations)"
   ]
  },
  {
   "cell_type": "markdown",
   "id": "316e2af7",
   "metadata": {},
   "source": [
    "### Q. 4) Take 2 inputs from user .i.e. Start and End. Print even numbers between start and end."
   ]
  },
  {
   "cell_type": "code",
   "execution_count": 24,
   "id": "2069674d",
   "metadata": {},
   "outputs": [
    {
     "name": "stdout",
     "output_type": "stream",
     "text": [
      "Enter Starting point: 16\n",
      "Enter Ending point: 30\n",
      "16 18 20 22 24 26 28 30 \n",
      "Number of Iterations are 15\n"
     ]
    }
   ],
   "source": [
    "start = int(input(\"Enter Starting point: \"))\n",
    "stop = int(input(\"Enter Ending point: \"))\n",
    "iterations =0\n",
    "while start <= stop:\n",
    "    if start % 2 == 0:\n",
    "        print(start, end = \" \")\n",
    "    start += 1\n",
    "    iterations += 1\n",
    "print(\"\\nNumber of Iterations are\",iterations)"
   ]
  },
  {
   "cell_type": "markdown",
   "id": "5f5346b1",
   "metadata": {},
   "source": [
    "### Q. 5) Take a Integer as Input. Print multiplication table till 10th multiple."
   ]
  },
  {
   "cell_type": "code",
   "execution_count": 27,
   "id": "af7d4951",
   "metadata": {},
   "outputs": [
    {
     "name": "stdout",
     "output_type": "stream",
     "text": [
      "Enter a Number: 5\n",
      "1 multiple of 5 is 5\n",
      "2 multiple of 5 is 10\n",
      "3 multiple of 5 is 15\n",
      "4 multiple of 5 is 20\n",
      "5 multiple of 5 is 25\n",
      "6 multiple of 5 is 30\n",
      "7 multiple of 5 is 35\n",
      "8 multiple of 5 is 40\n",
      "9 multiple of 5 is 45\n",
      "10 multiple of 5 is 50\n"
     ]
    }
   ],
   "source": [
    "num=int(input(\"Enter a Number: \"))\n",
    "i=1\n",
    "while i < 11:\n",
    "    print(f\"{i} multiple of {num} is\",i*num)\n",
    "    i += 1"
   ]
  },
  {
   "cell_type": "markdown",
   "id": "5604e097",
   "metadata": {},
   "source": [
    "## Loop within Loop\n",
    "### Q. 5) Take a Integer as Test case. For every testcase, get a user-defined number and Print multiplication table till 10th multiple."
   ]
  },
  {
   "cell_type": "code",
   "execution_count": 30,
   "id": "167cda94",
   "metadata": {},
   "outputs": [
    {
     "name": "stdout",
     "output_type": "stream",
     "text": [
      "Enter number of Test Cases: 3\n",
      "Enter a Number: 2\n",
      "1 multiple of 2 is 2\n",
      "2 multiple of 2 is 4\n",
      "3 multiple of 2 is 6\n",
      "4 multiple of 2 is 8\n",
      "5 multiple of 2 is 10\n",
      "6 multiple of 2 is 12\n",
      "7 multiple of 2 is 14\n",
      "8 multiple of 2 is 16\n",
      "9 multiple of 2 is 18\n",
      "10 multiple of 2 is 20\n",
      "Enter a Number: 6\n",
      "1 multiple of 6 is 6\n",
      "2 multiple of 6 is 12\n",
      "3 multiple of 6 is 18\n",
      "4 multiple of 6 is 24\n",
      "5 multiple of 6 is 30\n",
      "6 multiple of 6 is 36\n",
      "7 multiple of 6 is 42\n",
      "8 multiple of 6 is 48\n",
      "9 multiple of 6 is 54\n",
      "10 multiple of 6 is 60\n",
      "Enter a Number: 9\n",
      "1 multiple of 9 is 9\n",
      "2 multiple of 9 is 18\n",
      "3 multiple of 9 is 27\n",
      "4 multiple of 9 is 36\n",
      "5 multiple of 9 is 45\n",
      "6 multiple of 9 is 54\n",
      "7 multiple of 9 is 63\n",
      "8 multiple of 9 is 72\n",
      "9 multiple of 9 is 81\n",
      "10 multiple of 9 is 90\n"
     ]
    }
   ],
   "source": [
    "test_case = int(input(\"Enter number of Test Cases: \"))\n",
    "test = 0\n",
    "while test < test_case:\n",
    "    num=int(input(\"Enter a Number: \"))\n",
    "    iterator=1\n",
    "    while iterator < 11:\n",
    "        print(f\"{iterator} multiple of {num} is\",iterator*num)\n",
    "        iterator += 1\n",
    "    test += 1"
   ]
  },
  {
   "cell_type": "markdown",
   "id": "fd5c094d",
   "metadata": {},
   "source": [
    "### Q. 6) Print Perfect Square numbers between 1 to N, where N is user-defined."
   ]
  },
  {
   "cell_type": "code",
   "execution_count": 35,
   "id": "6bb2da64",
   "metadata": {},
   "outputs": [
    {
     "name": "stdout",
     "output_type": "stream",
     "text": [
      "Enter a number: 100\n",
      "1 4 9 16 25 36 49 64 81 100 "
     ]
    }
   ],
   "source": [
    "N=int(input(\"Enter a number: \"))\n",
    "iterator=1\n",
    "while iterator * iterator <= N:\n",
    "    print(iterator * iterator , end = \" \")\n",
    "    iterator += 1"
   ]
  },
  {
   "cell_type": "markdown",
   "id": "03ab882a",
   "metadata": {},
   "source": [
    "## Break Statement\n",
    "### Q. 7) program to continuously take input from user. Stop accepting inputs as soon as user gives input as '5'."
   ]
  },
  {
   "cell_type": "code",
   "execution_count": 37,
   "id": "cc2c3420",
   "metadata": {},
   "outputs": [
    {
     "name": "stdout",
     "output_type": "stream",
     "text": [
      "Enter a number: 6\n",
      "Enter a number: 9\n",
      "Enter a number: 3\n",
      "Enter a number: 1\n",
      "Enter a number: 54\n",
      "Enter a number: 5\n"
     ]
    }
   ],
   "source": [
    "while True:\n",
    "    num = int(input(\"Enter a number: \"))\n",
    "    if num == 5:\n",
    "        break"
   ]
  },
  {
   "cell_type": "markdown",
   "id": "24a2bff4",
   "metadata": {},
   "source": [
    "### Q. 8) Take 2 numbers as input. Find GCD of given 2 numbers."
   ]
  },
  {
   "cell_type": "code",
   "execution_count": 45,
   "id": "6a45b776",
   "metadata": {},
   "outputs": [
    {
     "name": "stdout",
     "output_type": "stream",
     "text": [
      "Enter First Number: 16\n",
      "Enter Second Number: 24\n",
      "GCD of 16 and 24 is 8\n"
     ]
    }
   ],
   "source": [
    "num1=int(input(\"Enter First Number: \"))\n",
    "num2=int(input(\"Enter Second Number: \"))\n",
    "if num1 > num2:\n",
    "    minimum = num2\n",
    "else:\n",
    "    minimum = num1\n",
    "while mini > 0:\n",
    "    if num1 % minimum == 0 and num2 % minimum == 0:\n",
    "        break\n",
    "    else:\n",
    "        minimum -= 1\n",
    "print(f\"GCD of {num1} and {num2} is\",minimum)"
   ]
  },
  {
   "cell_type": "markdown",
   "id": "8050893d",
   "metadata": {},
   "source": [
    "### Q. 8) Take 2 numbers as input. Find LCM of given 2 numbers."
   ]
  },
  {
   "cell_type": "code",
   "execution_count": 48,
   "id": "6fd62d10",
   "metadata": {},
   "outputs": [
    {
     "name": "stdout",
     "output_type": "stream",
     "text": [
      "Enter First Number: 16\n",
      "Enter Second Number: 24\n",
      "LCM of 16 and 24 is 48\n"
     ]
    }
   ],
   "source": [
    "num1=int(input(\"Enter First Number: \"))\n",
    "num2=int(input(\"Enter Second Number: \"))\n",
    "if num1 > num2:\n",
    "    maximum = num1\n",
    "else:\n",
    "    maximum = num2\n",
    "while True:\n",
    "    if maximum % num1 == 0 and maximum % num2 == 0:\n",
    "        break\n",
    "    maximum += 1\n",
    "print(f\"LCM of {num1} and {num2} is\",maximum)"
   ]
  },
  {
   "cell_type": "code",
   "execution_count": null,
   "id": "b29b6da0",
   "metadata": {},
   "outputs": [],
   "source": []
  }
 ],
 "metadata": {
  "kernelspec": {
   "display_name": "Python 3 (ipykernel)",
   "language": "python",
   "name": "python3"
  },
  "language_info": {
   "codemirror_mode": {
    "name": "ipython",
    "version": 3
   },
   "file_extension": ".py",
   "mimetype": "text/x-python",
   "name": "python",
   "nbconvert_exporter": "python",
   "pygments_lexer": "ipython3",
   "version": "3.11.5"
  }
 },
 "nbformat": 4,
 "nbformat_minor": 5
}
