{
 "cells": [
  {
   "cell_type": "markdown",
   "id": "d656ec02",
   "metadata": {},
   "source": [
    "### Q. 1) Take a Positive Integer N as input and print all number from 1 to N."
   ]
  },
  {
   "cell_type": "code",
   "execution_count": 5,
   "id": "58c04dca",
   "metadata": {},
   "outputs": [
    {
     "name": "stdout",
     "output_type": "stream",
     "text": [
      "Enter a number: 10\n",
      "1,2,3,4,5,6,7,8,9,10"
     ]
    }
   ],
   "source": [
    "N=int(input(\"Enter a number: \"))\n",
    "iterator=1\n",
    "while iterator <= N:\n",
    "    if iterator == N:\n",
    "        print(iterator, end = \"\")\n",
    "    else:\n",
    "        print(iterator, end = \",\")\n",
    "    iterator += 1"
   ]
  },
  {
   "cell_type": "markdown",
   "id": "056568a0",
   "metadata": {},
   "source": [
    "### Q. 2)  Take a number N as input and print Every alternate number from 1 as well as Iterations."
   ]
  },
  {
   "cell_type": "code",
   "execution_count": 10,
   "id": "19bc29dc",
   "metadata": {},
   "outputs": [
    {
     "name": "stdout",
     "output_type": "stream",
     "text": [
      "Enter a number: 15\n",
      "1,3,5,7,9,11,13,15\n",
      "Number of Iterations are 8\n"
     ]
    }
   ],
   "source": [
    "N=int(input(\"Enter a number: \"))\n",
    "iterator=1\n",
    "iterations=0\n",
    "while iterator <= N:\n",
    "    if iterator == N:\n",
    "        print(iterator, end = \"\")\n",
    "    else:\n",
    "        print(iterator, end = \",\")\n",
    "    iterator += 2\n",
    "    iterations += 1\n",
    "print(\"\\nNumber of Iterations are\",iterations)"
   ]
  },
  {
   "cell_type": "markdown",
   "id": "ca5f582a",
   "metadata": {},
   "source": [
    "### Q. 3) Take 2 inputs from user .i.e. Start and End. Print every 3rd number between start and end."
   ]
  },
  {
   "cell_type": "code",
   "execution_count": 21,
   "id": "70561f20",
   "metadata": {},
   "outputs": [
    {
     "name": "stdout",
     "output_type": "stream",
     "text": [
      "Enter Starting point: 10\n",
      "Enter Ending point: 30\n",
      "10 13 16 19 22 25 28 \n",
      "Number of Iterations are 7\n"
     ]
    }
   ],
   "source": [
    "start = int(input(\"Enter Starting point: \"))\n",
    "stop = int(input(\"Enter Ending point: \"))\n",
    "iterations =0\n",
    "while start <= stop:\n",
    "    print(start, end = \"\")\n",
    "    start += 3\n",
    "    iterations += 1\n",
    "print(\"\\nNumber of Iterations are\",iterations)"
   ]
  },
  {
   "cell_type": "markdown",
   "id": "7dfd7533",
   "metadata": {},
   "source": [
    "### Q. 4) Take 2 inputs from user .i.e. Start and End. Print even numbers between start and end."
   ]
  },
  {
   "cell_type": "code",
   "execution_count": 24,
   "id": "24034d9e",
   "metadata": {},
   "outputs": [
    {
     "name": "stdout",
     "output_type": "stream",
     "text": [
      "Enter Starting point: 16\n",
      "Enter Ending point: 30\n",
      "16 18 20 22 24 26 28 30 \n",
      "Number of Iterations are 15\n"
     ]
    }
   ],
   "source": [
    "start = int(input(\"Enter Starting point: \"))\n",
    "stop = int(input(\"Enter Ending point: \"))\n",
    "iterations =0\n",
    "while start <= stop:\n",
    "    if start % 2 == 0:\n",
    "        print(start, end = \" \")\n",
    "    start += 1\n",
    "    iterations += 1\n",
    "print(\"\\nNumber of Iterations are\",iterations)"
   ]
  },
  {
   "cell_type": "markdown",
   "id": "b36739b3",
   "metadata": {},
   "source": [
    "### Q. 5) Take a Integer as Input. Print multiplication table till 10th multiple."
   ]
  },
  {
   "cell_type": "code",
   "execution_count": 27,
   "id": "89080d24",
   "metadata": {},
   "outputs": [
    {
     "name": "stdout",
     "output_type": "stream",
     "text": [
      "Enter a Number: 5\n",
      "1 multiple of 5 is 5\n",
      "2 multiple of 5 is 10\n",
      "3 multiple of 5 is 15\n",
      "4 multiple of 5 is 20\n",
      "5 multiple of 5 is 25\n",
      "6 multiple of 5 is 30\n",
      "7 multiple of 5 is 35\n",
      "8 multiple of 5 is 40\n",
      "9 multiple of 5 is 45\n",
      "10 multiple of 5 is 50\n"
     ]
    }
   ],
   "source": [
    "num=int(input(\"Enter a Number: \"))\n",
    "i=1\n",
    "while i < 11:\n",
    "    print(f\"{i} multiple of {num} is\",i*num)\n",
    "    i += 1"
   ]
  },
  {
   "cell_type": "markdown",
   "id": "d2c4cacd",
   "metadata": {},
   "source": [
    "## Loop within Loop\n",
    "### Q. 5) Take a Integer as Test case. For every testcase, get a user-defined number and Print multiplication table till 10th multiple."
   ]
  },
  {
   "cell_type": "code",
   "execution_count": 30,
   "id": "673cc0f3",
   "metadata": {},
   "outputs": [
    {
     "name": "stdout",
     "output_type": "stream",
     "text": [
      "Enter number of Test Cases: 3\n",
      "Enter a Number: 2\n",
      "1 multiple of 2 is 2\n",
      "2 multiple of 2 is 4\n",
      "3 multiple of 2 is 6\n",
      "4 multiple of 2 is 8\n",
      "5 multiple of 2 is 10\n",
      "6 multiple of 2 is 12\n",
      "7 multiple of 2 is 14\n",
      "8 multiple of 2 is 16\n",
      "9 multiple of 2 is 18\n",
      "10 multiple of 2 is 20\n",
      "Enter a Number: 6\n",
      "1 multiple of 6 is 6\n",
      "2 multiple of 6 is 12\n",
      "3 multiple of 6 is 18\n",
      "4 multiple of 6 is 24\n",
      "5 multiple of 6 is 30\n",
      "6 multiple of 6 is 36\n",
      "7 multiple of 6 is 42\n",
      "8 multiple of 6 is 48\n",
      "9 multiple of 6 is 54\n",
      "10 multiple of 6 is 60\n",
      "Enter a Number: 9\n",
      "1 multiple of 9 is 9\n",
      "2 multiple of 9 is 18\n",
      "3 multiple of 9 is 27\n",
      "4 multiple of 9 is 36\n",
      "5 multiple of 9 is 45\n",
      "6 multiple of 9 is 54\n",
      "7 multiple of 9 is 63\n",
      "8 multiple of 9 is 72\n",
      "9 multiple of 9 is 81\n",
      "10 multiple of 9 is 90\n"
     ]
    }
   ],
   "source": [
    "test_case = int(input(\"Enter number of Test Cases: \"))\n",
    "test = 0\n",
    "while test < test_case:\n",
    "    num=int(input(\"Enter a Number: \"))\n",
    "    iterator=1\n",
    "    while iterator < 11:\n",
    "        print(f\"{iterator} multiple of {num} is\",iterator*num)\n",
    "        iterator += 1\n",
    "    test += 1"
   ]
  }
 ],
 "metadata": {
  "kernelspec": {
   "display_name": "Python 3 (ipykernel)",
   "language": "python",
   "name": "python3"
  },
  "language_info": {
   "codemirror_mode": {
    "name": "ipython",
    "version": 3
   },
   "file_extension": ".py",
   "mimetype": "text/x-python",
   "name": "python",
   "nbconvert_exporter": "python",
   "pygments_lexer": "ipython3",
   "version": "3.11.5"
  }
 },
 "nbformat": 4,
 "nbformat_minor": 5
}
