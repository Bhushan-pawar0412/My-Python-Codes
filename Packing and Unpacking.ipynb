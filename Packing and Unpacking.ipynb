{
 "cells": [
  {
   "cell_type": "markdown",
   "id": "56b356df",
   "metadata": {},
   "source": [
    "# Packing and Unpacking\n",
    "1. Packing: The process of assigning values to a tuple \n",
    "2. Unpacking: The process of extracting values from a tuple and assigning them to variables"
   ]
  },
  {
   "cell_type": "code",
   "execution_count": 1,
   "id": "13cef87c",
   "metadata": {},
   "outputs": [],
   "source": [
    "a=(1,2,3)             #Packing\n",
    "x,y,z=a               #Unpacking"
   ]
  },
  {
   "cell_type": "code",
   "execution_count": 2,
   "id": "11e386ff",
   "metadata": {},
   "outputs": [
    {
     "name": "stdout",
     "output_type": "stream",
     "text": [
      "(1, 2, 3)\n",
      "1 2 3\n"
     ]
    }
   ],
   "source": [
    "print(a)\n",
    "print(x,y,z)"
   ]
  },
  {
   "cell_type": "code",
   "execution_count": 3,
   "id": "7e11b7aa",
   "metadata": {},
   "outputs": [
    {
     "ename": "ValueError",
     "evalue": "too many values to unpack (expected 2)",
     "output_type": "error",
     "traceback": [
      "\u001b[1;31m---------------------------------------------------------------------------\u001b[0m",
      "\u001b[1;31mValueError\u001b[0m                                Traceback (most recent call last)",
      "Cell \u001b[1;32mIn[3], line 2\u001b[0m\n\u001b[0;32m      1\u001b[0m a\u001b[38;5;241m=\u001b[39m(\u001b[38;5;241m1\u001b[39m,\u001b[38;5;241m2\u001b[39m,\u001b[38;5;241m3\u001b[39m)\n\u001b[1;32m----> 2\u001b[0m x,y\u001b[38;5;241m=\u001b[39ma\n",
      "\u001b[1;31mValueError\u001b[0m: too many values to unpack (expected 2)"
     ]
    }
   ],
   "source": [
    "a=(1,2,3)\n",
    "x,y=a"
   ]
  },
  {
   "cell_type": "code",
   "execution_count": 4,
   "id": "3ab82cb7",
   "metadata": {},
   "outputs": [
    {
     "ename": "ValueError",
     "evalue": "not enough values to unpack (expected 5, got 4)",
     "output_type": "error",
     "traceback": [
      "\u001b[1;31m---------------------------------------------------------------------------\u001b[0m",
      "\u001b[1;31mValueError\u001b[0m                                Traceback (most recent call last)",
      "Cell \u001b[1;32mIn[4], line 2\u001b[0m\n\u001b[0;32m      1\u001b[0m a\u001b[38;5;241m=\u001b[39m(\u001b[38;5;241m1\u001b[39m,\u001b[38;5;241m2\u001b[39m,\u001b[38;5;241m3\u001b[39m,\u001b[38;5;241m4\u001b[39m)\n\u001b[1;32m----> 2\u001b[0m p,q,r,s,t\u001b[38;5;241m=\u001b[39ma\n",
      "\u001b[1;31mValueError\u001b[0m: not enough values to unpack (expected 5, got 4)"
     ]
    }
   ],
   "source": [
    "a=(1,2,3,4)\n",
    "p,q,r,s,t=a"
   ]
  },
  {
   "cell_type": "code",
   "execution_count": 7,
   "id": "27eab896",
   "metadata": {},
   "outputs": [
    {
     "name": "stdout",
     "output_type": "stream",
     "text": [
      "Packed List [[1, 2], [3, 4], [5, 6]],\n",
      "Unpacked first element of Packed List: a = 1, b = 2\n"
     ]
    }
   ],
   "source": [
    "t=[[1,2],[3,4],[5,6]]            #Packing\n",
    "a,b=t[0]                         #Unpacking\n",
    "print(f\"Packed List {t},\\nUnpacked first element of Packed List: a = {a}, b = {b}\")"
   ]
  }
 ],
 "metadata": {
  "kernelspec": {
   "display_name": "Python 3 (ipykernel)",
   "language": "python",
   "name": "python3"
  },
  "language_info": {
   "codemirror_mode": {
    "name": "ipython",
    "version": 3
   },
   "file_extension": ".py",
   "mimetype": "text/x-python",
   "name": "python",
   "nbconvert_exporter": "python",
   "pygments_lexer": "ipython3",
   "version": "3.11.5"
  }
 },
 "nbformat": 4,
 "nbformat_minor": 5
}
