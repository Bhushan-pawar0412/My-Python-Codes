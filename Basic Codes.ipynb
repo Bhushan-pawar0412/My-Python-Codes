{
 "cells": [
  {
   "cell_type": "markdown",
   "id": "a723588d",
   "metadata": {},
   "source": [
    "### Q. 1) Write a code to demonstrate below Grade System.\n",
    "1. Marks >=75   -> Grade 'A'\n",
    "2. Marks >=50   -> Grade 'B'\n",
    "3. Marks >=35   -> Grade 'C'\n",
    "4. Marks < 35   -> Grade 'Fail'"
   ]
  },
  {
   "cell_type": "code",
   "execution_count": 77,
   "id": "645a4d38",
   "metadata": {},
   "outputs": [
    {
     "name": "stdout",
     "output_type": "stream",
     "text": [
      "Enter the marks: 69\n",
      "The grade for entered marks is : B\n"
     ]
    }
   ],
   "source": [
    "#User Input\n",
    "marks=int(input(\"Enter the marks: \"))\n",
    "\n",
    "#Initialization\n",
    "Grade=\"\"\n",
    "\n",
    "#Conditions\n",
    "if marks >= 75 :\n",
    "    Grade=\"A\"\n",
    "elif marks >= 50 and marks < 75:      #Loops with 'and' Operator\n",
    "    Grade=\"B\"\n",
    "elif marks >= 35 and marks < 50:      #Loops with 'and' Operator\n",
    "    Grade=\"C\"\n",
    "else:\n",
    "    Grade=\"Fail\"\n",
    "    \n",
    "#Final Output\n",
    "print(\"The grade for entered marks is :\",Grade)"
   ]
  },
  {
   "cell_type": "code",
   "execution_count": 78,
   "id": "9dcd3dcd",
   "metadata": {},
   "outputs": [
    {
     "name": "stdout",
     "output_type": "stream",
     "text": [
      "Enter the marks: 78\n",
      "The grade for entered marks is : A\n"
     ]
    }
   ],
   "source": [
    "\"\"\"Code with Loop Optimization\"\"\"\n",
    "#User Input\n",
    "marks=int(input(\"Enter the marks: \"))\n",
    "\n",
    "#Initialization\n",
    "Grade=\"\"\n",
    "\n",
    "#Conditions\n",
    "if marks >= 75 :\n",
    "    Grade=\"A\"\n",
    "elif 50 <= marks < 75:      #Loops are optimized (Without 'and' Operator)\n",
    "    Grade=\"B\"\n",
    "elif 35 <= marks < 50:      #Loops are optimized (Without 'and' Operator)\n",
    "    Grade=\"C\"\n",
    "else:\n",
    "    Grade=\"Fail\"\n",
    "    \n",
    "#Final Output\n",
    "print(\"The grade for entered marks is :\",Grade)"
   ]
  },
  {
   "cell_type": "markdown",
   "id": "51be09d6",
   "metadata": {},
   "source": [
    "### Q. 2) Print Whether entered number is positive or negative."
   ]
  },
  {
   "cell_type": "code",
   "execution_count": 80,
   "id": "bd8ec7a3",
   "metadata": {},
   "outputs": [
    {
     "name": "stdout",
     "output_type": "stream",
     "text": [
      "Enter a number: 95\n",
      "Number is Positive\n"
     ]
    }
   ],
   "source": [
    "Num=int(input(\"Enter a number: \"))\n",
    "if Num == 0:\n",
    "    print(\"Number is Zero (Neither Negative nor Positive)\")\n",
    "elif Num > 0:\n",
    "    print(\"Number is Positive\")\n",
    "elif Num < 0:\n",
    "    print(\"Number is Negative\")"
   ]
  },
  {
   "cell_type": "markdown",
   "id": "d33e3127",
   "metadata": {},
   "source": [
    "### Q. 3) Take a non-negative integer as input. If (num**5)%40 is greater than 15 print Black else print Blue."
   ]
  },
  {
   "cell_type": "code",
   "execution_count": 81,
   "id": "631dcd2a",
   "metadata": {},
   "outputs": [
    {
     "name": "stdout",
     "output_type": "stream",
     "text": [
      "Enter a Positive integer: 25\n",
      "Black\n"
     ]
    }
   ],
   "source": [
    "while True:\n",
    "    num=int(input(\"Enter a Positive integer: \"))\n",
    "    if num < 0:\n",
    "        print(\"Entered value is Negative. Please Try again\")\n",
    "    else:\n",
    "        break\n",
    "res=(num**5)%40\n",
    "if res > 15:\n",
    "    print(\"Black\")\n",
    "else:\n",
    "    print(\"Blue\")"
   ]
  },
  {
   "cell_type": "markdown",
   "id": "5a95c75c",
   "metadata": {},
   "source": [
    "### Q. 4) Take an integer as input. If its non-single digit integer, print \"Invalid\", else check whether its Negative or Positive."
   ]
  },
  {
   "cell_type": "code",
   "execution_count": 84,
   "id": "b14d1c2d",
   "metadata": {},
   "outputs": [
    {
     "name": "stdout",
     "output_type": "stream",
     "text": [
      "Enter a number: 6\n",
      "Number is Positive\n"
     ]
    }
   ],
   "source": [
    "num=int(input(\"Enter a number: \"))\n",
    "if 9 >= num >= -9:\n",
    "    if num == 0:\n",
    "        print(\"Number is Zero (Neither Negative nor Positive)\")\n",
    "    elif num > 0:\n",
    "        print(\"Number is Positive\")\n",
    "    elif num < 0:\n",
    "        print(\"Number is Negative\")\n",
    "else:\n",
    "    print(\"Invalid\")"
   ]
  },
  {
   "cell_type": "markdown",
   "id": "51e4c36d",
   "metadata": {},
   "source": [
    "### Q. 5) Take a character as input. Print its vowel or consonent."
   ]
  },
  {
   "cell_type": "code",
   "execution_count": 88,
   "id": "c917de1a",
   "metadata": {},
   "outputs": [
    {
     "name": "stdout",
     "output_type": "stream",
     "text": [
      "Enter a Character: t\n",
      "Its Consonent\n"
     ]
    }
   ],
   "source": [
    "char=input(\"Enter a Character: \")\n",
    "if char == 'A' or char == 'E' or char == 'I' or char == 'O' or char == 'U' or char == 'a' or char == 'e' or char == 'i' or char == 'o' or char == 'u':\n",
    "    print(\"Its Vowel\")\n",
    "else:\n",
    "    print(\"Its Consonent\")"
   ]
  },
  {
   "cell_type": "markdown",
   "id": "c0683bb1",
   "metadata": {},
   "source": [
    "### Q. 6) Take an integer as input. If its multiple of 3, Print \"Fizz\", If its multiple of 5, Print \"Buzz\", If multiple of 3 and 5 both, Print \"FizzBuzz\"."
   ]
  },
  {
   "cell_type": "code",
   "execution_count": 89,
   "id": "2acaf111",
   "metadata": {},
   "outputs": [
    {
     "name": "stdout",
     "output_type": "stream",
     "text": [
      "Enter a number: 55\n",
      "Buzz\n"
     ]
    }
   ],
   "source": [
    "num=int(input(\"Enter a number: \"))\n",
    "if num % 3 == 0 and num % 5 == 0:\n",
    "    print(\"FizzBuzz\")\n",
    "elif num % 5 == 0:\n",
    "    print(\"Buzz\")\n",
    "elif num % 3 == 0:\n",
    "    print(\"Fizz\")\n",
    "else:\n",
    "    print(\"Number is not divisible by 3 or 5\")"
   ]
  },
  {
   "cell_type": "markdown",
   "id": "6d970fdb",
   "metadata": {},
   "source": [
    "### Q. 7) Choose a course on basis of marks of 3 subjects (Below conditions)\n",
    "1) If Science > 90 or all subjects >= 75   -> Science\n",
    "2) if all subjects > 60 and < 75           -> Commerce\n",
    "3) if all subjects < 60                    -> Humanities"
   ]
  },
  {
   "cell_type": "code",
   "execution_count": 90,
   "id": "4509b975",
   "metadata": {},
   "outputs": [
    {
     "name": "stdout",
     "output_type": "stream",
     "text": [
      "Enter Science Marks: 95\n",
      "Enter Mathematics Marks: 45\n",
      "Enter English Marks: 62\n",
      "Based on Marks entered, your Stream is  Science\n"
     ]
    }
   ],
   "source": [
    "#User Input\n",
    "sci=int(input(\"Enter Science Marks: \"))\n",
    "math=int(input(\"Enter Mathematics Marks: \"))\n",
    "eng=int(input(\"Enter English Marks: \"))\n",
    "\n",
    "#Initialization\n",
    "Stream=\"\"\n",
    "\n",
    "#Condition Writting\n",
    "if sci >= 90 or (sci >= 75 and eng >= 75 and math >= 75):\n",
    "    Stream = \"Science\"\n",
    "elif 75 > sci >= 60 and 75 > eng >= 60 and 75 > math >= 60:\n",
    "    Stream = \"Commerce\"\n",
    "else:\n",
    "    Stream=\"Humanities\"\n",
    "print(\"Based on Marks entered, your Stream is \",Stream)"
   ]
  },
  {
   "cell_type": "markdown",
   "id": "0913b09e",
   "metadata": {},
   "source": [
    "### Q. 8) Build a Auto-Meter.  Take 2 inputs from user Kilometers-driven and Stall-time in minutes.\n",
    "1. If kilometers <= 10, rate is Rs.10/km.\n",
    "2. Next 40 kilometers, rate is Rs.9/km.\n",
    "3. Next 100 kilometers, rate is Rs.8/km.\n",
    "4. Thereafter, rate is Rs.6/km.\n",
    "5. Rs.5 for every 1 minute of stall-time"
   ]
  },
  {
   "cell_type": "code",
   "execution_count": 91,
   "id": "439a32bd",
   "metadata": {},
   "outputs": [
    {
     "name": "stdout",
     "output_type": "stream",
     "text": [
      "Enter Kilometers Driven: 854\n",
      "Enter Stall time: 65\n",
      "Total Cost is  5809\n"
     ]
    }
   ],
   "source": [
    "kms = int(input(\"Enter Kilometers Driven: \"))\n",
    "stall_time = int(input(\"Enter Stall time: \"))\n",
    "if kms <= 10:                      #First 10 Kms\n",
    "    kms_cost = kms * 10\n",
    "elif 50 >= kms > 10:               #Next 40 Kms\n",
    "    kms = kms - 10\n",
    "    kms_cost = 100 + kms * 9\n",
    "elif 150 >= kms > 50:              #Next 100 Kms\n",
    "    kms = kms - 50\n",
    "    kms_cost = 100 + 360 + kms * 8\n",
    "elif kms >= 150:                   #Kilometers after 150 kms\n",
    "    kms = kms - 150\n",
    "    kms_cost = 100 + 360 + 800 + kms * 6\n",
    "stall_time_cost = stall_time * 5                  #stall_time cost\n",
    "total_cost = stall_time_cost + kms_cost           #total_cost\n",
    "print(\"Total Cost is \",total_cost)"
   ]
  },
  {
   "cell_type": "markdown",
   "id": "8e6c280d",
   "metadata": {},
   "source": [
    "### Q. 9) Generate Electricity Bill on basis of below conditions.\n",
    "1. First 100 units, Bill is Rs.0\n",
    "2. Next 100 units, Bill is Rs.2/unit\n",
    "3. Thereafter any number of units, Bill is Rs.5/un|it"
   ]
  },
  {
   "cell_type": "code",
   "execution_count": 92,
   "id": "a2a79a04",
   "metadata": {},
   "outputs": [
    {
     "name": "stdout",
     "output_type": "stream",
     "text": [
      "Enter the number of Units: 900\n",
      "Final Electricity Bill is  3700\n"
     ]
    }
   ],
   "source": [
    "units = int(input(\"Enter the number of Units: \"))\n",
    "if 100 >= units > 0:\n",
    "    Bill=0\n",
    "elif 200 >= units > 100:\n",
    "    units = units - 100\n",
    "    Bill = units * 2\n",
    "elif units > 200:\n",
    "    units = units - 200\n",
    "    Bill = 200 + units * 5\n",
    "print(\"Final Electricity Bill is \",Bill)"
   ]
  },
  {
   "cell_type": "markdown",
   "id": "df1713e7",
   "metadata": {},
   "source": [
    "### Q. 10) Take a Integer as a input and convert it to Binary."
   ]
  },
  {
   "cell_type": "code",
   "execution_count": 109,
   "id": "0d0a362f",
   "metadata": {},
   "outputs": [
    {
     "name": "stdout",
     "output_type": "stream",
     "text": [
      "Enter a number: 52\n",
      "0b110100\n"
     ]
    }
   ],
   "source": [
    "num=int(input(\"Enter a number: \"))\n",
    "res=\"\"\n",
    "while num > 0:\n",
    "    if num % 2 == 0:\n",
    "        res=\"0\"+res\n",
    "    else:\n",
    "        res=\"1\"+res\n",
    "    num=num//2\n",
    "print(\"0b\"+res)"
   ]
  },
  {
   "cell_type": "code",
   "execution_count": 107,
   "id": "0c2c1699",
   "metadata": {},
   "outputs": [
    {
     "data": {
      "text/plain": [
       "1"
      ]
     },
     "execution_count": 107,
     "metadata": {},
     "output_type": "execute_result"
    }
   ],
   "source": []
  },
  {
   "cell_type": "code",
   "execution_count": null,
   "id": "57000a1b",
   "metadata": {},
   "outputs": [],
   "source": []
  },
  {
   "cell_type": "code",
   "execution_count": null,
   "id": "1c161045",
   "metadata": {},
   "outputs": [],
   "source": []
  }
 ],
 "metadata": {
  "kernelspec": {
   "display_name": "Python 3 (ipykernel)",
   "language": "python",
   "name": "python3"
  },
  "language_info": {
   "codemirror_mode": {
    "name": "ipython",
    "version": 3
   },
   "file_extension": ".py",
   "mimetype": "text/x-python",
   "name": "python",
   "nbconvert_exporter": "python",
   "pygments_lexer": "ipython3",
   "version": "3.11.5"
  }
 },
 "nbformat": 4,
 "nbformat_minor": 5
}
