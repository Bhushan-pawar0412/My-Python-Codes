{
 "cells": [
  {
   "cell_type": "markdown",
   "id": "a60c70c9",
   "metadata": {},
   "source": [
    "### Linear Search"
   ]
  },
  {
   "cell_type": "code",
   "execution_count": 3,
   "id": "6236c176",
   "metadata": {},
   "outputs": [
    {
     "name": "stdout",
     "output_type": "stream",
     "text": [
      "Enter the number to be searched: 6\n",
      "Element 1 found at 6 Index/7 Position\n"
     ]
    }
   ],
   "source": [
    "a=[5,3,4,6,8,2,1,9,0,7]\n",
    "x=int(input(\"Enter the number to be searched: \"))\n",
    "for i in range(len(a)):\n",
    "    if i == x:\n",
    "        print(f\"Element {a[i]} found at {i} Index/{i+1} Position\")"
   ]
  },
  {
   "cell_type": "markdown",
   "id": "7f2dcf08",
   "metadata": {},
   "source": [
    "### Binary Search "
   ]
  },
  {
   "cell_type": "code",
   "execution_count": 64,
   "id": "0bc00ccc",
   "metadata": {},
   "outputs": [],
   "source": [
    "def binary_search(a,x):\n",
    "    n=len(a)\n",
    "    start=1\n",
    "    end=n\n",
    "    counter=1\n",
    "    while start <= end:\n",
    "        mid=(start+end)//2\n",
    "        counter+=1\n",
    "        if x == a[mid]:\n",
    "            print(f\"Element {x} found at {mid} index\")\n",
    "            break\n",
    "        elif x < a[mid]:\n",
    "            end=mid-1\n",
    "        elif x > a[mid]:\n",
    "            start=mid+1\n",
    "    else:\n",
    "        print(\"Element not found in the given list\")\n",
    "    print(\"How many loops it took to find: \",counter)"
   ]
  },
  {
   "cell_type": "code",
   "execution_count": 65,
   "id": "ac62d2ad",
   "metadata": {},
   "outputs": [
    {
     "name": "stdout",
     "output_type": "stream",
     "text": [
      "Element 110 found at 9 index\n",
      "How many loops it took to find:  4\n"
     ]
    }
   ],
   "source": [
    "a=[11,22,33,44,55,66,77,88,99,110]\n",
    "x=110\n",
    "binary_search(a,x)"
   ]
  }
 ],
 "metadata": {
  "kernelspec": {
   "display_name": "Python 3 (ipykernel)",
   "language": "python",
   "name": "python3"
  },
  "language_info": {
   "codemirror_mode": {
    "name": "ipython",
    "version": 3
   },
   "file_extension": ".py",
   "mimetype": "text/x-python",
   "name": "python",
   "nbconvert_exporter": "python",
   "pygments_lexer": "ipython3",
   "version": "3.11.5"
  }
 },
 "nbformat": 4,
 "nbformat_minor": 5
}
