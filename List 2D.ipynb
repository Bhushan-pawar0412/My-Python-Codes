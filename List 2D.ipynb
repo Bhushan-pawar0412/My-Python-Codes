{
 "cells": [
  {
   "cell_type": "code",
   "execution_count": 7,
   "id": "aa94ad72",
   "metadata": {},
   "outputs": [],
   "source": [
    "#2D List -> List within list\n",
    "a=[[1,2,3],[4,5,6],[7,8,9]]"
   ]
  },
  {
   "cell_type": "code",
   "execution_count": 3,
   "id": "85ab68f1",
   "metadata": {},
   "outputs": [
    {
     "data": {
      "text/plain": [
       "[[1, 2, 3], [4, 5, 6], [7, 8, 9]]"
      ]
     },
     "execution_count": 3,
     "metadata": {},
     "output_type": "execute_result"
    }
   ],
   "source": [
    "a"
   ]
  },
  {
   "cell_type": "code",
   "execution_count": 8,
   "id": "c94cfbe9",
   "metadata": {},
   "outputs": [
    {
     "data": {
      "text/plain": [
       "[1, 2, 3]"
      ]
     },
     "execution_count": 8,
     "metadata": {},
     "output_type": "execute_result"
    }
   ],
   "source": [
    "#Accessing first element.\n",
    "a[0]"
   ]
  },
  {
   "cell_type": "code",
   "execution_count": 9,
   "id": "33158dd6",
   "metadata": {},
   "outputs": [
    {
     "data": {
      "text/plain": [
       "[4, 5, 6]"
      ]
     },
     "execution_count": 9,
     "metadata": {},
     "output_type": "execute_result"
    }
   ],
   "source": [
    "#Accessing second element.\n",
    "a[1]"
   ]
  },
  {
   "cell_type": "code",
   "execution_count": 10,
   "id": "f82cca5b",
   "metadata": {},
   "outputs": [
    {
     "data": {
      "text/plain": [
       "[7, 8, 9]"
      ]
     },
     "execution_count": 10,
     "metadata": {},
     "output_type": "execute_result"
    }
   ],
   "source": [
    "#Accessing third element.\n",
    "a[2]"
   ]
  },
  {
   "cell_type": "code",
   "execution_count": 11,
   "id": "a90d4c6b",
   "metadata": {},
   "outputs": [
    {
     "data": {
      "text/plain": [
       "1"
      ]
     },
     "execution_count": 11,
     "metadata": {},
     "output_type": "execute_result"
    }
   ],
   "source": [
    "#Accessing first sub-element of first element.\n",
    "a[0][0]"
   ]
  },
  {
   "cell_type": "code",
   "execution_count": 12,
   "id": "849406c4",
   "metadata": {},
   "outputs": [
    {
     "data": {
      "text/plain": [
       "2"
      ]
     },
     "execution_count": 12,
     "metadata": {},
     "output_type": "execute_result"
    }
   ],
   "source": [
    "#Accessing second sub-element of first element.\n",
    "a[0][1]"
   ]
  },
  {
   "cell_type": "code",
   "execution_count": 13,
   "id": "c76b46e2",
   "metadata": {},
   "outputs": [
    {
     "data": {
      "text/plain": [
       "6"
      ]
     },
     "execution_count": 13,
     "metadata": {},
     "output_type": "execute_result"
    }
   ],
   "source": [
    "#Accessing third sub-element of second element.\n",
    "a[1][2]"
   ]
  },
  {
   "cell_type": "markdown",
   "id": "1f4cebdc",
   "metadata": {},
   "source": [
    "### Print index of of above 2D List."
   ]
  },
  {
   "cell_type": "code",
   "execution_count": 14,
   "id": "eb7d60ce",
   "metadata": {},
   "outputs": [
    {
     "name": "stdout",
     "output_type": "stream",
     "text": [
      "00 01 02 \n",
      "10 11 12 \n",
      "20 21 22 \n"
     ]
    }
   ],
   "source": [
    "for i in range(len(a)):\n",
    "    for j in range(len(a)):\n",
    "        print(f\"{i}{j}\", end=\" \")\n",
    "    print()"
   ]
  },
  {
   "cell_type": "markdown",
   "id": "9f8feb16",
   "metadata": {},
   "source": [
    "### Print all elements in space seperated format."
   ]
  },
  {
   "cell_type": "code",
   "execution_count": 15,
   "id": "774aedf5",
   "metadata": {},
   "outputs": [
    {
     "name": "stdout",
     "output_type": "stream",
     "text": [
      "1 2 3 4 5 6 7 8 9 "
     ]
    }
   ],
   "source": [
    "for i in a:\n",
    "    for j in i:\n",
    "        print(j, end=\" \")"
   ]
  },
  {
   "attachments": {
    "image.png": {
     "image/png": "[encoded data removed]"
    }
   },
   "cell_type": "markdown",
   "id": "0aa797d3",
   "metadata": {},
   "source": [
    "### Print all elements in below format.\n",
    "![image.png](attachment:image.png)"
   ]
  },
  {
   "cell_type": "code",
   "execution_count": 17,
   "id": "ad2f78c4",
   "metadata": {},
   "outputs": [
    {
     "name": "stdout",
     "output_type": "stream",
     "text": [
      "1 2 3 \n",
      "4 5 6 \n",
      "7 8 9 \n"
     ]
    }
   ],
   "source": [
    "for i in a:\n",
    "    for j in i:\n",
    "        print(j, end=\" \")\n",
    "    print()"
   ]
  },
  {
   "cell_type": "markdown",
   "id": "718e0b92",
   "metadata": {},
   "source": [
    "### Take 3 by 3 matrix. Print row_wise sum, col_wise sum and sum of elements."
   ]
  },
  {
   "cell_type": "code",
   "execution_count": 21,
   "id": "263aed93",
   "metadata": {},
   "outputs": [
    {
     "name": "stdout",
     "output_type": "stream",
     "text": [
      "Sum of row 0 = 6\n",
      "Sum of row 1 = 15\n",
      "Sum of row 2 = 24\n"
     ]
    }
   ],
   "source": [
    "a=[[1,2,3],[4,5,6],[7,8,9]]\n",
    "total_sum=0\n",
    "col_wise_sum=0\n",
    "n=len(a)\n",
    "for i in range(n):\n",
    "    row_wise_sum=0\n",
    "    for j in range(n):\n",
    "        row_wise_sum+=a[i][j]\n",
    "    print(f\"Sum of row {i} =\",row_wise_sum)\n",
    "    total_sum+=row_wise_sum"
   ]
  },
  {
   "cell_type": "markdown",
   "id": "c06bedc7",
   "metadata": {},
   "source": [
    "### List methods"
   ]
  },
  {
   "cell_type": "code",
   "execution_count": 24,
   "id": "c9f305d6",
   "metadata": {},
   "outputs": [
    {
     "data": {
      "text/plain": [
       "3"
      ]
     },
     "execution_count": 24,
     "metadata": {},
     "output_type": "execute_result"
    }
   ],
   "source": [
    "a=[1,2,3,4,5,1,2,1,3]     \n",
    "a.count(1)                              #counts no of appearances of element in list."
   ]
  },
  {
   "cell_type": "code",
   "execution_count": 26,
   "id": "1a58592f",
   "metadata": {},
   "outputs": [
    {
     "data": {
      "text/plain": [
       "0"
      ]
     },
     "execution_count": 26,
     "metadata": {},
     "output_type": "execute_result"
    }
   ],
   "source": [
    "a=[1,2,3,4,5,1,2,1,3]     \n",
    "a.index(1)                              #gives index of first appearances of element in list."
   ]
  },
  {
   "cell_type": "code",
   "execution_count": 27,
   "id": "795871ac",
   "metadata": {},
   "outputs": [
    {
     "data": {
      "text/plain": [
       "2"
      ]
     },
     "execution_count": 27,
     "metadata": {},
     "output_type": "execute_result"
    }
   ],
   "source": [
    "a=[1,2,3,4,5,1,2,1,3]     \n",
    "a.index(3)                              #gives index of first appearances of element in list."
   ]
  },
  {
   "cell_type": "markdown",
   "id": "22d6ca85",
   "metadata": {},
   "source": [
    "### Given a list, find the index of 2nd occurence of x"
   ]
  },
  {
   "cell_type": "code",
   "execution_count": 34,
   "id": "aeb7fcd6",
   "metadata": {},
   "outputs": [
    {
     "name": "stdout",
     "output_type": "stream",
     "text": [
      "First Index is 1, Second_index is 6\n"
     ]
    }
   ],
   "source": [
    "a=[1,2,3,4,5,1,2,1,3] \n",
    "x=2\n",
    "first_index=a.index(x)\n",
    "remaining_list=a[first_index+1:]\n",
    "second_index=remaining_list.index(x)\n",
    "index_x=first_index+second_index+1\n",
    "print(f\"First Index is {first_index}, Second_index is {index_x}\")\n"
   ]
  },
  {
   "cell_type": "code",
   "execution_count": 38,
   "id": "1eda040d",
   "metadata": {},
   "outputs": [
    {
     "name": "stdout",
     "output_type": "stream",
     "text": [
      "[1, 6, 9]\n",
      "Second_index is 6\n"
     ]
    }
   ],
   "source": [
    "a=[1,2,3,4,5,1,2,1,3,2,4] \n",
    "x=2\n",
    "final=[]\n",
    "for i in range(len(a)):\n",
    "    if a[i] == x:\n",
    "        final.append(i)\n",
    "print(final)\n",
    "print(f\"Second_index is {final[1]}\")\n"
   ]
  }
 ],
 "metadata": {
  "kernelspec": {
   "display_name": "Python 3 (ipykernel)",
   "language": "python",
   "name": "python3"
  },
  "language_info": {
   "codemirror_mode": {
    "name": "ipython",
    "version": 3
   },
   "file_extension": ".py",
   "mimetype": "text/x-python",
   "name": "python",
   "nbconvert_exporter": "python",
   "pygments_lexer": "ipython3",
   "version": "3.11.5"
  }
 },
 "nbformat": 4,
 "nbformat_minor": 5
}
