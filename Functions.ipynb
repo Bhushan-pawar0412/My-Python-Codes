{
 "cells": [
  {
   "cell_type": "code",
   "execution_count": 4,
   "id": "50da05ab",
   "metadata": {},
   "outputs": [],
   "source": [
    "def print_hello(name):\n",
    "    \"\"\"This function wishes Hello to user-defined person\"\"\"\n",
    "    print(\"Hello\",name)"
   ]
  },
  {
   "cell_type": "code",
   "execution_count": 5,
   "id": "aacedd6e",
   "metadata": {},
   "outputs": [
    {
     "name": "stdout",
     "output_type": "stream",
     "text": [
      "Enter the name: Krishna\n",
      "Hello Krishna\n"
     ]
    }
   ],
   "source": [
    "name=input(\"Enter the name: \")\n",
    "print_hello(name)"
   ]
  },
  {
   "cell_type": "code",
   "execution_count": 6,
   "id": "ccb2cc65",
   "metadata": {},
   "outputs": [
    {
     "name": "stdout",
     "output_type": "stream",
     "text": [
      "Help on function print_hello in module __main__:\n",
      "\n",
      "print_hello(name)\n",
      "    This function wishes Hello to user-defined person\n",
      "\n"
     ]
    }
   ],
   "source": [
    "help(print_hello)"
   ]
  },
  {
   "cell_type": "markdown",
   "id": "7bf5e91b",
   "metadata": {},
   "source": [
    "### Print Vs Return"
   ]
  },
  {
   "cell_type": "code",
   "execution_count": 8,
   "id": "4716963f",
   "metadata": {},
   "outputs": [
    {
     "name": "stdout",
     "output_type": "stream",
     "text": [
      "10\n",
      "None\n"
     ]
    }
   ],
   "source": [
    "def calculate(arg):\n",
    "    print(2*arg)\n",
    "calc=calculate(5)\n",
    "print(calc)                #returns None as nothing has been returned"
   ]
  },
  {
   "cell_type": "code",
   "execution_count": 11,
   "id": "ea041a6d",
   "metadata": {},
   "outputs": [
    {
     "name": "stdout",
     "output_type": "stream",
     "text": [
      "10\n"
     ]
    }
   ],
   "source": [
    "def calculate1(arg):\n",
    "    return arg*2\n",
    "calc=calculate1(5)  \n",
    "print(calc)                #printed 10 as function returned value. "
   ]
  },
  {
   "cell_type": "markdown",
   "id": "1d7ed6c9",
   "metadata": {},
   "source": [
    "### Positional Arguments"
   ]
  },
  {
   "cell_type": "code",
   "execution_count": 12,
   "id": "e496cfc6",
   "metadata": {},
   "outputs": [],
   "source": [
    "def cal_interest(principle,no_of_months,rate):\n",
    "    interest = (principle * no_of_months * rate) / 100\n",
    "    return interest"
   ]
  },
  {
   "cell_type": "code",
   "execution_count": 14,
   "id": "35ebe08c",
   "metadata": {},
   "outputs": [
    {
     "name": "stdout",
     "output_type": "stream",
     "text": [
      "Enter Principle Ammount: 5000\n",
      "Enter Total months: 12\n",
      "Enter Rate of Interest: 9.75\n",
      "5850.0\n"
     ]
    }
   ],
   "source": [
    "p=int(input(\"Enter Principle Ammount: \"))\n",
    "n=int(input(\"Enter Total months: \"))\n",
    "r=float(input(\"Enter Rate of Interest: \"))\n",
    "total_interest=cal_interest(p,n,r)\n",
    "print(total_interest)"
   ]
  },
  {
   "cell_type": "markdown",
   "id": "9133b741",
   "metadata": {},
   "source": [
    "### Keyworded Arguments"
   ]
  },
  {
   "cell_type": "code",
   "execution_count": 15,
   "id": "928301bd",
   "metadata": {},
   "outputs": [],
   "source": [
    "def cal_interest(principle,no_of_months,rate):\n",
    "    interest = (principle * no_of_months * rate) / 100\n",
    "    return interest"
   ]
  },
  {
   "cell_type": "code",
   "execution_count": 17,
   "id": "5d66f48f",
   "metadata": {},
   "outputs": [
    {
     "name": "stdout",
     "output_type": "stream",
     "text": [
      "5850.0\n"
     ]
    }
   ],
   "source": [
    "total_interest=cal_interest(no_of_months=12,rate=9.75,principle=5000)\n",
    "print(total_interest)"
   ]
  },
  {
   "cell_type": "markdown",
   "id": "9e4573d5",
   "metadata": {},
   "source": [
    "### Mix Arguments (Positional + Keyworded) **Positional argument can't be followed by Keyworded arguments** "
   ]
  },
  {
   "cell_type": "code",
   "execution_count": 22,
   "id": "5b2fffe8",
   "metadata": {},
   "outputs": [],
   "source": [
    "def cal_interest(principle,no_of_months,rate):\n",
    "    interest = (principle * no_of_months * rate) / 100\n",
    "    return interest"
   ]
  },
  {
   "cell_type": "code",
   "execution_count": 23,
   "id": "ab30b0c5",
   "metadata": {},
   "outputs": [
    {
     "name": "stdout",
     "output_type": "stream",
     "text": [
      "5850.0\n"
     ]
    }
   ],
   "source": [
    "total_interest=cal_interest(5000, no_of_months = 12, rate = 9.75)\n",
    "print(total_interest)"
   ]
  },
  {
   "cell_type": "code",
   "execution_count": 24,
   "id": "8f649714",
   "metadata": {},
   "outputs": [
    {
     "ename": "SyntaxError",
     "evalue": "positional argument follows keyword argument (2410721092.py, line 1)",
     "output_type": "error",
     "traceback": [
      "\u001b[1;36m  Cell \u001b[1;32mIn[24], line 1\u001b[1;36m\u001b[0m\n\u001b[1;33m    total_interest=cal_interest(no_of_months = 12, rate = 9.75,5000)\u001b[0m\n\u001b[1;37m                                                                   ^\u001b[0m\n\u001b[1;31mSyntaxError\u001b[0m\u001b[1;31m:\u001b[0m positional argument follows keyword argument\n"
     ]
    }
   ],
   "source": [
    "total_interest=cal_interest(no_of_months = 12, rate = 9.75,5000)     #Positional Argument is followed by Keyworded argument.\n",
    "print(total_interest)"
   ]
  },
  {
   "cell_type": "code",
   "execution_count": 26,
   "id": "9466822b",
   "metadata": {},
   "outputs": [
    {
     "ename": "TypeError",
     "evalue": "cal_interest() got multiple values for argument 'principle'",
     "output_type": "error",
     "traceback": [
      "\u001b[1;31m---------------------------------------------------------------------------\u001b[0m",
      "\u001b[1;31mTypeError\u001b[0m                                 Traceback (most recent call last)",
      "Cell \u001b[1;32mIn[26], line 1\u001b[0m\n\u001b[1;32m----> 1\u001b[0m total_interest\u001b[38;5;241m=\u001b[39mcal_interest(\u001b[38;5;241m5000\u001b[39m, no_of_months \u001b[38;5;241m=\u001b[39m \u001b[38;5;241m12\u001b[39m, principle\u001b[38;5;241m=\u001b[39m\u001b[38;5;241m500\u001b[39m)     \u001b[38;5;66;03m#Argument principle assigned with multiple values.\u001b[39;00m\n\u001b[0;32m      2\u001b[0m \u001b[38;5;28mprint\u001b[39m(total_interest)\n",
      "\u001b[1;31mTypeError\u001b[0m: cal_interest() got multiple values for argument 'principle'"
     ]
    }
   ],
   "source": [
    "total_interest=cal_interest(5000, no_of_months = 12, principle=500)     #Argument principle assigned with multiple values.\n",
    "print(total_interest)"
   ]
  },
  {
   "cell_type": "markdown",
   "id": "f2d18c8b",
   "metadata": {},
   "source": [
    "### Default Arugments -> argument's value is/are given at the time of function declation only."
   ]
  },
  {
   "cell_type": "code",
   "execution_count": 30,
   "id": "8922c1cc",
   "metadata": {},
   "outputs": [],
   "source": [
    "def cal_interest(principle,no_of_months,rate=9.75):\n",
    "    interest = (principle * no_of_months * rate) / 100\n",
    "    return interest"
   ]
  },
  {
   "cell_type": "code",
   "execution_count": 31,
   "id": "9ec2dda2",
   "metadata": {},
   "outputs": [
    {
     "name": "stdout",
     "output_type": "stream",
     "text": [
      "Enter principle amount: 5000\n",
      "Enter no of Months: 6\n"
     ]
    },
    {
     "data": {
      "text/plain": [
       "2925.0"
      ]
     },
     "execution_count": 31,
     "metadata": {},
     "output_type": "execute_result"
    }
   ],
   "source": [
    "p=int(input(\"Enter principle amount: \"))\n",
    "n=int(input(\"Enter no of Months: \"))\n",
    "cal_interest(p,n)"
   ]
  },
  {
   "cell_type": "code",
   "execution_count": 34,
   "id": "ba584505",
   "metadata": {},
   "outputs": [
    {
     "ename": "SyntaxError",
     "evalue": "positional argument follows keyword argument (3159185296.py, line 3)",
     "output_type": "error",
     "traceback": [
      "\u001b[1;36m  Cell \u001b[1;32mIn[34], line 3\u001b[1;36m\u001b[0m\n\u001b[1;33m    cal_interest(p,rate=9.75,n)\u001b[0m\n\u001b[1;37m                              ^\u001b[0m\n\u001b[1;31mSyntaxError\u001b[0m\u001b[1;31m:\u001b[0m positional argument follows keyword argument\n"
     ]
    }
   ],
   "source": [
    "p=int(input(\"Enter principle amount: \"))\n",
    "n=int(input(\"Enter no of Months: \"))\n",
    "cal_interest(p,rate=9.75,n)"
   ]
  },
  {
   "cell_type": "markdown",
   "id": "e8e8db34",
   "metadata": {},
   "source": [
    "### Q. 1) Create a Date function with four arguments day, month, year, style.\n",
    "1. Style 0: D/M/Y\n",
    "2. Style 1: M/D/Y\n",
    "3. Anything else: Invalid Style.\n",
    "Default Style = 0"
   ]
  },
  {
   "cell_type": "code",
   "execution_count": 35,
   "id": "bce769b7",
   "metadata": {},
   "outputs": [],
   "source": [
    "def Date(day, month, year, style=0):\n",
    "    if style == 0:\n",
    "        print(f\"Date is : {day}/{month}/{year}\")\n",
    "    elif style == 1:\n",
    "        print(f\"Date is : {month}/{day}/{year}\")\n",
    "    else:\n",
    "        print(f\"Invalid Style\")"
   ]
  },
  {
   "cell_type": "code",
   "execution_count": 39,
   "id": "daa45e45",
   "metadata": {},
   "outputs": [
    {
     "name": "stdout",
     "output_type": "stream",
     "text": [
      "Date is : 12/4/1994\n"
     ]
    }
   ],
   "source": [
    "Date(4,12,1994,1)        #Style 1 is explicitely mentioned"
   ]
  },
  {
   "cell_type": "code",
   "execution_count": 40,
   "id": "515d8b1c",
   "metadata": {},
   "outputs": [
    {
     "name": "stdout",
     "output_type": "stream",
     "text": [
      "Date is : 4/12/1994\n"
     ]
    }
   ],
   "source": [
    "Date(4,12,1994)          #Style 0 is default argument. "
   ]
  },
  {
   "cell_type": "code",
   "execution_count": 42,
   "id": "ade0c29c",
   "metadata": {},
   "outputs": [
    {
     "name": "stdout",
     "output_type": "stream",
     "text": [
      "100\n",
      "10\n"
     ]
    }
   ],
   "source": [
    "a=10\n",
    "def calculator(n):\n",
    "    print(n*10)\n",
    "calculator(a)\n",
    "print(a)"
   ]
  },
  {
   "cell_type": "code",
   "execution_count": 45,
   "id": "fa67a0b8",
   "metadata": {},
   "outputs": [
    {
     "name": "stdout",
     "output_type": "stream",
     "text": [
      "5 100\n"
     ]
    }
   ],
   "source": [
    "a=10                   #Outside Method. a=10 (Global variable)  \n",
    "def calculator(n):\n",
    "    a=5                #Within method. a=5 (Local variable)\n",
    "    print(a,n*10)      #10 is multiplied by 'n' not by 'a'.\n",
    "calculator(a)"
   ]
  },
  {
   "cell_type": "code",
   "execution_count": 48,
   "id": "e887941c",
   "metadata": {},
   "outputs": [
    {
     "name": "stdout",
     "output_type": "stream",
     "text": [
      "a before calling function 10\n",
      "a inside function 5\n",
      "100\n",
      "a outside/after calling functionn 5\n"
     ]
    }
   ],
   "source": [
    "a=10\n",
    "print(\"a before calling function\",a)\n",
    "def calculator(n):\n",
    "    global a            #a is declared as global.\n",
    "    a=5                 #a's value changed to 5\n",
    "    print(\"a inside function\",a)\n",
    "    print(n*10)\n",
    "calculator(a)\n",
    "print(\"a outside/after calling functionn\",a)                #a=5 as 'a' is mentioned as global"
   ]
  }
 ],
 "metadata": {
  "kernelspec": {
   "display_name": "Python 3 (ipykernel)",
   "language": "python",
   "name": "python3"
  },
  "language_info": {
   "codemirror_mode": {
    "name": "ipython",
    "version": 3
   },
   "file_extension": ".py",
   "mimetype": "text/x-python",
   "name": "python",
   "nbconvert_exporter": "python",
   "pygments_lexer": "ipython3",
   "version": "3.11.5"
  }
 },
 "nbformat": 4,
 "nbformat_minor": 5
}
