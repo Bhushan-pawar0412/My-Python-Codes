{
 "cells": [
  {
   "cell_type": "markdown",
   "id": "11ff3dba",
   "metadata": {},
   "source": [
    " # Dictionaries - "
   ]
  },
  {
   "cell_type": "code",
   "execution_count": 1,
   "id": "b4bcc796",
   "metadata": {},
   "outputs": [
    {
     "ename": "SyntaxError",
     "evalue": "invalid syntax (230268714.py, line 1)",
     "output_type": "error",
     "traceback": [
      "\u001b[1;36m  Cell \u001b[1;32mIn[1], line 1\u001b[1;36m\u001b[0m\n\u001b[1;33m    s{{1,2,3}}\u001b[0m\n\u001b[1;37m     ^\u001b[0m\n\u001b[1;31mSyntaxError\u001b[0m\u001b[1;31m:\u001b[0m invalid syntax\n"
     ]
    }
   ],
   "source": [
    "s{{1,2,3}}"
   ]
  },
  {
   "cell_type": "code",
   "execution_count": 3,
   "id": "5e493a18",
   "metadata": {},
   "outputs": [
    {
     "data": {
      "text/plain": [
       "set()"
      ]
     },
     "execution_count": 3,
     "metadata": {},
     "output_type": "execute_result"
    }
   ],
   "source": [
    "S1={1,2,3}\n",
    "S2={2,3,4,5}\n",
    "S1 & S2- S2"
   ]
  },
  {
   "cell_type": "code",
   "execution_count": null,
   "id": "96a23f9f",
   "metadata": {},
   "outputs": [],
   "source": []
  }
 ],
 "metadata": {
  "kernelspec": {
   "display_name": "Python 3 (ipykernel)",
   "language": "python",
   "name": "python3"
  },
  "language_info": {
   "codemirror_mode": {
    "name": "ipython",
    "version": 3
   },
   "file_extension": ".py",
   "mimetype": "text/x-python",
   "name": "python",
   "nbconvert_exporter": "python",
   "pygments_lexer": "ipython3",
   "version": "3.11.5"
  }
 },
 "nbformat": 4,
 "nbformat_minor": 5
}
