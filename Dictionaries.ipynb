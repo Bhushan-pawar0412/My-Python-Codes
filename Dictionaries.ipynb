{
 "cells": [
  {
   "cell_type": "markdown",
   "id": "3f0d9a8d",
   "metadata": {},
   "source": [
    " # Dictionaries - "
   ]
  },
  {
   "cell_type": "code",
   "execution_count": 7,
   "id": "83b4dd3a",
   "metadata": {},
   "outputs": [
    {
     "data": {
      "text/plain": [
       "dict"
      ]
     },
     "execution_count": 7,
     "metadata": {},
     "output_type": "execute_result"
    }
   ],
   "source": [
    "#Declaration\n",
    "dictionary={}\n",
    "type(dictionary)"
   ]
  },
  {
   "cell_type": "code",
   "execution_count": 14,
   "id": "9f8d3fd1",
   "metadata": {},
   "outputs": [],
   "source": [
    "state_population = { \"DL\": 1200000,\n",
    "                     \"HR\": 1500000\n",
    "                   }"
   ]
  },
  {
   "cell_type": "code",
   "execution_count": 15,
   "id": "fb4171c0",
   "metadata": {},
   "outputs": [
    {
     "data": {
      "text/plain": [
       "1200000"
      ]
     },
     "execution_count": 15,
     "metadata": {},
     "output_type": "execute_result"
    }
   ],
   "source": [
    "state_population['DL']"
   ]
  },
  {
   "cell_type": "markdown",
   "id": "292455e3",
   "metadata": {},
   "source": [
    "### Updation"
   ]
  },
  {
   "cell_type": "code",
   "execution_count": 16,
   "id": "87cd5e18",
   "metadata": {},
   "outputs": [],
   "source": [
    "state_population[\"DL\"]=1250000"
   ]
  },
  {
   "cell_type": "code",
   "execution_count": 17,
   "id": "dfb16dc2",
   "metadata": {},
   "outputs": [
    {
     "data": {
      "text/plain": [
       "{'DL': 1250000, 'HR': 1500000}"
      ]
     },
     "execution_count": 17,
     "metadata": {},
     "output_type": "execute_result"
    }
   ],
   "source": [
    "state_population"
   ]
  },
  {
   "cell_type": "code",
   "execution_count": 18,
   "id": "5b35216d",
   "metadata": {},
   "outputs": [],
   "source": [
    "state_population[\"MH\"]=30000000"
   ]
  },
  {
   "cell_type": "code",
   "execution_count": 19,
   "id": "8da12a6c",
   "metadata": {},
   "outputs": [
    {
     "data": {
      "text/plain": [
       "{'DL': 1250000, 'HR': 1500000, 'MH': 30000000}"
      ]
     },
     "execution_count": 19,
     "metadata": {},
     "output_type": "execute_result"
    }
   ],
   "source": [
    "state_population"
   ]
  },
  {
   "cell_type": "code",
   "execution_count": 20,
   "id": "1edf1019",
   "metadata": {},
   "outputs": [],
   "source": [
    "state_population.update({\"DL\":1300000})"
   ]
  },
  {
   "cell_type": "code",
   "execution_count": 22,
   "id": "f7d99d60",
   "metadata": {},
   "outputs": [
    {
     "data": {
      "text/plain": [
       "{'DL': 1300000, 'HR': 1500000, 'MH': 30000000}"
      ]
     },
     "execution_count": 22,
     "metadata": {},
     "output_type": "execute_result"
    }
   ],
   "source": [
    "state_population"
   ]
  },
  {
   "cell_type": "code",
   "execution_count": 24,
   "id": "da9653c5",
   "metadata": {},
   "outputs": [
    {
     "ename": "KeyError",
     "evalue": "'KA'",
     "output_type": "error",
     "traceback": [
      "\u001b[1;31m---------------------------------------------------------------------------\u001b[0m",
      "\u001b[1;31mKeyError\u001b[0m                                  Traceback (most recent call last)",
      "Cell \u001b[1;32mIn[24], line 1\u001b[0m\n\u001b[1;32m----> 1\u001b[0m state_population[\u001b[38;5;124m\"\u001b[39m\u001b[38;5;124mKA\u001b[39m\u001b[38;5;124m\"\u001b[39m]\n",
      "\u001b[1;31mKeyError\u001b[0m: 'KA'"
     ]
    }
   ],
   "source": [
    "state_population[\"KA\"]                        #Key KA is not present. Hence, error occured"
   ]
  },
  {
   "cell_type": "code",
   "execution_count": 25,
   "id": "8d9b570f",
   "metadata": {},
   "outputs": [],
   "source": [
    "state_population.get(\"KA\")                     # This will return None as no such a key is present."
   ]
  },
  {
   "cell_type": "code",
   "execution_count": 27,
   "id": "06d9a948",
   "metadata": {},
   "outputs": [
    {
     "data": {
      "text/plain": [
       "30000000"
      ]
     },
     "execution_count": 27,
     "metadata": {},
     "output_type": "execute_result"
    }
   ],
   "source": [
    "state_population.get(\"MH\")                     # This will return value as MH key is present in dictionary"
   ]
  },
  {
   "cell_type": "code",
   "execution_count": 62,
   "id": "08821068",
   "metadata": {},
   "outputs": [
    {
     "data": {
      "text/plain": [
       "30000000"
      ]
     },
     "execution_count": 62,
     "metadata": {},
     "output_type": "execute_result"
    }
   ],
   "source": [
    "state_population.get(\"MH\",\"Key not Found\")                     # This will return value as MH key is present in dictionary"
   ]
  },
  {
   "cell_type": "code",
   "execution_count": 53,
   "id": "95685d62",
   "metadata": {},
   "outputs": [],
   "source": [
    "x=state_population.get(\"KA\",\"Key Not Found\")     # User defined message to convey that key is not present."
   ]
  },
  {
   "cell_type": "code",
   "execution_count": 54,
   "id": "e363d59b",
   "metadata": {},
   "outputs": [
    {
     "data": {
      "text/plain": [
       "'Key Not Found'"
      ]
     },
     "execution_count": 54,
     "metadata": {},
     "output_type": "execute_result"
    }
   ],
   "source": [
    "x"
   ]
  },
  {
   "cell_type": "code",
   "execution_count": 29,
   "id": "40defae7",
   "metadata": {},
   "outputs": [
    {
     "data": {
      "text/plain": [
       "1500000"
      ]
     },
     "execution_count": 29,
     "metadata": {},
     "output_type": "execute_result"
    }
   ],
   "source": [
    "state_population.pop(\"HR\")"
   ]
  },
  {
   "cell_type": "code",
   "execution_count": 30,
   "id": "7327688a",
   "metadata": {},
   "outputs": [
    {
     "data": {
      "text/plain": [
       "{'DL': 1300000, 'MH': 30000000}"
      ]
     },
     "execution_count": 30,
     "metadata": {},
     "output_type": "execute_result"
    }
   ],
   "source": [
    "state_population"
   ]
  },
  {
   "cell_type": "code",
   "execution_count": 31,
   "id": "02605d11",
   "metadata": {},
   "outputs": [
    {
     "name": "stdout",
     "output_type": "stream",
     "text": [
      "{1: 'Bhushan', 2: 'Nikita', 3: 'Shiva'}\n"
     ]
    }
   ],
   "source": [
    "stud={ 1:\"Bhushan\",\n",
    "       2:\"Nikita\",\n",
    "       3:\"Shiva\"\n",
    "     }\n",
    "print(stud)"
   ]
  },
  {
   "cell_type": "code",
   "execution_count": 32,
   "id": "65274664",
   "metadata": {},
   "outputs": [
    {
     "name": "stdout",
     "output_type": "stream",
     "text": [
      "1\n",
      "2\n",
      "3\n"
     ]
    }
   ],
   "source": [
    "#Key are printed\n",
    "for ele in stud:\n",
    "    print(ele)"
   ]
  },
  {
   "cell_type": "code",
   "execution_count": 35,
   "id": "aa7cb856",
   "metadata": {},
   "outputs": [
    {
     "name": "stdout",
     "output_type": "stream",
     "text": [
      "Bhushan\n",
      "Nikita\n",
      "Shiva\n"
     ]
    }
   ],
   "source": [
    "#Values are printed\n",
    "for ele in stud:\n",
    "    print(stud[ele])"
   ]
  },
  {
   "cell_type": "code",
   "execution_count": 40,
   "id": "a7be0152",
   "metadata": {},
   "outputs": [
    {
     "name": "stdout",
     "output_type": "stream",
     "text": [
      "Roll No.1 is Bhushan.\n",
      "Roll No.2 is Nikita.\n",
      "Roll No.3 is Shiva.\n"
     ]
    }
   ],
   "source": [
    "for ele in stud:\n",
    "    print(f\"Roll No.{ele} is {stud[ele]}.\")"
   ]
  },
  {
   "cell_type": "code",
   "execution_count": 41,
   "id": "17d68bff",
   "metadata": {},
   "outputs": [
    {
     "data": {
      "text/plain": [
       "dict_keys([1, 2, 3])"
      ]
     },
     "execution_count": 41,
     "metadata": {},
     "output_type": "execute_result"
    }
   ],
   "source": [
    "stud.keys()"
   ]
  },
  {
   "cell_type": "code",
   "execution_count": 42,
   "id": "e01d012a",
   "metadata": {},
   "outputs": [
    {
     "data": {
      "text/plain": [
       "dict_values(['Bhushan', 'Nikita', 'Shiva'])"
      ]
     },
     "execution_count": 42,
     "metadata": {},
     "output_type": "execute_result"
    }
   ],
   "source": [
    "stud.values()"
   ]
  },
  {
   "cell_type": "code",
   "execution_count": 43,
   "id": "a16cecc8",
   "metadata": {},
   "outputs": [
    {
     "data": {
      "text/plain": [
       "dict_items([(1, 'Bhushan'), (2, 'Nikita'), (3, 'Shiva')])"
      ]
     },
     "execution_count": 43,
     "metadata": {},
     "output_type": "execute_result"
    }
   ],
   "source": [
    "stud.items()"
   ]
  },
  {
   "cell_type": "code",
   "execution_count": 44,
   "id": "b8ebeb54",
   "metadata": {},
   "outputs": [
    {
     "name": "stdout",
     "output_type": "stream",
     "text": [
      "1\n",
      "2\n",
      "3\n"
     ]
    }
   ],
   "source": [
    "for key in stud.keys():\n",
    "    print(key)"
   ]
  },
  {
   "cell_type": "code",
   "execution_count": 37,
   "id": "e9f7935b",
   "metadata": {},
   "outputs": [
    {
     "ename": "TypeError",
     "evalue": "cannot unpack non-iterable int object",
     "output_type": "error",
     "traceback": [
      "\u001b[1;31m---------------------------------------------------------------------------\u001b[0m",
      "\u001b[1;31mTypeError\u001b[0m                                 Traceback (most recent call last)",
      "Cell \u001b[1;32mIn[37], line 1\u001b[0m\n\u001b[1;32m----> 1\u001b[0m \u001b[38;5;28;01mfor\u001b[39;00m roll, name \u001b[38;5;129;01min\u001b[39;00m stud:\n\u001b[0;32m      2\u001b[0m     \u001b[38;5;28mprint\u001b[39m(\u001b[38;5;124mf\u001b[39m\u001b[38;5;124m\"\u001b[39m\u001b[38;5;124mRoll No.\u001b[39m\u001b[38;5;132;01m{\u001b[39;00mroll\u001b[38;5;132;01m}\u001b[39;00m\u001b[38;5;124m is \u001b[39m\u001b[38;5;132;01m{\u001b[39;00mname\u001b[38;5;132;01m}\u001b[39;00m\u001b[38;5;124m\"\u001b[39m)\n",
      "\u001b[1;31mTypeError\u001b[0m: cannot unpack non-iterable int object"
     ]
    }
   ],
   "source": [
    "for roll, name in stud:\n",
    "    print(f\"Roll No.{roll} is {name}\")"
   ]
  },
  {
   "cell_type": "code",
   "execution_count": 45,
   "id": "d59e70e7",
   "metadata": {},
   "outputs": [
    {
     "name": "stdout",
     "output_type": "stream",
     "text": [
      "Roll No.1 is Bhushan\n",
      "Roll No.2 is Nikita\n",
      "Roll No.3 is Shiva\n"
     ]
    }
   ],
   "source": [
    "for roll_no,name in stud.items():\n",
    "    print(f\"Roll No.{roll_no} is {name}\")"
   ]
  },
  {
   "cell_type": "markdown",
   "id": "11c2386c",
   "metadata": {},
   "source": [
    "### **Important**\n",
    "1. Values -> Can by any Data Structure\n",
    "2. Key -> Can't be List, Dictionaries, Sets as they are unhashable. Tuple is Hashable"
   ]
  },
  {
   "cell_type": "code",
   "execution_count": 50,
   "id": "773d413c",
   "metadata": {},
   "outputs": [],
   "source": [
    "car = {\n",
    "         \"Brand\":(\"Hyundai\",\"TATA\",\"Maruti\"),\n",
    "         \"Model\":{\"Hyundai\":(\"i10\",\"i20\",\"Creta\")},\n",
    "         \"Color\":[\"Red\",\"Polar White\"],\n",
    "         \"Price\":1200000,\n",
    "         \"Registration\":\"MH\",\n",
    "         (\"Year_of_Manufacturing\",\"Year_of_Registration\"):[2019,2020]\n",
    "      }"
   ]
  },
  {
   "cell_type": "code",
   "execution_count": 52,
   "id": "d960a7e1",
   "metadata": {},
   "outputs": [
    {
     "data": {
      "text/plain": [
       "[2019, 2020]"
      ]
     },
     "execution_count": 52,
     "metadata": {},
     "output_type": "execute_result"
    }
   ],
   "source": [
    "car[(\"Year_of_Manufacturing\",\"Year_of_Registration\")]"
   ]
  },
  {
   "cell_type": "markdown",
   "id": "00942f58",
   "metadata": {},
   "source": [
    "### Take a string as input. Create a dictionary acc to following criteria.\n",
    "1. There will be on key: value pair.\n",
    "2. Keys are unique character\n",
    "3. values are keys's number of occurences in string"
   ]
  },
  {
   "cell_type": "code",
   "execution_count": 61,
   "id": "dcd4d2dd",
   "metadata": {},
   "outputs": [
    {
     "name": "stdout",
     "output_type": "stream",
     "text": [
      "Enter the string: Bhushan\n"
     ]
    }
   ],
   "source": [
    "string=input(\"Enter the string: \")\n",
    "str_dict={}\n",
    "cnt=1\n",
    "for i in string:\n",
    "    x=str_dict.get(i,\"Key not found\")\n",
    "    if x == \"Key not found\":\n",
    "        str_dict[i]=cnt\n",
    "    else:\n",
    "        str_dict[i]=cnt+1"
   ]
  },
  {
   "cell_type": "code",
   "execution_count": 56,
   "id": "0268fc7f",
   "metadata": {},
   "outputs": [
    {
     "data": {
      "text/plain": [
       "{'B': 1, 'h': 1, 'u': 1, 's': 1, 'a': 1, 'n': 1}"
      ]
     },
     "execution_count": 56,
     "metadata": {},
     "output_type": "execute_result"
    }
   ],
   "source": [
    "str_dict"
   ]
  },
  {
   "cell_type": "code",
   "execution_count": 64,
   "id": "ab988631",
   "metadata": {},
   "outputs": [
    {
     "name": "stdout",
     "output_type": "stream",
     "text": [
      "Enter the string: Bhushan\n",
      "{'B': 1, 'h': 2, 'u': 1, 's': 1, 'a': 1, 'n': 1}\n"
     ]
    }
   ],
   "source": [
    "string=input(\"Enter the string: \")\n",
    "str_dict={}\n",
    "cnt=1\n",
    "for i in string:\n",
    "    if i in str_dict.keys():\n",
    "        str_dict[i]=cnt+1\n",
    "    else:\n",
    "        str_dict[i]=cnt\n",
    "print(str_dict)"
   ]
  }
 ],
 "metadata": {
  "kernelspec": {
   "display_name": "Python 3 (ipykernel)",
   "language": "python",
   "name": "python3"
  },
  "language_info": {
   "codemirror_mode": {
    "name": "ipython",
    "version": 3
   },
   "file_extension": ".py",
   "mimetype": "text/x-python",
   "name": "python",
   "nbconvert_exporter": "python",
   "pygments_lexer": "ipython3",
   "version": "3.11.5"
  }
 },
 "nbformat": 4,
 "nbformat_minor": 5
}
