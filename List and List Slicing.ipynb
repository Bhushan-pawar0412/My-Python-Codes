{
 "cells": [
  {
   "cell_type": "markdown",
   "id": "f7ddcd35",
   "metadata": {},
   "source": [
    "### List Declaration and Printing"
   ]
  },
  {
   "cell_type": "code",
   "execution_count": 5,
   "id": "b403944f",
   "metadata": {},
   "outputs": [],
   "source": [
    "runs=[100,5,29,82,183]      #Declaration List of integers"
   ]
  },
  {
   "cell_type": "code",
   "execution_count": 6,
   "id": "6d383bbe",
   "metadata": {},
   "outputs": [
    {
     "data": {
      "text/plain": [
       "[100, 5, 29, 82, 183]"
      ]
     },
     "execution_count": 6,
     "metadata": {},
     "output_type": "execute_result"
    }
   ],
   "source": [
    "runs                        #Accessing list"
   ]
  },
  {
   "cell_type": "code",
   "execution_count": 7,
   "id": "a67c8cb5",
   "metadata": {},
   "outputs": [],
   "source": [
    "n=len(runs)                 #Finding out length of list"
   ]
  },
  {
   "cell_type": "code",
   "execution_count": 8,
   "id": "707db80b",
   "metadata": {},
   "outputs": [
    {
     "data": {
      "text/plain": [
       "5"
      ]
     },
     "execution_count": 8,
     "metadata": {},
     "output_type": "execute_result"
    }
   ],
   "source": [
    "n                           #Printing variable n"
   ]
  },
  {
   "cell_type": "markdown",
   "id": "91d1071c",
   "metadata": {},
   "source": [
    "### List Accessing Terminologies"
   ]
  },
  {
   "cell_type": "code",
   "execution_count": 13,
   "id": "ca5ded49",
   "metadata": {},
   "outputs": [
    {
     "data": {
      "text/plain": [
       "100"
      ]
     },
     "execution_count": 13,
     "metadata": {},
     "output_type": "execute_result"
    }
   ],
   "source": [
    "runs[0]"
   ]
  },
  {
   "cell_type": "code",
   "execution_count": 14,
   "id": "8ed7dca2",
   "metadata": {},
   "outputs": [
    {
     "data": {
      "text/plain": [
       "5"
      ]
     },
     "execution_count": 14,
     "metadata": {},
     "output_type": "execute_result"
    }
   ],
   "source": [
    "runs[1]"
   ]
  },
  {
   "cell_type": "code",
   "execution_count": 15,
   "id": "138f3252",
   "metadata": {},
   "outputs": [
    {
     "ename": "IndexError",
     "evalue": "list index out of range",
     "output_type": "error",
     "traceback": [
      "\u001b[1;31m---------------------------------------------------------------------------\u001b[0m",
      "\u001b[1;31mIndexError\u001b[0m                                Traceback (most recent call last)",
      "Cell \u001b[1;32mIn[15], line 1\u001b[0m\n\u001b[1;32m----> 1\u001b[0m runs[n]\n",
      "\u001b[1;31mIndexError\u001b[0m: list index out of range"
     ]
    }
   ],
   "source": [
    "runs[n]                            # Error as index start from 0, Last element should be n-1."
   ]
  },
  {
   "cell_type": "code",
   "execution_count": 16,
   "id": "309c0426",
   "metadata": {},
   "outputs": [
    {
     "data": {
      "text/plain": [
       "183"
      ]
     },
     "execution_count": 16,
     "metadata": {},
     "output_type": "execute_result"
    }
   ],
   "source": [
    "runs[n-1]"
   ]
  },
  {
   "cell_type": "code",
   "execution_count": 17,
   "id": "c6c7abae",
   "metadata": {},
   "outputs": [
    {
     "data": {
      "text/plain": [
       "183"
      ]
     },
     "execution_count": 17,
     "metadata": {},
     "output_type": "execute_result"
    }
   ],
   "source": [
    "runs[-1]                      # -1 index is same as n-1"
   ]
  },
  {
   "cell_type": "code",
   "execution_count": 18,
   "id": "55d46d0d",
   "metadata": {},
   "outputs": [
    {
     "data": {
      "text/plain": [
       "100"
      ]
     },
     "execution_count": 18,
     "metadata": {},
     "output_type": "execute_result"
    }
   ],
   "source": [
    "runs[-n]                      # index n doesn't work but index -n is working as negative index start from 1."
   ]
  },
  {
   "cell_type": "markdown",
   "id": "ee5cda46",
   "metadata": {},
   "source": [
    "#### 1. Positive Index: Starts with 0 and Ends with N-1.\n",
    "#### 2. Negative Index: Starts with -1 and Ends with -N.\n",
    "\n",
    "#### 3. runs[n-1] is same as runs[-1]\n",
    "#### 4. runs[0] is same as runs[-n]"
   ]
  },
  {
   "cell_type": "markdown",
   "id": "4fb32e13",
   "metadata": {},
   "source": [
    "### Lists Updation"
   ]
  },
  {
   "cell_type": "code",
   "execution_count": 19,
   "id": "604fec60",
   "metadata": {},
   "outputs": [
    {
     "data": {
      "text/plain": [
       "[100, 5, 29, 82, 183]"
      ]
     },
     "execution_count": 19,
     "metadata": {},
     "output_type": "execute_result"
    }
   ],
   "source": [
    "runs"
   ]
  },
  {
   "cell_type": "code",
   "execution_count": 20,
   "id": "9b2d1fb2",
   "metadata": {},
   "outputs": [],
   "source": [
    "runs[1]=79                    #updating values of elements"
   ]
  },
  {
   "cell_type": "code",
   "execution_count": 21,
   "id": "fbe6dc4b",
   "metadata": {},
   "outputs": [
    {
     "data": {
      "text/plain": [
       "[100, 79, 29, 82, 183]"
      ]
     },
     "execution_count": 21,
     "metadata": {},
     "output_type": "execute_result"
    }
   ],
   "source": [
    "runs"
   ]
  },
  {
   "cell_type": "code",
   "execution_count": 22,
   "id": "378ab7c3",
   "metadata": {},
   "outputs": [
    {
     "data": {
      "text/plain": [
       "129"
      ]
     },
     "execution_count": 22,
     "metadata": {},
     "output_type": "execute_result"
    }
   ],
   "source": [
    "runs[0]+runs[2]                #adding two elements"
   ]
  },
  {
   "cell_type": "markdown",
   "id": "46ad2473",
   "metadata": {},
   "source": [
    "### Adding Elements to List.\n",
    "1. append(element)           -> adds element at the end.\n",
    "2. insert(index, element)    -> adds element at given index\n",
    "3. extend(new_list)          -> extends existing list by new_list.\n",
    "4. concatenation(+ Operator) -> adds two lists"
   ]
  },
  {
   "cell_type": "code",
   "execution_count": 41,
   "id": "33f62b8c",
   "metadata": {},
   "outputs": [
    {
     "name": "stdout",
     "output_type": "stream",
     "text": [
      "Before Updation [45, 67, 90, 101, 55, 100]\n",
      "After updation  [45, 67, 90, 101, 55, 100, 82]\n"
     ]
    }
   ],
   "source": [
    "a=[45,67,90,101,55,100]\n",
    "print(f\"Before Updation\",a)\n",
    "a.append(82)                                          #append() adds element at the end.\n",
    "print(f\"After updation \",a)"
   ]
  },
  {
   "cell_type": "code",
   "execution_count": 42,
   "id": "57910e96",
   "metadata": {},
   "outputs": [
    {
     "name": "stdout",
     "output_type": "stream",
     "text": [
      "Inserted 56 element at index 0\n",
      "a= [56, 45, 67, 90, 101, 55, 100, 82]\n"
     ]
    }
   ],
   "source": [
    "a.insert(0,56)\n",
    "print(f\"Inserted 56 element at index 0\\na=\",a)"
   ]
  },
  {
   "cell_type": "code",
   "execution_count": 43,
   "id": "9cd402e0",
   "metadata": {},
   "outputs": [
    {
     "name": "stdout",
     "output_type": "stream",
     "text": [
      "Inserted 96 element at index 6\n",
      "a= [56, 45, 67, 90, 101, 55, 96, 100, 82]\n"
     ]
    }
   ],
   "source": [
    "a.insert(6,96)\n",
    "print(f\"Inserted 96 element at index 6\\na=\",a)"
   ]
  },
  {
   "cell_type": "code",
   "execution_count": 44,
   "id": "fcc0eb5d",
   "metadata": {},
   "outputs": [
    {
     "name": "stdout",
     "output_type": "stream",
     "text": [
      "Added new list of 3 elements at the end of existing list\n",
      "a= [56, 45, 67, 90, 101, 55, 96, 100, 82, 91, 110, 93]\n"
     ]
    }
   ],
   "source": [
    "new_a=[91,110,93]\n",
    "a.extend(new_a)\n",
    "print(f\"Added new list of 3 elements at the end of existing list\\na=\",a)"
   ]
  },
  {
   "cell_type": "code",
   "execution_count": 45,
   "id": "bedd2744",
   "metadata": {},
   "outputs": [
    {
     "name": "stdout",
     "output_type": "stream",
     "text": [
      "New list after concatenating a and new_a\n",
      "a= [56, 45, 67, 90, 101, 55, 96, 100, 82, 91, 110, 93, 1, 59, 31]\n"
     ]
    }
   ],
   "source": [
    "new_a=[1,59,31]\n",
    "a=a+new_a\n",
    "print(f\"New list after concatenating a and new_a\\na=\",a)"
   ]
  },
  {
   "cell_type": "markdown",
   "id": "a212abf3",
   "metadata": {},
   "source": [
    "### In-Built functions"
   ]
  },
  {
   "cell_type": "code",
   "execution_count": 47,
   "id": "e31db517",
   "metadata": {},
   "outputs": [
    {
     "name": "stdout",
     "output_type": "stream",
     "text": [
      "[56, 45, 67, 90, 101, 55, 96, 100, 82, 91, 110, 93, 1, 59, 31]\n"
     ]
    }
   ],
   "source": [
    "print(a)"
   ]
  },
  {
   "cell_type": "code",
   "execution_count": 54,
   "id": "55b77de0",
   "metadata": {},
   "outputs": [
    {
     "name": "stdout",
     "output_type": "stream",
     "text": [
      "Lowest Score: 1\n",
      "Highest Score: 110\n",
      "Total Runs: 1077\n",
      "Number of Innings:  15\n",
      "Batting Average: 71.8\n"
     ]
    }
   ],
   "source": [
    "\"\"\"Finding Smallest elements in the list\"\"\"\n",
    "minimum=a[-1]\n",
    "for i in a:\n",
    "    if i < minimum:\n",
    "        minimum = i\n",
    "print(f\"Lowest Score:\",minimum)\n",
    "\n",
    "\"\"\"Finding Greatest element in the list\"\"\"\n",
    "maximum=a[0]\n",
    "for i in a:\n",
    "    if i > maximum:\n",
    "        maximum = i\n",
    "print(f\"Highest Score:\",maximum)\n",
    "\n",
    "\"\"\"Finding Sum of elements in the list\"\"\"\n",
    "total=0\n",
    "for ele in a:\n",
    "    total+=ele\n",
    "print(f\"Total Runs:\",total)\n",
    "\n",
    "count=0\n",
    "for ele in a:\n",
    "    count+=1\n",
    "print(f\"Number of Innings: \",count)\n",
    "\n",
    "avg=total/count\n",
    "print(f\"Batting Average:\",avg)\n"
   ]
  },
  {
   "cell_type": "markdown",
   "id": "75ee8721",
   "metadata": {},
   "source": [
    "### Q. 1) Find the sum of elements present at odd indices."
   ]
  },
  {
   "cell_type": "code",
   "execution_count": 61,
   "id": "09f3ba2a",
   "metadata": {},
   "outputs": [
    {
     "name": "stdout",
     "output_type": "stream",
     "text": [
      "15\n"
     ]
    }
   ],
   "source": [
    "lst=[1,4,2,8,6,3]\n",
    "sum=0\n",
    "n=len(lst)\n",
    "for i in range(1,n,2):           #Indices we need is odd, hence starting with 1.\n",
    "    sum+=lst[i]\n",
    "print(sum)"
   ]
  },
  {
   "cell_type": "markdown",
   "id": "100849a6",
   "metadata": {},
   "source": [
    "### Q. 2) Find the sum of elements present at odd Positions."
   ]
  },
  {
   "cell_type": "code",
   "execution_count": 63,
   "id": "714e7247",
   "metadata": {},
   "outputs": [
    {
     "name": "stdout",
     "output_type": "stream",
     "text": [
      "9\n"
     ]
    }
   ],
   "source": [
    "lst=[1,4,2,8,6,3]\n",
    "sum=0\n",
    "n=len(lst)\n",
    "for i in range(0,n,2):           #Positions we need is odd, hence starting with 1.\n",
    "    sum+=lst[i]\n",
    "print(sum)"
   ]
  },
  {
   "cell_type": "markdown",
   "id": "bd321036",
   "metadata": {},
   "source": [
    "### List Slicing "
   ]
  },
  {
   "cell_type": "code",
   "execution_count": null,
   "id": "6c9320c9",
   "metadata": {},
   "outputs": [],
   "source": [
    "a=[3,]"
   ]
  }
 ],
 "metadata": {
  "kernelspec": {
   "display_name": "Python 3 (ipykernel)",
   "language": "python",
   "name": "python3"
  },
  "language_info": {
   "codemirror_mode": {
    "name": "ipython",
    "version": 3
   },
   "file_extension": ".py",
   "mimetype": "text/x-python",
   "name": "python",
   "nbconvert_exporter": "python",
   "pygments_lexer": "ipython3",
   "version": "3.11.5"
  }
 },
 "nbformat": 4,
 "nbformat_minor": 5
}
