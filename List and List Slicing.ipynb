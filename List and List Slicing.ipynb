{
 "cells": [
  {
   "cell_type": "markdown",
   "id": "f4246d9a",
   "metadata": {},
   "source": [
    "# Lists - Mutable and Heterogenenous DST"
   ]
  },
  {
   "cell_type": "markdown",
   "id": "1f0376bf",
   "metadata": {},
   "source": [
    "### List Declaration and Printing"
   ]
  },
  {
   "cell_type": "code",
   "execution_count": 5,
   "id": "630cef19",
   "metadata": {},
   "outputs": [],
   "source": [
    "runs=[100,5,29,82,183]      #Declaration List of integers"
   ]
  },
  {
   "cell_type": "code",
   "execution_count": 6,
   "id": "b7ab5be2",
   "metadata": {},
   "outputs": [
    {
     "data": {
      "text/plain": [
       "[100, 5, 29, 82, 183]"
      ]
     },
     "execution_count": 6,
     "metadata": {},
     "output_type": "execute_result"
    }
   ],
   "source": [
    "runs                        #Accessing list"
   ]
  },
  {
   "cell_type": "code",
   "execution_count": 7,
   "id": "a1adca33",
   "metadata": {},
   "outputs": [],
   "source": [
    "n=len(runs)                 #Finding out length of list"
   ]
  },
  {
   "cell_type": "code",
   "execution_count": 8,
   "id": "f50f912e",
   "metadata": {},
   "outputs": [
    {
     "data": {
      "text/plain": [
       "5"
      ]
     },
     "execution_count": 8,
     "metadata": {},
     "output_type": "execute_result"
    }
   ],
   "source": [
    "n                           #Printing variable n"
   ]
  },
  {
   "cell_type": "markdown",
   "id": "8a3526ab",
   "metadata": {},
   "source": [
    "### List Accessing Terminologies"
   ]
  },
  {
   "cell_type": "code",
   "execution_count": 13,
   "id": "78a0450b",
   "metadata": {},
   "outputs": [
    {
     "data": {
      "text/plain": [
       "100"
      ]
     },
     "execution_count": 13,
     "metadata": {},
     "output_type": "execute_result"
    }
   ],
   "source": [
    "runs[0]"
   ]
  },
  {
   "cell_type": "code",
   "execution_count": 14,
   "id": "3ef117aa",
   "metadata": {},
   "outputs": [
    {
     "data": {
      "text/plain": [
       "5"
      ]
     },
     "execution_count": 14,
     "metadata": {},
     "output_type": "execute_result"
    }
   ],
   "source": [
    "runs[1]"
   ]
  },
  {
   "cell_type": "code",
   "execution_count": 15,
   "id": "099cbe8a",
   "metadata": {},
   "outputs": [
    {
     "ename": "IndexError",
     "evalue": "list index out of range",
     "output_type": "error",
     "traceback": [
      "\u001b[1;31m---------------------------------------------------------------------------\u001b[0m",
      "\u001b[1;31mIndexError\u001b[0m                                Traceback (most recent call last)",
      "Cell \u001b[1;32mIn[15], line 1\u001b[0m\n\u001b[1;32m----> 1\u001b[0m runs[n]\n",
      "\u001b[1;31mIndexError\u001b[0m: list index out of range"
     ]
    }
   ],
   "source": [
    "runs[n]                            # Error as index start from 0, Last element should be n-1."
   ]
  },
  {
   "cell_type": "code",
   "execution_count": 16,
   "id": "9cb4bad3",
   "metadata": {},
   "outputs": [
    {
     "data": {
      "text/plain": [
       "183"
      ]
     },
     "execution_count": 16,
     "metadata": {},
     "output_type": "execute_result"
    }
   ],
   "source": [
    "runs[n-1]"
   ]
  },
  {
   "cell_type": "code",
   "execution_count": 17,
   "id": "7bfc25f1",
   "metadata": {},
   "outputs": [
    {
     "data": {
      "text/plain": [
       "183"
      ]
     },
     "execution_count": 17,
     "metadata": {},
     "output_type": "execute_result"
    }
   ],
   "source": [
    "runs[-1]                      # -1 index is same as n-1"
   ]
  },
  {
   "cell_type": "code",
   "execution_count": 18,
   "id": "263b2a6f",
   "metadata": {},
   "outputs": [
    {
     "data": {
      "text/plain": [
       "100"
      ]
     },
     "execution_count": 18,
     "metadata": {},
     "output_type": "execute_result"
    }
   ],
   "source": [
    "runs[-n]                      # index n doesn't work but index -n is working as negative index start from 1."
   ]
  },
  {
   "cell_type": "markdown",
   "id": "8c79acb2",
   "metadata": {},
   "source": [
    "#### 1. Positive Index: Starts with 0 and Ends with N-1.\n",
    "#### 2. Negative Index: Starts with -1 and Ends with -N.\n",
    "\n",
    "#### 3. runs[n-1] is same as runs[-1]\n",
    "#### 4. runs[0] is same as runs[-n]"
   ]
  },
  {
   "cell_type": "markdown",
   "id": "7a0bc80f",
   "metadata": {},
   "source": [
    "### Lists Updation"
   ]
  },
  {
   "cell_type": "code",
   "execution_count": 19,
   "id": "c40afe68",
   "metadata": {},
   "outputs": [
    {
     "data": {
      "text/plain": [
       "[100, 5, 29, 82, 183]"
      ]
     },
     "execution_count": 19,
     "metadata": {},
     "output_type": "execute_result"
    }
   ],
   "source": [
    "runs"
   ]
  },
  {
   "cell_type": "code",
   "execution_count": 20,
   "id": "ff595d38",
   "metadata": {},
   "outputs": [],
   "source": [
    "runs[1]=79                    #updating values of elements"
   ]
  },
  {
   "cell_type": "code",
   "execution_count": 21,
   "id": "87a4d06c",
   "metadata": {},
   "outputs": [
    {
     "data": {
      "text/plain": [
       "[100, 79, 29, 82, 183]"
      ]
     },
     "execution_count": 21,
     "metadata": {},
     "output_type": "execute_result"
    }
   ],
   "source": [
    "runs"
   ]
  },
  {
   "cell_type": "code",
   "execution_count": 22,
   "id": "aae713fc",
   "metadata": {},
   "outputs": [
    {
     "data": {
      "text/plain": [
       "129"
      ]
     },
     "execution_count": 22,
     "metadata": {},
     "output_type": "execute_result"
    }
   ],
   "source": [
    "runs[0]+runs[2]                #adding two elements"
   ]
  },
  {
   "cell_type": "markdown",
   "id": "8e4fcacd",
   "metadata": {},
   "source": [
    "### Adding Elements to List.\n",
    "1. append(element)           -> adds element at the end.\n",
    "2. insert(index, element)    -> adds element at given index\n",
    "3. extend(new_list)          -> extends existing list by new_list.\n",
    "4. concatenation(+ Operator) -> adds two lists"
   ]
  },
  {
   "cell_type": "code",
   "execution_count": 41,
   "id": "2df24510",
   "metadata": {},
   "outputs": [
    {
     "name": "stdout",
     "output_type": "stream",
     "text": [
      "Before Updation [45, 67, 90, 101, 55, 100]\n",
      "After updation  [45, 67, 90, 101, 55, 100, 82]\n"
     ]
    }
   ],
   "source": [
    "a=[45,67,90,101,55,100]\n",
    "print(f\"Before Updation\",a)\n",
    "a.append(82)                                          #append() adds element at the end.\n",
    "print(f\"After updation \",a)"
   ]
  },
  {
   "cell_type": "code",
   "execution_count": 42,
   "id": "5efec996",
   "metadata": {},
   "outputs": [
    {
     "name": "stdout",
     "output_type": "stream",
     "text": [
      "Inserted 56 element at index 0\n",
      "a= [56, 45, 67, 90, 101, 55, 100, 82]\n"
     ]
    }
   ],
   "source": [
    "a.insert(0,56)\n",
    "print(f\"Inserted 56 element at index 0\\na=\",a)"
   ]
  },
  {
   "cell_type": "code",
   "execution_count": 43,
   "id": "e639285d",
   "metadata": {},
   "outputs": [
    {
     "name": "stdout",
     "output_type": "stream",
     "text": [
      "Inserted 96 element at index 6\n",
      "a= [56, 45, 67, 90, 101, 55, 96, 100, 82]\n"
     ]
    }
   ],
   "source": [
    "a.insert(6,96)\n",
    "print(f\"Inserted 96 element at index 6\\na=\",a)"
   ]
  },
  {
   "cell_type": "code",
   "execution_count": 44,
   "id": "1357efad",
   "metadata": {},
   "outputs": [
    {
     "name": "stdout",
     "output_type": "stream",
     "text": [
      "Added new list of 3 elements at the end of existing list\n",
      "a= [56, 45, 67, 90, 101, 55, 96, 100, 82, 91, 110, 93]\n"
     ]
    }
   ],
   "source": [
    "new_a=[91,110,93]\n",
    "a.extend(new_a)\n",
    "print(f\"Added new list of 3 elements at the end of existing list\\na=\",a)"
   ]
  },
  {
   "cell_type": "code",
   "execution_count": 45,
   "id": "9404b09f",
   "metadata": {},
   "outputs": [
    {
     "name": "stdout",
     "output_type": "stream",
     "text": [
      "New list after concatenating a and new_a\n",
      "a= [56, 45, 67, 90, 101, 55, 96, 100, 82, 91, 110, 93, 1, 59, 31]\n"
     ]
    }
   ],
   "source": [
    "new_a=[1,59,31]\n",
    "a=a+new_a\n",
    "print(f\"New list after concatenating a and new_a\\na=\",a)"
   ]
  },
  {
   "cell_type": "markdown",
   "id": "f7744cd7",
   "metadata": {},
   "source": [
    "### In-Built functions"
   ]
  },
  {
   "cell_type": "code",
   "execution_count": 47,
   "id": "21a328f0",
   "metadata": {},
   "outputs": [
    {
     "name": "stdout",
     "output_type": "stream",
     "text": [
      "[56, 45, 67, 90, 101, 55, 96, 100, 82, 91, 110, 93, 1, 59, 31]\n"
     ]
    }
   ],
   "source": [
    "print(a)"
   ]
  },
  {
   "cell_type": "code",
   "execution_count": 54,
   "id": "ed8cd1f4",
   "metadata": {},
   "outputs": [
    {
     "name": "stdout",
     "output_type": "stream",
     "text": [
      "Lowest Score: 1\n",
      "Highest Score: 110\n",
      "Total Runs: 1077\n",
      "Number of Innings:  15\n",
      "Batting Average: 71.8\n"
     ]
    }
   ],
   "source": [
    "\"\"\"Finding Smallest elements in the list\"\"\"\n",
    "minimum=a[-1]\n",
    "for i in a:\n",
    "    if i < minimum:\n",
    "        minimum = i\n",
    "print(f\"Lowest Score:\",minimum)\n",
    "\n",
    "\"\"\"Finding Greatest element in the list\"\"\"\n",
    "maximum=a[0]\n",
    "for i in a:\n",
    "    if i > maximum:\n",
    "        maximum = i\n",
    "print(f\"Highest Score:\",maximum)\n",
    "\n",
    "\"\"\"Finding Sum of elements in the list\"\"\"\n",
    "total=0\n",
    "for ele in a:\n",
    "    total+=ele\n",
    "print(f\"Total Runs:\",total)\n",
    "\n",
    "count=0\n",
    "for ele in a:\n",
    "    count+=1\n",
    "print(f\"Number of Innings: \",count)\n",
    "\n",
    "avg=total/count\n",
    "print(f\"Batting Average:\",avg)\n"
   ]
  },
  {
   "cell_type": "markdown",
   "id": "64188909",
   "metadata": {},
   "source": [
    "### Q. 1) Find the sum of elements present at odd indices."
   ]
  },
  {
   "cell_type": "code",
   "execution_count": 61,
   "id": "bebb7bee",
   "metadata": {},
   "outputs": [
    {
     "name": "stdout",
     "output_type": "stream",
     "text": [
      "15\n"
     ]
    }
   ],
   "source": [
    "lst=[1,4,2,8,6,3]\n",
    "sum=0\n",
    "n=len(lst)\n",
    "for i in range(1,n,2):           #Indices we need is odd, hence starting with 1.\n",
    "    sum+=lst[i]\n",
    "print(sum)"
   ]
  },
  {
   "cell_type": "markdown",
   "id": "00507dcb",
   "metadata": {},
   "source": [
    "### Q. 2) Find the sum of elements present at odd Positions."
   ]
  },
  {
   "cell_type": "code",
   "execution_count": 63,
   "id": "09b48008",
   "metadata": {},
   "outputs": [
    {
     "name": "stdout",
     "output_type": "stream",
     "text": [
      "9\n"
     ]
    }
   ],
   "source": [
    "lst=[1,4,2,8,6,3]\n",
    "sum=0\n",
    "n=len(lst)\n",
    "for i in range(0,n,2):           #Positions we need is odd, hence starting with 1.\n",
    "    sum+=lst[i]\n",
    "print(sum)"
   ]
  },
  {
   "cell_type": "code",
   "execution_count": 64,
   "id": "7c63041a",
   "metadata": {},
   "outputs": [
    {
     "name": "stdout",
     "output_type": "stream",
     "text": [
      "[3, 2, 9, 7, 10, 24, 56, 1, 90]\n"
     ]
    }
   ],
   "source": [
    "a=[3,2,9,7,10,24,56,1,90]\n",
    "print(a)"
   ]
  },
  {
   "cell_type": "markdown",
   "id": "247de866",
   "metadata": {},
   "source": [
    "### Q. 3) Even Position elements "
   ]
  },
  {
   "cell_type": "code",
   "execution_count": 65,
   "id": "1499b86e",
   "metadata": {},
   "outputs": [
    {
     "name": "stdout",
     "output_type": "stream",
     "text": [
      "Old List [3, 2, 9, 7, 10, 24, 56, 1, 90]\n",
      "New List [3, 9, 10, 56, 90]\n",
      "Old List [3, 2, 9, 7, 10, 24, 56, 1, 90]\n",
      "New List [3, 9, 10, 56, 90]\n"
     ]
    }
   ],
   "source": [
    "a=[3,2,9,7,10,24,56,1,90]\n",
    "b=[]\n",
    "n=len(a)\n",
    "for i in range(0,n):\n",
    "    if i % 2 == 0:                            #Using if loop on i.\n",
    "        b.append(a[i])\n",
    "print(f\"Old List\",a)\n",
    "print(f\"New List\",b)\n",
    "\n",
    "a1=[3,2,9,7,10,24,56,1,90]\n",
    "b1=[]\n",
    "n=len(a1)\n",
    "for i in range(0,n,2):                         #Using Jump parameter\n",
    "    b1.append(a[i])\n",
    "print(f\"Old List\",a1)\n",
    "print(f\"New List\",b1)"
   ]
  },
  {
   "cell_type": "markdown",
   "id": "f0d34d15",
   "metadata": {},
   "source": [
    "#### Q. 4) Create a new list of last 5 elements of list a.  "
   ]
  },
  {
   "cell_type": "code",
   "execution_count": 77,
   "id": "98392429",
   "metadata": {},
   "outputs": [
    {
     "name": "stdout",
     "output_type": "stream",
     "text": [
      "Elements are added in Reverse Order [90, 1, 56, 24, 10]\n",
      "Elements are added in Actual Order [10, 24, 56, 1, 90]\n"
     ]
    }
   ],
   "source": [
    "a=[3,2,9,7,10,24,56,1,90]\n",
    "b=[]\n",
    "n=len(a)\n",
    "for i in range(n-1,n-6,-1):\n",
    "    b.append(a[i])\n",
    "print(f\"Elements are added in Reverse Order\",b)\n",
    "\n",
    "a1=[3,2,9,7,10,24,56,1,90]\n",
    "b1=[]\n",
    "n=len(a1)\n",
    "for i in range(n-5,n):\n",
    "    b1.append(a1[i])\n",
    "print(f\"Elements are added in Actual Order\",b1)"
   ]
  },
  {
   "cell_type": "markdown",
   "id": "6635f5ef",
   "metadata": {},
   "source": [
    "### Q. 5) First 3 Positions"
   ]
  },
  {
   "cell_type": "code",
   "execution_count": 82,
   "id": "62f146e3",
   "metadata": {},
   "outputs": [
    {
     "name": "stdout",
     "output_type": "stream",
     "text": [
      "[3, 2, 9]\n"
     ]
    }
   ],
   "source": [
    "a=[3,2,9,7,10,24,56,1,90]\n",
    "b=[]\n",
    "for i in range(0,3):\n",
    "    b.append(a[i])\n",
    "print(b)"
   ]
  },
  {
   "cell_type": "markdown",
   "id": "9d474fe1",
   "metadata": {},
   "source": [
    "### Q. 6) 3rd to 7th Positions. Positions=index+1"
   ]
  },
  {
   "cell_type": "code",
   "execution_count": 84,
   "id": "f89401a1",
   "metadata": {},
   "outputs": [
    {
     "name": "stdout",
     "output_type": "stream",
     "text": [
      "[9, 7, 10, 24, 56]\n"
     ]
    }
   ],
   "source": [
    "a=[3,2,9,7,10,24,56,1,90]\n",
    "b=[]\n",
    "for i in range(2,7):\n",
    "    b.append(a[i])\n",
    "print(b)"
   ]
  },
  {
   "cell_type": "markdown",
   "id": "d934c226",
   "metadata": {},
   "source": [
    "### Q. 7) Rotate List by 1 Position."
   ]
  },
  {
   "cell_type": "code",
   "execution_count": 156,
   "id": "080e332c",
   "metadata": {},
   "outputs": [
    {
     "name": "stdout",
     "output_type": "stream",
     "text": [
      "Orginal List [1, 2, 3, 4, 5]\n",
      "After Rotating [5, 1, 2, 3, 4]\n",
      "Orginal List [1, 2, 3, 4, 5]\n",
      "After Rotating [5, 1, 2, 3, 4]\n",
      "Orginal List [1, 2, 3, 4, 5]\n",
      "After Rotating [None, 1, 2, 3, 4]\n"
     ]
    }
   ],
   "source": [
    "a=[1,2,3,4,5]\n",
    "n=len(a)\n",
    "b=a[:n-1]\n",
    "c=a[-1:]\n",
    "final=c+b\n",
    "print(f\"Orginal List {a}\\nAfter Rotating {final}\")\n",
    "\n",
    "a=[1,2,3,4,5]\n",
    "print(f\"Orginal List {a}\")\n",
    "x=a.pop()\n",
    "a.insert(0,x)\n",
    "print(f\"After Rotating {a}\")\n",
    "\n",
    "a=[1,2,3,4,5]\n",
    "print(f\"Orginal List {a}\")\n",
    "x=a.remove(5)                               #remove() returns None (absence of value)\n",
    "a.insert(0,x)                               #so, None value is inserted in original list.\n",
    "print(f\"After Rotating {a}\")"
   ]
  },
  {
   "cell_type": "markdown",
   "id": "466a9a00",
   "metadata": {},
   "source": [
    "### List Slicing "
   ]
  },
  {
   "cell_type": "code",
   "execution_count": 103,
   "id": "95a9c567",
   "metadata": {},
   "outputs": [
    {
     "name": "stdout",
     "output_type": "stream",
     "text": [
      "a[0:5] = [3, 2, 9, 7, 10]\n",
      "a[0:5] = [9, 7, 10, 24, 56]\n",
      "a[1:3] = [2, 9]\n",
      "a[-1:-6:-1] = [90, 1, 56, 24, 10]\n",
      "a[n-5:n] = [10, 24, 56, 1, 90]\n"
     ]
    }
   ],
   "source": [
    "a=[3,2,9,7,10,24,56,1,90]\n",
    "print(f\"a[0:5] =\",a[0:5])                  #First 5 elements\n",
    "print(f\"a[0:5] =\",a[2:7])                  #Position 3 to 7. Position 3 is Index 2 and Position 7 is Index 6.\n",
    "b=a[1:3]\n",
    "print(f\"a[1:3] =\",b)                       #assigning 2 elements of list a to list b.\n",
    "\n",
    "n=len(a)\n",
    "print(f\"a[-1:-6:-1] =\",a[-1:-6:-1])        #Last 5 elements in reverse order.\n",
    "print(f\"a[n-5:n] =\",a[n-5:n])              #Last 5 elements in actual order."
   ]
  },
  {
   "cell_type": "markdown",
   "id": "32609e4e",
   "metadata": {},
   "source": [
    "### Negative Slicing"
   ]
  },
  {
   "cell_type": "code",
   "execution_count": 104,
   "id": "3109e89e",
   "metadata": {},
   "outputs": [
    {
     "name": "stdout",
     "output_type": "stream",
     "text": [
      "[3, 2, 9, 7, 10, 24, 56, 1, 90]\n",
      "a[-5:-1]= [10, 24, 56, 1]\n",
      "a[-7:-4]= [9, 7, 10]\n"
     ]
    }
   ],
   "source": [
    "a=[3,2,9,7,10,24,56,1,90]\n",
    "print(a)\n",
    "print(f\"a[-5:-1]=\",a[-5:-1])\n",
    "print(f\"a[-7:-4]=\",a[-7:-4])\n"
   ]
  },
  {
   "cell_type": "code",
   "execution_count": 108,
   "id": "b32f3d76",
   "metadata": {},
   "outputs": [
    {
     "name": "stdout",
     "output_type": "stream",
     "text": [
      "A[:8] = [10, 20, 30, 40, 50, 60, 70, 80]\n"
     ]
    }
   ],
   "source": [
    "A=[10,20,30,40,50,60,70,80,90,100]\n",
    "print(f\"A[:8] =\",A[:8])"
   ]
  },
  {
   "cell_type": "code",
   "execution_count": 111,
   "id": "4a0b2e7e",
   "metadata": {},
   "outputs": [
    {
     "name": "stdout",
     "output_type": "stream",
     "text": [
      "A[:] = [10, 20, 30, 40, 50, 60, 70, 80, 90, 100]\n"
     ]
    }
   ],
   "source": [
    "print(f\"A[:] =\",A[:])"
   ]
  },
  {
   "cell_type": "code",
   "execution_count": 114,
   "id": "9e687482",
   "metadata": {},
   "outputs": [
    {
     "name": "stdout",
     "output_type": "stream",
     "text": [
      "A[7:] = [80, 90, 100]\n"
     ]
    }
   ],
   "source": [
    "print(f\"A[7:] =\",A[7:])"
   ]
  },
  {
   "cell_type": "code",
   "execution_count": 115,
   "id": "1dea331c",
   "metadata": {},
   "outputs": [
    {
     "name": "stdout",
     "output_type": "stream",
     "text": [
      "A[-2:-5:-1] [90, 80, 70]\n"
     ]
    }
   ],
   "source": [
    "print(f\"A[-2:-5:-1]\",A[-2:-5:-1])"
   ]
  },
  {
   "cell_type": "code",
   "execution_count": 116,
   "id": "5f609ee5",
   "metadata": {},
   "outputs": [
    {
     "name": "stdout",
     "output_type": "stream",
     "text": [
      "A[-2:-7] = []\n"
     ]
    }
   ],
   "source": [
    "print(f\"A[-2:-7] =\",A[-2:-7])"
   ]
  },
  {
   "cell_type": "code",
   "execution_count": 117,
   "id": "599a137f",
   "metadata": {},
   "outputs": [
    {
     "name": "stdout",
     "output_type": "stream",
     "text": [
      "A[:-5] = [10, 20, 30, 40, 50]\n"
     ]
    }
   ],
   "source": [
    "print(f\"A[:-5] =\",A[:-5])"
   ]
  },
  {
   "cell_type": "code",
   "execution_count": 118,
   "id": "880a3cdc",
   "metadata": {},
   "outputs": [
    {
     "name": "stdout",
     "output_type": "stream",
     "text": [
      "A[-2:] = [90, 100]\n"
     ]
    }
   ],
   "source": [
    "print(f\"A[-2:] =\",A[-2:])"
   ]
  },
  {
   "cell_type": "code",
   "execution_count": 119,
   "id": "ca5f0b04",
   "metadata": {},
   "outputs": [
    {
     "name": "stdout",
     "output_type": "stream",
     "text": [
      "A[-8:5] = [30, 40, 50]\n"
     ]
    }
   ],
   "source": [
    "print(f\"A[-8:5] =\",A[-8:5])"
   ]
  },
  {
   "cell_type": "code",
   "execution_count": 120,
   "id": "1d715d9c",
   "metadata": {},
   "outputs": [
    {
     "name": "stdout",
     "output_type": "stream",
     "text": [
      "A[-8:5:-1] = []\n"
     ]
    }
   ],
   "source": [
    "print(f\"A[-8:5:-1] =\",A[-8:5:-1])"
   ]
  },
  {
   "cell_type": "code",
   "execution_count": 121,
   "id": "cf9db5eb",
   "metadata": {},
   "outputs": [
    {
     "name": "stdout",
     "output_type": "stream",
     "text": [
      "A[3:5] = [40, 50]\n"
     ]
    }
   ],
   "source": [
    "print(f\"A[3:5] =\",A[3:5])"
   ]
  },
  {
   "cell_type": "code",
   "execution_count": 157,
   "id": "1d05094a",
   "metadata": {},
   "outputs": [
    {
     "name": "stdout",
     "output_type": "stream",
     "text": [
      "['this', 'is', 'amazing']\n"
     ]
    }
   ],
   "source": [
    "lst=[]\n",
    "random=\"this is amazing\"\n",
    "lst=random.split(\" \")\n",
    "print(lst)"
   ]
  },
  {
   "cell_type": "code",
   "execution_count": 158,
   "id": "d9299167",
   "metadata": {},
   "outputs": [
    {
     "data": {
      "text/plain": [
       "['t', 'h', 'i', 's', ' ', 'i', 's', ' ', 'a', 'm', 'a', 'z', 'i', 'n', 'g']"
      ]
     },
     "execution_count": 158,
     "metadata": {},
     "output_type": "execute_result"
    }
   ],
   "source": [
    "list(random)"
   ]
  }
 ],
 "metadata": {
  "kernelspec": {
   "display_name": "Python 3 (ipykernel)",
   "language": "python",
   "name": "python3"
  },
  "language_info": {
   "codemirror_mode": {
    "name": "ipython",
    "version": 3
   },
   "file_extension": ".py",
   "mimetype": "text/x-python",
   "name": "python",
   "nbconvert_exporter": "python",
   "pygments_lexer": "ipython3",
   "version": "3.11.5"
  }
 },
 "nbformat": 4,
 "nbformat_minor": 5
}
