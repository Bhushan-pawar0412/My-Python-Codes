{
 "cells": [
  {
   "cell_type": "code",
   "execution_count": 1,
   "id": "134e0e44",
   "metadata": {},
   "outputs": [],
   "source": [
    "random=\"My_name_is_Bhushan\"            #string is _ separated\n",
    "list_a=random.split(\"_\")               #Splitting on _ and storing in list"
   ]
  },
  {
   "cell_type": "code",
   "execution_count": 2,
   "id": "8b5831e3",
   "metadata": {},
   "outputs": [
    {
     "name": "stdout",
     "output_type": "stream",
     "text": [
      "['My', 'name', 'is', 'Bhushan']\n"
     ]
    }
   ],
   "source": [
    "print(list_a)"
   ]
  },
  {
   "cell_type": "code",
   "execution_count": 3,
   "id": "dd8a7c74",
   "metadata": {},
   "outputs": [],
   "source": [
    "string=' '.join(list_a)                #Re-joining list elements space separated and stored as string"
   ]
  },
  {
   "cell_type": "code",
   "execution_count": 4,
   "id": "56f88b3d",
   "metadata": {},
   "outputs": [
    {
     "name": "stdout",
     "output_type": "stream",
     "text": [
      "My name is Bhushan\n"
     ]
    }
   ],
   "source": [
    "print(string)"
   ]
  },
  {
   "cell_type": "markdown",
   "id": "196df179",
   "metadata": {},
   "source": [
    "### List don't have join attribute."
   ]
  },
  {
   "cell_type": "code",
   "execution_count": 8,
   "id": "658ef226",
   "metadata": {},
   "outputs": [
    {
     "ename": "AttributeError",
     "evalue": "'list' object has no attribute 'join'",
     "output_type": "error",
     "traceback": [
      "\u001b[1;31m---------------------------------------------------------------------------\u001b[0m",
      "\u001b[1;31mAttributeError\u001b[0m                            Traceback (most recent call last)",
      "Cell \u001b[1;32mIn[8], line 3\u001b[0m\n\u001b[0;32m      1\u001b[0m a\u001b[38;5;241m=\u001b[39m\u001b[38;5;124m\"\u001b[39m\u001b[38;5;124m\"\u001b[39m\n\u001b[0;32m      2\u001b[0m list_a\u001b[38;5;241m=\u001b[39m[\u001b[38;5;124m\"\u001b[39m\u001b[38;5;124mMy\u001b[39m\u001b[38;5;124m\"\u001b[39m,\u001b[38;5;124m\"\u001b[39m\u001b[38;5;124mname\u001b[39m\u001b[38;5;124m\"\u001b[39m,\u001b[38;5;124m\"\u001b[39m\u001b[38;5;124mis\u001b[39m\u001b[38;5;124m\"\u001b[39m,\u001b[38;5;124m\"\u001b[39m\u001b[38;5;124mBhushan\u001b[39m\u001b[38;5;124m\"\u001b[39m]               \u001b[38;5;66;03m#Splitting on _ and storing in list\u001b[39;00m\n\u001b[1;32m----> 3\u001b[0m list_a\u001b[38;5;241m.\u001b[39mjoin(\u001b[38;5;124m\"\u001b[39m\u001b[38;5;124m,\u001b[39m\u001b[38;5;124m\"\u001b[39m)\n",
      "\u001b[1;31mAttributeError\u001b[0m: 'list' object has no attribute 'join'"
     ]
    }
   ],
   "source": [
    "a=\"\"\n",
    "list_a=[\"My\",\"name\",\"is\",\"Bhushan\"]               #Splitting on _ and storing in list\n",
    "list_a.join(\",\")"
   ]
  },
  {
   "cell_type": "markdown",
   "id": "ff0664a0",
   "metadata": {},
   "source": [
    "### find()"
   ]
  },
  {
   "cell_type": "code",
   "execution_count": 9,
   "id": "ffa9387d",
   "metadata": {},
   "outputs": [
    {
     "data": {
      "text/plain": [
       "2"
      ]
     },
     "execution_count": 9,
     "metadata": {},
     "output_type": "execute_result"
    }
   ],
   "source": [
    "string=\"This is a random string\"\n",
    "string.find(\"is\")                 #Finding first occurence of 'is'"
   ]
  },
  {
   "cell_type": "code",
   "execution_count": 10,
   "id": "456499e8",
   "metadata": {},
   "outputs": [
    {
     "data": {
      "text/plain": [
       "13"
      ]
     },
     "execution_count": 10,
     "metadata": {},
     "output_type": "execute_result"
    }
   ],
   "source": [
    "string.find(\"do\")"
   ]
  },
  {
   "cell_type": "code",
   "execution_count": 11,
   "id": "0393869b",
   "metadata": {},
   "outputs": [
    {
     "data": {
      "text/plain": [
       "-1"
      ]
     },
     "execution_count": 11,
     "metadata": {},
     "output_type": "execute_result"
    }
   ],
   "source": [
    "string.find(\"B\")                  #Returns -1 if no such a character or list of characters present."
   ]
  },
  {
   "cell_type": "code",
   "execution_count": 12,
   "id": "901d26e3",
   "metadata": {},
   "outputs": [
    {
     "data": {
      "text/plain": [
       "6"
      ]
     },
     "execution_count": 12,
     "metadata": {},
     "output_type": "execute_result"
    }
   ],
   "source": [
    "random=\"Hello harry\"\n",
    "random.find(\"h\")"
   ]
  },
  {
   "cell_type": "markdown",
   "id": "396d2505",
   "metadata": {},
   "source": [
    "### replace()"
   ]
  },
  {
   "cell_type": "code",
   "execution_count": 13,
   "id": "ebb22cd7",
   "metadata": {},
   "outputs": [
    {
     "data": {
      "text/plain": [
       "'My name is Rockstar'"
      ]
     },
     "execution_count": 13,
     "metadata": {},
     "output_type": "execute_result"
    }
   ],
   "source": [
    "string=\"My name is Bhushan\"\n",
    "string.replace(\"Bhushan\",\"Rockstar\")"
   ]
  },
  {
   "cell_type": "code",
   "execution_count": 16,
   "id": "8c2e1646",
   "metadata": {},
   "outputs": [
    {
     "name": "stdout",
     "output_type": "stream",
     "text": [
      "Old String: My name is Bhushan\n",
      "New String: My name is Rockstar\n"
     ]
    }
   ],
   "source": [
    "string=\"My name is Bhushan\"\n",
    "string1=string.replace(\"Bhushan\",\"Rockstar\")\n",
    "print(f\"Old String: {string}\\nNew String: {string1}\")"
   ]
  },
  {
   "cell_type": "markdown",
   "id": "2e2e5a84",
   "metadata": {},
   "source": [
    "### count()"
   ]
  },
  {
   "cell_type": "code",
   "execution_count": 19,
   "id": "9e57d799",
   "metadata": {},
   "outputs": [
    {
     "data": {
      "text/plain": [
       "1"
      ]
     },
     "execution_count": 19,
     "metadata": {},
     "output_type": "execute_result"
    }
   ],
   "source": [
    "string=\"Python is easy but Java is not\"\n",
    "string.count(\"Java\")"
   ]
  },
  {
   "cell_type": "code",
   "execution_count": 20,
   "id": "0f6722e6",
   "metadata": {},
   "outputs": [
    {
     "data": {
      "text/plain": [
       "2"
      ]
     },
     "execution_count": 20,
     "metadata": {},
     "output_type": "execute_result"
    }
   ],
   "source": [
    "string=\"Python is easy but Java is not\"\n",
    "string.count(\"is\")"
   ]
  },
  {
   "cell_type": "markdown",
   "id": "9619e520",
   "metadata": {},
   "source": [
    "### Membership Operator"
   ]
  },
  {
   "cell_type": "code",
   "execution_count": 29,
   "id": "d7f9016c",
   "metadata": {},
   "outputs": [
    {
     "data": {
      "text/plain": [
       "False"
      ]
     },
     "execution_count": 29,
     "metadata": {},
     "output_type": "execute_result"
    }
   ],
   "source": [
    "\"This is Amazing\" == \"Amazing\""
   ]
  },
  {
   "cell_type": "code",
   "execution_count": null,
   "id": "f43fdffa",
   "metadata": {},
   "outputs": [],
   "source": [
    "\"Amazing\" in \"T\""
   ]
  }
 ],
 "metadata": {
  "kernelspec": {
   "display_name": "Python 3 (ipykernel)",
   "language": "python",
   "name": "python3"
  },
  "language_info": {
   "codemirror_mode": {
    "name": "ipython",
    "version": 3
   },
   "file_extension": ".py",
   "mimetype": "text/x-python",
   "name": "python",
   "nbconvert_exporter": "python",
   "pygments_lexer": "ipython3",
   "version": "3.11.5"
  }
 },
 "nbformat": 4,
 "nbformat_minor": 5
}
