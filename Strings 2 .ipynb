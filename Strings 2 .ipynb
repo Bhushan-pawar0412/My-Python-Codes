{
 "cells": [
  {
   "cell_type": "code",
   "execution_count": 1,
   "id": "e224d872",
   "metadata": {},
   "outputs": [],
   "source": [
    "random=\"My_name_is_Bhushan\"            #string is _ separated\n",
    "list_a=random.split(\"_\")               #Splitting on _ and storing in list"
   ]
  },
  {
   "cell_type": "code",
   "execution_count": 2,
   "id": "8192622f",
   "metadata": {},
   "outputs": [
    {
     "name": "stdout",
     "output_type": "stream",
     "text": [
      "['My', 'name', 'is', 'Bhushan']\n"
     ]
    }
   ],
   "source": [
    "print(list_a)"
   ]
  },
  {
   "cell_type": "code",
   "execution_count": 3,
   "id": "ab0a7ad4",
   "metadata": {},
   "outputs": [],
   "source": [
    "string=' '.join(list_a)                #Re-joining list elements space separated and stored as string"
   ]
  },
  {
   "cell_type": "code",
   "execution_count": 4,
   "id": "8c537e91",
   "metadata": {},
   "outputs": [
    {
     "name": "stdout",
     "output_type": "stream",
     "text": [
      "My name is Bhushan\n"
     ]
    }
   ],
   "source": [
    "print(string)"
   ]
  },
  {
   "cell_type": "markdown",
   "id": "dee5be1a",
   "metadata": {},
   "source": [
    "### List don't have join attribute."
   ]
  },
  {
   "cell_type": "code",
   "execution_count": 8,
   "id": "eabd7298",
   "metadata": {},
   "outputs": [
    {
     "ename": "AttributeError",
     "evalue": "'list' object has no attribute 'join'",
     "output_type": "error",
     "traceback": [
      "\u001b[1;31m---------------------------------------------------------------------------\u001b[0m",
      "\u001b[1;31mAttributeError\u001b[0m                            Traceback (most recent call last)",
      "Cell \u001b[1;32mIn[8], line 3\u001b[0m\n\u001b[0;32m      1\u001b[0m a\u001b[38;5;241m=\u001b[39m\u001b[38;5;124m\"\u001b[39m\u001b[38;5;124m\"\u001b[39m\n\u001b[0;32m      2\u001b[0m list_a\u001b[38;5;241m=\u001b[39m[\u001b[38;5;124m\"\u001b[39m\u001b[38;5;124mMy\u001b[39m\u001b[38;5;124m\"\u001b[39m,\u001b[38;5;124m\"\u001b[39m\u001b[38;5;124mname\u001b[39m\u001b[38;5;124m\"\u001b[39m,\u001b[38;5;124m\"\u001b[39m\u001b[38;5;124mis\u001b[39m\u001b[38;5;124m\"\u001b[39m,\u001b[38;5;124m\"\u001b[39m\u001b[38;5;124mBhushan\u001b[39m\u001b[38;5;124m\"\u001b[39m]               \u001b[38;5;66;03m#Splitting on _ and storing in list\u001b[39;00m\n\u001b[1;32m----> 3\u001b[0m list_a\u001b[38;5;241m.\u001b[39mjoin(\u001b[38;5;124m\"\u001b[39m\u001b[38;5;124m,\u001b[39m\u001b[38;5;124m\"\u001b[39m)\n",
      "\u001b[1;31mAttributeError\u001b[0m: 'list' object has no attribute 'join'"
     ]
    }
   ],
   "source": [
    "a=\"\"\n",
    "list_a=[\"My\",\"name\",\"is\",\"Bhushan\"]               #Splitting on _ and storing in list\n",
    "list_a.join(\",\")"
   ]
  },
  {
   "cell_type": "markdown",
   "id": "cc0ecb3f",
   "metadata": {},
   "source": [
    "### find()"
   ]
  },
  {
   "cell_type": "code",
   "execution_count": 9,
   "id": "b3a385d9",
   "metadata": {},
   "outputs": [
    {
     "data": {
      "text/plain": [
       "2"
      ]
     },
     "execution_count": 9,
     "metadata": {},
     "output_type": "execute_result"
    }
   ],
   "source": [
    "string=\"This is a random string\"\n",
    "string.find(\"is\")                 #Finding first occurence of 'is'"
   ]
  },
  {
   "cell_type": "code",
   "execution_count": 10,
   "id": "44f5abf6",
   "metadata": {},
   "outputs": [
    {
     "data": {
      "text/plain": [
       "13"
      ]
     },
     "execution_count": 10,
     "metadata": {},
     "output_type": "execute_result"
    }
   ],
   "source": [
    "string.find(\"do\")"
   ]
  },
  {
   "cell_type": "code",
   "execution_count": 11,
   "id": "f2501a65",
   "metadata": {},
   "outputs": [
    {
     "data": {
      "text/plain": [
       "-1"
      ]
     },
     "execution_count": 11,
     "metadata": {},
     "output_type": "execute_result"
    }
   ],
   "source": [
    "string.find(\"B\")                  #Returns -1 if no such a character or list of characters present."
   ]
  },
  {
   "cell_type": "code",
   "execution_count": 12,
   "id": "33b56f66",
   "metadata": {},
   "outputs": [
    {
     "data": {
      "text/plain": [
       "6"
      ]
     },
     "execution_count": 12,
     "metadata": {},
     "output_type": "execute_result"
    }
   ],
   "source": [
    "random=\"Hello harry\"\n",
    "random.find(\"h\")"
   ]
  },
  {
   "cell_type": "markdown",
   "id": "57556cf6",
   "metadata": {},
   "source": [
    "### replace()"
   ]
  },
  {
   "cell_type": "code",
   "execution_count": 13,
   "id": "cb3d3fe5",
   "metadata": {},
   "outputs": [
    {
     "data": {
      "text/plain": [
       "'My name is Rockstar'"
      ]
     },
     "execution_count": 13,
     "metadata": {},
     "output_type": "execute_result"
    }
   ],
   "source": [
    "string=\"My name is Bhushan\"\n",
    "string.replace(\"Bhushan\",\"Rockstar\")"
   ]
  },
  {
   "cell_type": "code",
   "execution_count": 16,
   "id": "ed745c4a",
   "metadata": {},
   "outputs": [
    {
     "name": "stdout",
     "output_type": "stream",
     "text": [
      "Old String: My name is Bhushan\n",
      "New String: My name is Rockstar\n"
     ]
    }
   ],
   "source": [
    "string=\"My name is Bhushan\"\n",
    "string1=string.replace(\"Bhushan\",\"Rockstar\")\n",
    "print(f\"Old String: {string}\\nNew String: {string1}\")"
   ]
  },
  {
   "cell_type": "markdown",
   "id": "798a3d64",
   "metadata": {},
   "source": [
    "### count()"
   ]
  },
  {
   "cell_type": "code",
   "execution_count": 19,
   "id": "d22be945",
   "metadata": {},
   "outputs": [
    {
     "data": {
      "text/plain": [
       "1"
      ]
     },
     "execution_count": 19,
     "metadata": {},
     "output_type": "execute_result"
    }
   ],
   "source": [
    "string=\"Python is easy but Java is not\"\n",
    "string.count(\"Java\")"
   ]
  },
  {
   "cell_type": "code",
   "execution_count": 20,
   "id": "a917aaf6",
   "metadata": {},
   "outputs": [
    {
     "data": {
      "text/plain": [
       "2"
      ]
     },
     "execution_count": 20,
     "metadata": {},
     "output_type": "execute_result"
    }
   ],
   "source": [
    "string=\"Python is easy but Java is not\"\n",
    "string.count(\"is\")"
   ]
  },
  {
   "cell_type": "markdown",
   "id": "a0bb945c",
   "metadata": {},
   "source": [
    "### Membership Operator"
   ]
  },
  {
   "cell_type": "code",
   "execution_count": 29,
   "id": "472e0e83",
   "metadata": {},
   "outputs": [
    {
     "data": {
      "text/plain": [
       "False"
      ]
     },
     "execution_count": 29,
     "metadata": {},
     "output_type": "execute_result"
    }
   ],
   "source": [
    "\"This is Amazing\" == \"Amazing\""
   ]
  },
  {
   "cell_type": "code",
   "execution_count": 30,
   "id": "be6362df",
   "metadata": {},
   "outputs": [
    {
     "data": {
      "text/plain": [
       "True"
      ]
     },
     "execution_count": 30,
     "metadata": {},
     "output_type": "execute_result"
    }
   ],
   "source": [
    "\"Amazing\" in \"This is Amazing\""
   ]
  },
  {
   "cell_type": "markdown",
   "id": "2a03202d",
   "metadata": {},
   "source": [
    "### Important In-Built functions"
   ]
  },
  {
   "cell_type": "code",
   "execution_count": 31,
   "id": "4fa52a0b",
   "metadata": {},
   "outputs": [
    {
     "data": {
      "text/plain": [
       "True"
      ]
     },
     "execution_count": 31,
     "metadata": {},
     "output_type": "execute_result"
    }
   ],
   "source": [
    "\"6\".isdigit()"
   ]
  },
  {
   "cell_type": "code",
   "execution_count": 32,
   "id": "c598d7f5",
   "metadata": {},
   "outputs": [
    {
     "data": {
      "text/plain": [
       "False"
      ]
     },
     "execution_count": 32,
     "metadata": {},
     "output_type": "execute_result"
    }
   ],
   "source": [
    "\"a\".isdigit()"
   ]
  },
  {
   "cell_type": "code",
   "execution_count": 42,
   "id": "6bd32251",
   "metadata": {},
   "outputs": [
    {
     "data": {
      "text/plain": [
       "True"
      ]
     },
     "execution_count": 42,
     "metadata": {},
     "output_type": "execute_result"
    }
   ],
   "source": [
    "\"123\".isdigit()"
   ]
  },
  {
   "cell_type": "code",
   "execution_count": 33,
   "id": "99c48e04",
   "metadata": {},
   "outputs": [
    {
     "data": {
      "text/plain": [
       "False"
      ]
     },
     "execution_count": 33,
     "metadata": {},
     "output_type": "execute_result"
    }
   ],
   "source": [
    "\"0\".isalpha()"
   ]
  },
  {
   "cell_type": "code",
   "execution_count": 34,
   "id": "9091052a",
   "metadata": {},
   "outputs": [
    {
     "data": {
      "text/plain": [
       "True"
      ]
     },
     "execution_count": 34,
     "metadata": {},
     "output_type": "execute_result"
    }
   ],
   "source": [
    "\"f\".isalpha()"
   ]
  },
  {
   "cell_type": "code",
   "execution_count": 43,
   "id": "752f5e96",
   "metadata": {},
   "outputs": [
    {
     "data": {
      "text/plain": [
       "True"
      ]
     },
     "execution_count": 43,
     "metadata": {},
     "output_type": "execute_result"
    }
   ],
   "source": [
    "\"def\".isalpha()"
   ]
  },
  {
   "cell_type": "code",
   "execution_count": 35,
   "id": "9f302a45",
   "metadata": {},
   "outputs": [
    {
     "data": {
      "text/plain": [
       "False"
      ]
     },
     "execution_count": 35,
     "metadata": {},
     "output_type": "execute_result"
    }
   ],
   "source": [
    "\"F2\".isdigit()"
   ]
  },
  {
   "cell_type": "code",
   "execution_count": 36,
   "id": "ae10ef99",
   "metadata": {},
   "outputs": [
    {
     "data": {
      "text/plain": [
       "False"
      ]
     },
     "execution_count": 36,
     "metadata": {},
     "output_type": "execute_result"
    }
   ],
   "source": [
    "\"F2\".isalpha()"
   ]
  },
  {
   "cell_type": "code",
   "execution_count": 37,
   "id": "b4e83839",
   "metadata": {},
   "outputs": [
    {
     "data": {
      "text/plain": [
       "False"
      ]
     },
     "execution_count": 37,
     "metadata": {},
     "output_type": "execute_result"
    }
   ],
   "source": [
    "\"A\".islower()"
   ]
  },
  {
   "cell_type": "code",
   "execution_count": 38,
   "id": "44887943",
   "metadata": {},
   "outputs": [
    {
     "data": {
      "text/plain": [
       "True"
      ]
     },
     "execution_count": 38,
     "metadata": {},
     "output_type": "execute_result"
    }
   ],
   "source": [
    "\"A\".isupper()"
   ]
  },
  {
   "cell_type": "code",
   "execution_count": 39,
   "id": "45a738e1",
   "metadata": {},
   "outputs": [
    {
     "data": {
      "text/plain": [
       "True"
      ]
     },
     "execution_count": 39,
     "metadata": {},
     "output_type": "execute_result"
    }
   ],
   "source": [
    "\" \".isspace()"
   ]
  },
  {
   "cell_type": "code",
   "execution_count": 40,
   "id": "a976b574",
   "metadata": {},
   "outputs": [
    {
     "data": {
      "text/plain": [
       "False"
      ]
     },
     "execution_count": 40,
     "metadata": {},
     "output_type": "execute_result"
    }
   ],
   "source": [
    "\"_\".isspace()"
   ]
  },
  {
   "cell_type": "code",
   "execution_count": 41,
   "id": "98f82929",
   "metadata": {},
   "outputs": [
    {
     "data": {
      "text/plain": [
       "True"
      ]
     },
     "execution_count": 41,
     "metadata": {},
     "output_type": "execute_result"
    }
   ],
   "source": [
    "\"  \".isspace()"
   ]
  },
  {
   "cell_type": "markdown",
   "id": "255f2bce",
   "metadata": {},
   "source": [
    "### Given a space separated string, convert it to underscore separated string. "
   ]
  },
  {
   "cell_type": "code",
   "execution_count": 44,
   "id": "2567431a",
   "metadata": {},
   "outputs": [
    {
     "name": "stdout",
     "output_type": "stream",
     "text": [
      "Enter a space separted string: My name is Bhushan\n"
     ]
    },
    {
     "data": {
      "text/plain": [
       "'My_name_is_Bhushan'"
      ]
     },
     "execution_count": 44,
     "metadata": {},
     "output_type": "execute_result"
    }
   ],
   "source": [
    "string=input(\"Enter a space separted string: \")\n",
    "list_a=string.split(\" \")\n",
    "\"_\".join(list_a)"
   ]
  },
  {
   "cell_type": "code",
   "execution_count": 48,
   "id": "b5e4abe2",
   "metadata": {},
   "outputs": [
    {
     "name": "stdout",
     "output_type": "stream",
     "text": [
      "Enter a space separted string: my name is bhushan\n",
      "my_name_is_bhushan\n"
     ]
    }
   ],
   "source": [
    "string=input(\"Enter a space separted string: \")\n",
    "new_string=\"\"\n",
    "for i in string:\n",
    "    if i.isspace() == True:\n",
    "        new_string+=\"_\"\n",
    "    else:\n",
    "        new_string+=i\n",
    "print(new_string)"
   ]
  }
 ],
 "metadata": {
  "kernelspec": {
   "display_name": "Python 3 (ipykernel)",
   "language": "python",
   "name": "python3"
  },
  "language_info": {
   "codemirror_mode": {
    "name": "ipython",
    "version": 3
   },
   "file_extension": ".py",
   "mimetype": "text/x-python",
   "name": "python",
   "nbconvert_exporter": "python",
   "pygments_lexer": "ipython3",
   "version": "3.11.5"
  }
 },
 "nbformat": 4,
 "nbformat_minor": 5
}
