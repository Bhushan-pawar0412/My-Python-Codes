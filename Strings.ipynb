{
 "cells": [
  {
   "cell_type": "code",
   "execution_count": 1,
   "id": "6042318d",
   "metadata": {},
   "outputs": [],
   "source": [
    "fname=\"Bhushan\"\n",
    "lname=\"Pawar\""
   ]
  },
  {
   "cell_type": "code",
   "execution_count": 3,
   "id": "a35abaa0",
   "metadata": {},
   "outputs": [
    {
     "name": "stdout",
     "output_type": "stream",
     "text": [
      "First Name is 'Bhushan' and Last Name is 'Pawar'\n"
     ]
    }
   ],
   "source": [
    "print(f\"First Name is '{fname}' and Last Name is '{lname}'\")"
   ]
  },
  {
   "cell_type": "markdown",
   "id": "dc29e138",
   "metadata": {},
   "source": [
    "### String Operations "
   ]
  },
  {
   "cell_type": "code",
   "execution_count": 5,
   "id": "18ac2ddf",
   "metadata": {},
   "outputs": [
    {
     "name": "stdout",
     "output_type": "stream",
     "text": [
      "Name is Bhushan Pawar\n"
     ]
    }
   ],
   "source": [
    "#Concatenation\n",
    "name=fname+\" \"+lname\n",
    "print(f\"Name is {name}\")"
   ]
  },
  {
   "cell_type": "code",
   "execution_count": 6,
   "id": "b9ebed91",
   "metadata": {},
   "outputs": [
    {
     "data": {
      "text/plain": [
       "'BhushanBhushanBhushanBhushanBhushan'"
      ]
     },
     "execution_count": 6,
     "metadata": {},
     "output_type": "execute_result"
    }
   ],
   "source": [
    "#Multiplication\n",
    "fname*5"
   ]
  },
  {
   "cell_type": "code",
   "execution_count": 7,
   "id": "6c73fb96",
   "metadata": {},
   "outputs": [
    {
     "data": {
      "text/plain": [
       "True"
      ]
     },
     "execution_count": 7,
     "metadata": {},
     "output_type": "execute_result"
    }
   ],
   "source": [
    "#Comparison\n",
    "\"b\" < \"c\""
   ]
  },
  {
   "cell_type": "code",
   "execution_count": 10,
   "id": "c193ceac",
   "metadata": {},
   "outputs": [
    {
     "data": {
      "text/plain": [
       "False"
      ]
     },
     "execution_count": 10,
     "metadata": {},
     "output_type": "execute_result"
    }
   ],
   "source": [
    "\"B\" > \"b\"               #ASCII value of b is greater than ASCII value of B."
   ]
  },
  {
   "cell_type": "code",
   "execution_count": 11,
   "id": "41d6da57",
   "metadata": {},
   "outputs": [
    {
     "data": {
      "text/plain": [
       "66"
      ]
     },
     "execution_count": 11,
     "metadata": {},
     "output_type": "execute_result"
    }
   ],
   "source": [
    "ord(\"B\")"
   ]
  },
  {
   "cell_type": "code",
   "execution_count": 12,
   "id": "194583f7",
   "metadata": {},
   "outputs": [
    {
     "data": {
      "text/plain": [
       "98"
      ]
     },
     "execution_count": 12,
     "metadata": {},
     "output_type": "execute_result"
    }
   ],
   "source": [
    "ord(\"b\")"
   ]
  },
  {
   "cell_type": "code",
   "execution_count": 14,
   "id": "83abc32e",
   "metadata": {},
   "outputs": [
    {
     "data": {
      "text/plain": [
       "False"
      ]
     },
     "execution_count": 14,
     "metadata": {},
     "output_type": "execute_result"
    }
   ],
   "source": [
    "\"abc\" > \"adb\"           #Lexiographical Order. Firstly it will compare first character of both strings, then second character."
   ]
  },
  {
   "cell_type": "code",
   "execution_count": 15,
   "id": "b3ddbc66",
   "metadata": {},
   "outputs": [
    {
     "data": {
      "text/plain": [
       "False"
      ]
     },
     "execution_count": 15,
     "metadata": {},
     "output_type": "execute_result"
    }
   ],
   "source": [
    "\"aBc\" > \"abc\""
   ]
  },
  {
   "cell_type": "code",
   "execution_count": 16,
   "id": "f872adc8",
   "metadata": {},
   "outputs": [
    {
     "data": {
      "text/plain": [
       "True"
      ]
     },
     "execution_count": 16,
     "metadata": {},
     "output_type": "execute_result"
    }
   ],
   "source": [
    "\"ABC\" < \"def\""
   ]
  },
  {
   "cell_type": "code",
   "execution_count": 21,
   "id": "aff2380a",
   "metadata": {},
   "outputs": [
    {
     "name": "stdout",
     "output_type": "stream",
     "text": [
      "ASCII of a is 97\n",
      "ASCII of z is 122\n",
      "ASCII of A is 65\n",
      "ASCII of Z is 90\n"
     ]
    }
   ],
   "source": [
    "print(f\"ASCII of a is {ord('a')}\")\n",
    "print(f\"ASCII of z is {ord('z')}\")\n",
    "print(f\"ASCII of A is {ord('A')}\")\n",
    "print(f\"ASCII of Z is {ord('Z')}\")"
   ]
  },
  {
   "cell_type": "code",
   "execution_count": 25,
   "id": "0fb0b8ee",
   "metadata": {},
   "outputs": [
    {
     "name": "stdout",
     "output_type": "stream",
     "text": [
      "ASCII of a is 97\n",
      "ASCII of b is 98\n",
      "ASCII of c is 99\n",
      "ASCII of d is 100\n",
      "ASCII of e is 101\n",
      "ASCII of f is 102\n",
      "ASCII of g is 103\n",
      "ASCII of h is 104\n",
      "ASCII of i is 105\n",
      "ASCII of j is 106\n",
      "ASCII of k is 107\n",
      "ASCII of l is 108\n",
      "ASCII of m is 109\n",
      "ASCII of n is 110\n",
      "ASCII of o is 111\n",
      "ASCII of p is 112\n",
      "ASCII of q is 113\n",
      "ASCII of r is 114\n",
      "ASCII of s is 115\n",
      "ASCII of t is 116\n",
      "ASCII of u is 117\n",
      "ASCII of v is 118\n",
      "ASCII of w is 119\n",
      "ASCII of x is 120\n",
      "ASCII of y is 121\n",
      "ASCII of z is 122\n"
     ]
    }
   ],
   "source": [
    "for i in range(97,123):\n",
    "    print(f\"ASCII of {chr(i)} is {i}\")"
   ]
  },
  {
   "cell_type": "code",
   "execution_count": 26,
   "id": "d9a5f964",
   "metadata": {},
   "outputs": [
    {
     "name": "stdout",
     "output_type": "stream",
     "text": [
      "ASCII of A is 65\n",
      "ASCII of B is 66\n",
      "ASCII of C is 67\n",
      "ASCII of D is 68\n",
      "ASCII of E is 69\n",
      "ASCII of F is 70\n",
      "ASCII of G is 71\n",
      "ASCII of H is 72\n",
      "ASCII of I is 73\n",
      "ASCII of J is 74\n",
      "ASCII of K is 75\n",
      "ASCII of L is 76\n",
      "ASCII of M is 77\n",
      "ASCII of N is 78\n",
      "ASCII of O is 79\n",
      "ASCII of P is 80\n",
      "ASCII of Q is 81\n",
      "ASCII of R is 82\n",
      "ASCII of S is 83\n",
      "ASCII of T is 84\n",
      "ASCII of U is 85\n",
      "ASCII of V is 86\n",
      "ASCII of W is 87\n",
      "ASCII of X is 88\n",
      "ASCII of Y is 89\n",
      "ASCII of Z is 90\n"
     ]
    }
   ],
   "source": [
    "for i in range(65,91):\n",
    "    print(f\"ASCII of {chr(i)} is {i}\")"
   ]
  },
  {
   "cell_type": "code",
   "execution_count": 28,
   "id": "4cc6c89b",
   "metadata": {},
   "outputs": [
    {
     "data": {
      "text/plain": [
       "49"
      ]
     },
     "execution_count": 28,
     "metadata": {},
     "output_type": "execute_result"
    }
   ],
   "source": [
    "ord('1')"
   ]
  },
  {
   "cell_type": "code",
   "execution_count": 30,
   "id": "99350f30",
   "metadata": {},
   "outputs": [
    {
     "data": {
      "text/plain": [
       "57"
      ]
     },
     "execution_count": 30,
     "metadata": {},
     "output_type": "execute_result"
    }
   ],
   "source": [
    "ord('9')"
   ]
  },
  {
   "cell_type": "code",
   "execution_count": 31,
   "id": "48412906",
   "metadata": {},
   "outputs": [
    {
     "data": {
      "text/plain": [
       "48"
      ]
     },
     "execution_count": 31,
     "metadata": {},
     "output_type": "execute_result"
    }
   ],
   "source": [
    "ord('0')"
   ]
  },
  {
   "cell_type": "markdown",
   "id": "3838b412",
   "metadata": {},
   "source": [
    "### Given a string, print each character in space seperated."
   ]
  },
  {
   "cell_type": "code",
   "execution_count": 33,
   "id": "840f2005",
   "metadata": {},
   "outputs": [
    {
     "name": "stdout",
     "output_type": "stream",
     "text": [
      "Enter a string: Bhushan\n",
      "B  h  u  s  h  a  n  "
     ]
    }
   ],
   "source": [
    "string=input(\"Enter a string: \")\n",
    "for i in string:\n",
    "    print(f\"{i}\",end=\"  \")"
   ]
  },
  {
   "cell_type": "markdown",
   "id": "28edaa83",
   "metadata": {},
   "source": [
    "### Print first and Last Character of given string. "
   ]
  },
  {
   "cell_type": "code",
   "execution_count": 37,
   "id": "3f0bd947",
   "metadata": {},
   "outputs": [
    {
     "name": "stdout",
     "output_type": "stream",
     "text": [
      "First Character of 'Bhushan' is 'B' and Last Character is 'n'\n"
     ]
    }
   ],
   "source": [
    "print(f\"First Character of '{string}' is '{string[0]}' and Last Character is '{string[-1]}'\")"
   ]
  },
  {
   "cell_type": "markdown",
   "id": "d1532151",
   "metadata": {},
   "source": [
    "##"
   ]
  }
 ],
 "metadata": {
  "kernelspec": {
   "display_name": "Python 3 (ipykernel)",
   "language": "python",
   "name": "python3"
  },
  "language_info": {
   "codemirror_mode": {
    "name": "ipython",
    "version": 3
   },
   "file_extension": ".py",
   "mimetype": "text/x-python",
   "name": "python",
   "nbconvert_exporter": "python",
   "pygments_lexer": "ipython3",
   "version": "3.11.5"
  }
 },
 "nbformat": 4,
 "nbformat_minor": 5
}
