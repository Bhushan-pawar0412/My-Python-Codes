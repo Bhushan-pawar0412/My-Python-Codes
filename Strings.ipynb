{
 "cells": [
  {
   "cell_type": "code",
   "execution_count": 1,
   "id": "c6d52156",
   "metadata": {},
   "outputs": [],
   "source": [
    "fname=\"Bhushan\"\n",
    "lname=\"Pawar\""
   ]
  },
  {
   "cell_type": "code",
   "execution_count": 3,
   "id": "e9c00a59",
   "metadata": {},
   "outputs": [
    {
     "name": "stdout",
     "output_type": "stream",
     "text": [
      "First Name is 'Bhushan' and Last Name is 'Pawar'\n"
     ]
    }
   ],
   "source": [
    "print(f\"First Name is '{fname}' and Last Name is '{lname}'\")"
   ]
  },
  {
   "cell_type": "markdown",
   "id": "4165d020",
   "metadata": {},
   "source": [
    "### String Operations "
   ]
  },
  {
   "cell_type": "code",
   "execution_count": 5,
   "id": "c76b4ebf",
   "metadata": {},
   "outputs": [
    {
     "name": "stdout",
     "output_type": "stream",
     "text": [
      "Name is Bhushan Pawar\n"
     ]
    }
   ],
   "source": [
    "#Concatenation\n",
    "name=fname+\" \"+lname\n",
    "print(f\"Name is {name}\")"
   ]
  },
  {
   "cell_type": "code",
   "execution_count": 6,
   "id": "de2977d0",
   "metadata": {},
   "outputs": [
    {
     "data": {
      "text/plain": [
       "'BhushanBhushanBhushanBhushanBhushan'"
      ]
     },
     "execution_count": 6,
     "metadata": {},
     "output_type": "execute_result"
    }
   ],
   "source": [
    "#Multiplication\n",
    "fname*5"
   ]
  },
  {
   "cell_type": "code",
   "execution_count": 7,
   "id": "7e5c8309",
   "metadata": {},
   "outputs": [
    {
     "data": {
      "text/plain": [
       "True"
      ]
     },
     "execution_count": 7,
     "metadata": {},
     "output_type": "execute_result"
    }
   ],
   "source": [
    "#Comparison\n",
    "\"b\" < \"c\""
   ]
  },
  {
   "cell_type": "code",
   "execution_count": 10,
   "id": "3294a71e",
   "metadata": {},
   "outputs": [
    {
     "data": {
      "text/plain": [
       "False"
      ]
     },
     "execution_count": 10,
     "metadata": {},
     "output_type": "execute_result"
    }
   ],
   "source": [
    "\"B\" > \"b\"               #ASCII value of b is greater than ASCII value of B."
   ]
  },
  {
   "cell_type": "code",
   "execution_count": 11,
   "id": "b75dd2ef",
   "metadata": {},
   "outputs": [
    {
     "data": {
      "text/plain": [
       "66"
      ]
     },
     "execution_count": 11,
     "metadata": {},
     "output_type": "execute_result"
    }
   ],
   "source": [
    "ord(\"B\")"
   ]
  },
  {
   "cell_type": "code",
   "execution_count": 12,
   "id": "990f88a4",
   "metadata": {},
   "outputs": [
    {
     "data": {
      "text/plain": [
       "98"
      ]
     },
     "execution_count": 12,
     "metadata": {},
     "output_type": "execute_result"
    }
   ],
   "source": [
    "ord(\"b\")"
   ]
  },
  {
   "cell_type": "code",
   "execution_count": 14,
   "id": "a7e65737",
   "metadata": {},
   "outputs": [
    {
     "data": {
      "text/plain": [
       "False"
      ]
     },
     "execution_count": 14,
     "metadata": {},
     "output_type": "execute_result"
    }
   ],
   "source": [
    "\"abc\" > \"adb\"           #Lexiographical Order. Firstly it will compare first character of both strings, then second character."
   ]
  },
  {
   "cell_type": "code",
   "execution_count": 15,
   "id": "8367c6f3",
   "metadata": {},
   "outputs": [
    {
     "data": {
      "text/plain": [
       "False"
      ]
     },
     "execution_count": 15,
     "metadata": {},
     "output_type": "execute_result"
    }
   ],
   "source": [
    "\"aBc\" > \"abc\""
   ]
  },
  {
   "cell_type": "code",
   "execution_count": 16,
   "id": "18d313ed",
   "metadata": {},
   "outputs": [
    {
     "data": {
      "text/plain": [
       "True"
      ]
     },
     "execution_count": 16,
     "metadata": {},
     "output_type": "execute_result"
    }
   ],
   "source": [
    "\"ABC\" < \"def\""
   ]
  },
  {
   "cell_type": "code",
   "execution_count": 21,
   "id": "666d4ae6",
   "metadata": {},
   "outputs": [
    {
     "name": "stdout",
     "output_type": "stream",
     "text": [
      "ASCII of a is 97\n",
      "ASCII of z is 122\n",
      "ASCII of A is 65\n",
      "ASCII of Z is 90\n"
     ]
    }
   ],
   "source": [
    "print(f\"ASCII of a is {ord('a')}\")\n",
    "print(f\"ASCII of z is {ord('z')}\")\n",
    "print(f\"ASCII of A is {ord('A')}\")\n",
    "print(f\"ASCII of Z is {ord('Z')}\")"
   ]
  },
  {
   "cell_type": "code",
   "execution_count": 25,
   "id": "5e5348a7",
   "metadata": {},
   "outputs": [
    {
     "name": "stdout",
     "output_type": "stream",
     "text": [
      "ASCII of a is 97\n",
      "ASCII of b is 98\n",
      "ASCII of c is 99\n",
      "ASCII of d is 100\n",
      "ASCII of e is 101\n",
      "ASCII of f is 102\n",
      "ASCII of g is 103\n",
      "ASCII of h is 104\n",
      "ASCII of i is 105\n",
      "ASCII of j is 106\n",
      "ASCII of k is 107\n",
      "ASCII of l is 108\n",
      "ASCII of m is 109\n",
      "ASCII of n is 110\n",
      "ASCII of o is 111\n",
      "ASCII of p is 112\n",
      "ASCII of q is 113\n",
      "ASCII of r is 114\n",
      "ASCII of s is 115\n",
      "ASCII of t is 116\n",
      "ASCII of u is 117\n",
      "ASCII of v is 118\n",
      "ASCII of w is 119\n",
      "ASCII of x is 120\n",
      "ASCII of y is 121\n",
      "ASCII of z is 122\n"
     ]
    }
   ],
   "source": [
    "for i in range(97,123):\n",
    "    print(f\"ASCII of {chr(i)} is {i}\")"
   ]
  },
  {
   "cell_type": "code",
   "execution_count": 26,
   "id": "eb777c97",
   "metadata": {},
   "outputs": [
    {
     "name": "stdout",
     "output_type": "stream",
     "text": [
      "ASCII of A is 65\n",
      "ASCII of B is 66\n",
      "ASCII of C is 67\n",
      "ASCII of D is 68\n",
      "ASCII of E is 69\n",
      "ASCII of F is 70\n",
      "ASCII of G is 71\n",
      "ASCII of H is 72\n",
      "ASCII of I is 73\n",
      "ASCII of J is 74\n",
      "ASCII of K is 75\n",
      "ASCII of L is 76\n",
      "ASCII of M is 77\n",
      "ASCII of N is 78\n",
      "ASCII of O is 79\n",
      "ASCII of P is 80\n",
      "ASCII of Q is 81\n",
      "ASCII of R is 82\n",
      "ASCII of S is 83\n",
      "ASCII of T is 84\n",
      "ASCII of U is 85\n",
      "ASCII of V is 86\n",
      "ASCII of W is 87\n",
      "ASCII of X is 88\n",
      "ASCII of Y is 89\n",
      "ASCII of Z is 90\n"
     ]
    }
   ],
   "source": [
    "for i in range(65,91):\n",
    "    print(f\"ASCII of {chr(i)} is {i}\")"
   ]
  },
  {
   "cell_type": "code",
   "execution_count": 28,
   "id": "78d68a54",
   "metadata": {},
   "outputs": [
    {
     "data": {
      "text/plain": [
       "49"
      ]
     },
     "execution_count": 28,
     "metadata": {},
     "output_type": "execute_result"
    }
   ],
   "source": [
    "ord('1')"
   ]
  },
  {
   "cell_type": "code",
   "execution_count": 30,
   "id": "8542ce67",
   "metadata": {},
   "outputs": [
    {
     "data": {
      "text/plain": [
       "57"
      ]
     },
     "execution_count": 30,
     "metadata": {},
     "output_type": "execute_result"
    }
   ],
   "source": [
    "ord('9')"
   ]
  },
  {
   "cell_type": "code",
   "execution_count": 31,
   "id": "3feb1fd3",
   "metadata": {},
   "outputs": [
    {
     "data": {
      "text/plain": [
       "48"
      ]
     },
     "execution_count": 31,
     "metadata": {},
     "output_type": "execute_result"
    }
   ],
   "source": [
    "ord('0')"
   ]
  },
  {
   "cell_type": "markdown",
   "id": "35187c18",
   "metadata": {},
   "source": [
    "### Given a string, print each character in space seperated."
   ]
  },
  {
   "cell_type": "code",
   "execution_count": 33,
   "id": "325f6e64",
   "metadata": {},
   "outputs": [
    {
     "name": "stdout",
     "output_type": "stream",
     "text": [
      "Enter a string: Bhushan\n",
      "B  h  u  s  h  a  n  "
     ]
    }
   ],
   "source": [
    "string=input(\"Enter a string: \")\n",
    "for i in string:\n",
    "    print(f\"{i}\",end=\"  \")"
   ]
  },
  {
   "cell_type": "markdown",
   "id": "aead3a2d",
   "metadata": {},
   "source": [
    "### Print first and Last Character of given string. "
   ]
  },
  {
   "cell_type": "code",
   "execution_count": 37,
   "id": "c9055d7f",
   "metadata": {},
   "outputs": [
    {
     "name": "stdout",
     "output_type": "stream",
     "text": [
      "First Character of 'Bhushan' is 'B' and Last Character is 'n'\n"
     ]
    }
   ],
   "source": [
    "print(f\"First Character of '{string}' is '{string[0]}' and Last Character is '{string[-1]}'\")"
   ]
  },
  {
   "cell_type": "markdown",
   "id": "3235c0f6",
   "metadata": {},
   "source": [
    "### String Formatting"
   ]
  },
  {
   "cell_type": "code",
   "execution_count": 44,
   "id": "de3dff56",
   "metadata": {},
   "outputs": [
    {
     "name": "stdout",
     "output_type": "stream",
     "text": [
      "First Name is  Bhushan and Last Name is  Pawar\n",
      "First Name is 'Bhushan' and Last Name is 'Pawar'\n",
      "First Name is 'Bhushan' and Last Name is 'Pawar'\n"
     ]
    }
   ],
   "source": [
    "fname=\"Bhushan\"\n",
    "lname=\"Pawar\"\n",
    "print(\"First Name is \",fname,\"and Last Name is \",lname)\n",
    "print(\"First Name is '{}' and Last Name is '{}'\".format(fname,lname))\n",
    "print(f\"First Name is '{fname}' and Last Name is '{lname}'\")"
   ]
  },
  {
   "cell_type": "code",
   "execution_count": 47,
   "id": "6522a11e",
   "metadata": {},
   "outputs": [
    {
     "name": "stdout",
     "output_type": "stream",
     "text": [
      "Enter a String: nikita\n",
      "Reversed String is atikin\n"
     ]
    }
   ],
   "source": [
    "#Reverse of String\n",
    "string=input(\"Enter a String: \")\n",
    "print(f\"Reversed String is {string[::-1]}\")"
   ]
  },
  {
   "cell_type": "markdown",
   "id": "f76d03ff",
   "metadata": {},
   "source": [
    "### Given a string, check whether string is palindrome or not?"
   ]
  },
  {
   "cell_type": "code",
   "execution_count": 66,
   "id": "1a375fe3",
   "metadata": {},
   "outputs": [
    {
     "name": "stdout",
     "output_type": "stream",
     "text": [
      "Enter a String: nayan\n",
      "Reversed String is nayan\n",
      "String is Palindrome\n"
     ]
    }
   ],
   "source": [
    "string=input(\"Enter a String: \")\n",
    "reversed_string=string[::-1]\n",
    "print(f\"Reversed String is {reversed_string}\")\n",
    "n=len(string)\n",
    "for i in range(len(string)):\n",
    "    if string[i] == reversed_string[i]:\n",
    "        if i==n-1:\n",
    "            print(\"String is Palindrome\")\n",
    "        else:\n",
    "            continue\n",
    "    else:\n",
    "        print(\"Not a Palidrom String\")\n",
    "        break\n"
   ]
  },
  {
   "cell_type": "markdown",
   "id": "e4dc2a64",
   "metadata": {},
   "source": [
    "### Given a string, count no of upper case characters in string"
   ]
  },
  {
   "cell_type": "code",
   "execution_count": 69,
   "id": "09ef26bb",
   "metadata": {},
   "outputs": [
    {
     "name": "stdout",
     "output_type": "stream",
     "text": [
      "Enter a string: NayaN\n",
      "from NayaN, \n",
      "No of Upper Case Characters are 2 whereas \n",
      "No fo Lower Case Characters are 3\n"
     ]
    }
   ],
   "source": [
    "string=input(\"Enter a string: \")\n",
    "upper_count=0\n",
    "lower_count=0\n",
    "for i in string:\n",
    "    if 90 >= ord(i) >= 65:\n",
    "        upper_count+=1\n",
    "    else:\n",
    "        lower_count+=1\n",
    "print(f\"from {string}, \\nNo of Upper Case Characters are {upper_count} whereas \\nNo fo Lower Case Characters are {lower_count}\")"
   ]
  },
  {
   "cell_type": "code",
   "execution_count": 70,
   "id": "f0d25269",
   "metadata": {},
   "outputs": [
    {
     "name": "stdout",
     "output_type": "stream",
     "text": [
      "Enter a string: Nayan\n",
      "from Nayan, \n",
      "No of Upper Case Characters are 1 whereas \n",
      "No fo Lower Case Characters are 4\n"
     ]
    }
   ],
   "source": [
    "string=input(\"Enter a string: \")\n",
    "upper_count=0\n",
    "lower_count=0\n",
    "for i in string:\n",
    "    if i.isupper() == True:\n",
    "        upper_count+=1\n",
    "    else:\n",
    "        lower_count+=1\n",
    "print(f\"from {string}, \\nNo of Upper Case Characters are {upper_count} whereas \\nNo fo Lower Case Characters are {lower_count}\")"
   ]
  },
  {
   "cell_type": "markdown",
   "id": "cfc3d74e",
   "metadata": {},
   "source": [
    "### Take a string as input and convert it into Upper Case."
   ]
  },
  {
   "cell_type": "code",
   "execution_count": 92,
   "id": "d3f03928",
   "metadata": {},
   "outputs": [
    {
     "name": "stdout",
     "output_type": "stream",
     "text": [
      "Enter a string: My name is Bhushan\n",
      "MY NAME IS BHUSHAN\n"
     ]
    }
   ],
   "source": [
    "string=input(\"Enter a string: \")\n",
    "new_string=\"\"\n",
    "for i in string:\n",
    "    if 65 <= ord(i) <= 90:\n",
    "        new_string+=i\n",
    "    elif 97 <= ord(i) <= 122:\n",
    "        new_string+=chr(ord(i)-32)\n",
    "    else:\n",
    "        new_string+=i\n",
    "print(new_string)"
   ]
  },
  {
   "cell_type": "markdown",
   "id": "0d0130e9",
   "metadata": {},
   "source": [
    "### Convert a list of integers to String. (Note: Integers must lie between 65 to 90 and 97 to 122)"
   ]
  },
  {
   "cell_type": "code",
   "execution_count": 79,
   "id": "234eeb56",
   "metadata": {},
   "outputs": [
    {
     "name": "stdout",
     "output_type": "stream",
     "text": [
      "Enter elements separated by space: 66 75 84 69 99\n",
      "List: ['66', '75', '84', '69', '99']\n",
      "BKTEc\n"
     ]
    }
   ],
   "source": [
    "list_a = input(\"Enter elements separated by space: \").split()\n",
    "print(\"List:\", list_a)\n",
    "string=\"\"\n",
    "for i in list_a:\n",
    "    string+=chr(int(i))\n",
    "print(string)"
   ]
  },
  {
   "cell_type": "markdown",
   "id": "5d1fffb7",
   "metadata": {},
   "source": [
    "### Convert a String to list of integers."
   ]
  },
  {
   "cell_type": "code",
   "execution_count": 80,
   "id": "a370ad10",
   "metadata": {},
   "outputs": [
    {
     "name": "stdout",
     "output_type": "stream",
     "text": [
      "Enter a string of integers: 65,95,85,75,48,95\n",
      "Entered String: 65,95,85,75,48,95\n",
      "String Converted to List: ['65', '95', '85', '75', '48', '95'], \n",
      "List of Integer: [65, 95, 85, 75, 48, 95]\n"
     ]
    }
   ],
   "source": [
    "string=input(\"Enter a string of integers: \")\n",
    "lst=string.split(\",\")\n",
    "res=[]\n",
    "for i in lst:\n",
    "    res.append(int(i))\n",
    "print(f\"Entered String: {string}\\nString Converted to List: {lst}, \\nList of Integer: {res}\")"
   ]
  },
  {
   "cell_type": "markdown",
   "id": "702fc6a2",
   "metadata": {},
   "source": [
    "### Convert a comma seperated list of strings to single space seperated string."
   ]
  },
  {
   "cell_type": "code",
   "execution_count": 88,
   "id": "a9140fea",
   "metadata": {},
   "outputs": [
    {
     "name": "stdout",
     "output_type": "stream",
     "text": [
      "Enter elements separated by space: my Name is Bhushan\n",
      "String Converted to List: ['my', 'Name', 'is', 'Bhushan'] <class 'list'>, \n",
      "Final String: my Name is Bhushan <class 'str'>\n"
     ]
    }
   ],
   "source": [
    "list_a = input(\"Enter elements separated by space: \").split()\n",
    "string=' '.join(list_a)\n",
    "print(f\"String Converted to List: {list_a} {type(list_a)}, \\nFinal String: {string} {type(string)}\")"
   ]
  }
 ],
 "metadata": {
  "kernelspec": {
   "display_name": "Python 3 (ipykernel)",
   "language": "python",
   "name": "python3"
  },
  "language_info": {
   "codemirror_mode": {
    "name": "ipython",
    "version": 3
   },
   "file_extension": ".py",
   "mimetype": "text/x-python",
   "name": "python",
   "nbconvert_exporter": "python",
   "pygments_lexer": "ipython3",
   "version": "3.11.5"
  }
 },
 "nbformat": 4,
 "nbformat_minor": 5
}
